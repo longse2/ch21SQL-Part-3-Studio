{
    "metadata": {
        "kernelspec": {
            "name": "SQL",
            "display_name": "SQL",
            "language": "sql"
        },
        "language_info": {
            "name": "sql",
            "version": ""
        },
        "extensions": {
            "azuredatastudio": {
                "version": 1,
                "views": []
            }
        }
    },
    "nbformat_minor": 2,
    "nbformat": 4,
    "cells": [
        {
            "cell_type": "markdown",
            "source": [
                "# SQL Part 3 Studio\n",
                "\n",
                "### Let's practice your SQL quering skills!  For each question, work along in the notebook adding your query and answering the questions. \n",
                "\n",
                "### **DataSet**\n",
                "\n",
                "### <span style=\"font-size: 14px; font-family: -apple-system, BlinkMacSystemFont, sans-serif;\">We will be using the Goodbooks-10k dataset from the exercises in the prep work.&nbsp; Feel free reference your previous notebooks.</span>\n",
                "\n",
                "- The dataset can be found here: [goodbooks-10k](https://www.kaggle.com/zygmunt/goodbooks-10k)\n",
                "- You can access the **BooksDB** in the Launchcode server.\n",
                "\n",
                "### **Business Issue**\n",
                "\n",
                "You are an employee at a small independet bookstore and you have been tasked to increase sales.  You decide to use the BooksDB to find books and themes to highlight in fun promotions throughout each month / season.  We will be starting with March and then you will have a chance to explore another month of your choosing.  We want to come up with a list of events/ promotions to run each month.  If you are looking for ideas to include in your promotions:\n",
                "\n",
                "- [https://www.calendarr.com/united-states/calendar-2022/](https://www.calendarr.com/united-states/calendar-2022/)\n",
                "- [https://www.holidayinsights.com/moreholidays/](https://www.holidayinsights.com/moreholidays/)\n",
                "    - Click on a month and it will take you to a more detailed page"
            ],
            "metadata": {
                "azdata_cell_guid": "b9034d8a-b631-48bf-a895-1012a6ffa784"
            },
            "attachments": {}
        },
        {
            "cell_type": "markdown",
            "source": [
                "## Part 1:  March - Women's History Month, Dr Seuss Day(3/2), National Pie Day3/14, St Patrick's Day (3/17), Season - Spring"
            ],
            "metadata": {
                "azdata_cell_guid": "6e55eb1c-4a14-4076-90d2-95ed17a6309f"
            },
            "attachments": {}
        },
        {
            "cell_type": "markdown",
            "source": [
                "### **Event 1:** Women's History Month\n",
                "\n",
                "Goal: Highlight Popular Womans Authors based on ratings from the Good Reads DB.\n",
                "\n",
                "### **Write a query that returns tag\\_id, the number of times each tag\\_id is used and the tag\\_name.**  \n",
                "\n",
                "### Use the GROUP BY and HAVING clause to narrow your focus.\n",
                "\n",
                "Try multiple keywords, ie woman vs female (female ended up giving better results)"
            ],
            "metadata": {
                "azdata_cell_guid": "d220c097-e9cf-4edd-9abe-312d071217b7"
            },
            "attachments": {}
        },
        {
            "cell_type": "code",
            "source": [
                "-- Solution\r\n",
                "SELECT  bt.tag_id, t.tag_name, [count]\r\n",
                "from BooksDB.dbo.tags as t\r\n",
                "full join BooksDB.dbo.book_tags as bt \r\n",
                "on t.tag_id = bt.tag_id\r\n",
                "group by [count], t.tag_name, bt.tag_id\r\n",
                "having t.tag_name like '%female%'\r\n",
                "order BY [count] desc"
            ],
            "metadata": {
                "azdata_cell_guid": "e31b9d26-0386-44c7-828e-85f4f06f3ee6",
                "language": "sql",
                "tags": []
            },
            "outputs": [
                {
                    "output_type": "display_data",
                    "data": {
                        "text/html": "(310 rows affected)"
                    },
                    "metadata": {}
                },
                {
                    "output_type": "display_data",
                    "data": {
                        "text/html": "Total execution time: 00:00:00.211"
                    },
                    "metadata": {}
                },
                {
                    "output_type": "execute_result",
                    "metadata": {},
                    "execution_count": 12,
                    "data": {
                        "application/vnd.dataresource+json": {
                            "schema": {
                                "fields": [
                                    {
                                        "name": "tag_id"
                                    },
                                    {
                                        "name": "tag_name"
                                    },
                                    {
                                        "name": "count"
                                    }
                                ]
                            },
                            "data": [
                                {
                                    "tag_id": "11644",
                                    "tag_name": "female-authors",
                                    "count": "214"
                                },
                                {
                                    "tag_id": "11643",
                                    "tag_name": "female-author",
                                    "count": "198"
                                },
                                {
                                    "tag_id": "11643",
                                    "tag_name": "female-author",
                                    "count": "194"
                                },
                                {
                                    "tag_id": "11644",
                                    "tag_name": "female-authors",
                                    "count": "170"
                                },
                                {
                                    "tag_id": "11644",
                                    "tag_name": "female-authors",
                                    "count": "158"
                                },
                                {
                                    "tag_id": "11643",
                                    "tag_name": "female-author",
                                    "count": "150"
                                },
                                {
                                    "tag_id": "11644",
                                    "tag_name": "female-authors",
                                    "count": "146"
                                },
                                {
                                    "tag_id": "11643",
                                    "tag_name": "female-author",
                                    "count": "140"
                                },
                                {
                                    "tag_id": "11643",
                                    "tag_name": "female-author",
                                    "count": "137"
                                },
                                {
                                    "tag_id": "11644",
                                    "tag_name": "female-authors",
                                    "count": "128"
                                },
                                {
                                    "tag_id": "11644",
                                    "tag_name": "female-authors",
                                    "count": "120"
                                },
                                {
                                    "tag_id": "11643",
                                    "tag_name": "female-author",
                                    "count": "108"
                                },
                                {
                                    "tag_id": "11644",
                                    "tag_name": "female-authors",
                                    "count": "106"
                                },
                                {
                                    "tag_id": "11643",
                                    "tag_name": "female-author",
                                    "count": "104"
                                },
                                {
                                    "tag_id": "11643",
                                    "tag_name": "female-author",
                                    "count": "103"
                                },
                                {
                                    "tag_id": "11644",
                                    "tag_name": "female-authors",
                                    "count": "102"
                                },
                                {
                                    "tag_id": "11643",
                                    "tag_name": "female-author",
                                    "count": "93"
                                },
                                {
                                    "tag_id": "11644",
                                    "tag_name": "female-authors",
                                    "count": "93"
                                },
                                {
                                    "tag_id": "11643",
                                    "tag_name": "female-author",
                                    "count": "91"
                                },
                                {
                                    "tag_id": "11644",
                                    "tag_name": "female-authors",
                                    "count": "91"
                                },
                                {
                                    "tag_id": "11644",
                                    "tag_name": "female-authors",
                                    "count": "90"
                                },
                                {
                                    "tag_id": "11644",
                                    "tag_name": "female-authors",
                                    "count": "89"
                                },
                                {
                                    "tag_id": "11643",
                                    "tag_name": "female-author",
                                    "count": "87"
                                },
                                {
                                    "tag_id": "11644",
                                    "tag_name": "female-authors",
                                    "count": "84"
                                },
                                {
                                    "tag_id": "11643",
                                    "tag_name": "female-author",
                                    "count": "83"
                                },
                                {
                                    "tag_id": "11644",
                                    "tag_name": "female-authors",
                                    "count": "83"
                                },
                                {
                                    "tag_id": "11643",
                                    "tag_name": "female-author",
                                    "count": "82"
                                },
                                {
                                    "tag_id": "11644",
                                    "tag_name": "female-authors",
                                    "count": "82"
                                },
                                {
                                    "tag_id": "11644",
                                    "tag_name": "female-authors",
                                    "count": "81"
                                },
                                {
                                    "tag_id": "11643",
                                    "tag_name": "female-author",
                                    "count": "79"
                                },
                                {
                                    "tag_id": "11643",
                                    "tag_name": "female-author",
                                    "count": "77"
                                },
                                {
                                    "tag_id": "11643",
                                    "tag_name": "female-author",
                                    "count": "76"
                                },
                                {
                                    "tag_id": "11644",
                                    "tag_name": "female-authors",
                                    "count": "76"
                                },
                                {
                                    "tag_id": "11643",
                                    "tag_name": "female-author",
                                    "count": "75"
                                },
                                {
                                    "tag_id": "11644",
                                    "tag_name": "female-authors",
                                    "count": "75"
                                },
                                {
                                    "tag_id": "11644",
                                    "tag_name": "female-authors",
                                    "count": "72"
                                },
                                {
                                    "tag_id": "11644",
                                    "tag_name": "female-authors",
                                    "count": "71"
                                },
                                {
                                    "tag_id": "11643",
                                    "tag_name": "female-author",
                                    "count": "70"
                                },
                                {
                                    "tag_id": "11643",
                                    "tag_name": "female-author",
                                    "count": "68"
                                },
                                {
                                    "tag_id": "11643",
                                    "tag_name": "female-author",
                                    "count": "67"
                                },
                                {
                                    "tag_id": "11644",
                                    "tag_name": "female-authors",
                                    "count": "67"
                                },
                                {
                                    "tag_id": "11643",
                                    "tag_name": "female-author",
                                    "count": "66"
                                },
                                {
                                    "tag_id": "11644",
                                    "tag_name": "female-authors",
                                    "count": "66"
                                },
                                {
                                    "tag_id": "11643",
                                    "tag_name": "female-author",
                                    "count": "65"
                                },
                                {
                                    "tag_id": "11643",
                                    "tag_name": "female-author",
                                    "count": "64"
                                },
                                {
                                    "tag_id": "11644",
                                    "tag_name": "female-authors",
                                    "count": "64"
                                },
                                {
                                    "tag_id": "11643",
                                    "tag_name": "female-author",
                                    "count": "63"
                                },
                                {
                                    "tag_id": "11644",
                                    "tag_name": "female-authors",
                                    "count": "63"
                                },
                                {
                                    "tag_id": "11644",
                                    "tag_name": "female-authors",
                                    "count": "62"
                                },
                                {
                                    "tag_id": "11658",
                                    "tag_name": "female-protagonist",
                                    "count": "62"
                                },
                                {
                                    "tag_id": "11643",
                                    "tag_name": "female-author",
                                    "count": "61"
                                },
                                {
                                    "tag_id": "11643",
                                    "tag_name": "female-author",
                                    "count": "60"
                                },
                                {
                                    "tag_id": "11644",
                                    "tag_name": "female-authors",
                                    "count": "60"
                                },
                                {
                                    "tag_id": "11643",
                                    "tag_name": "female-author",
                                    "count": "59"
                                },
                                {
                                    "tag_id": "11644",
                                    "tag_name": "female-authors",
                                    "count": "59"
                                },
                                {
                                    "tag_id": "11643",
                                    "tag_name": "female-author",
                                    "count": "58"
                                },
                                {
                                    "tag_id": "11644",
                                    "tag_name": "female-authors",
                                    "count": "58"
                                },
                                {
                                    "tag_id": "11643",
                                    "tag_name": "female-author",
                                    "count": "57"
                                },
                                {
                                    "tag_id": "11644",
                                    "tag_name": "female-authors",
                                    "count": "57"
                                },
                                {
                                    "tag_id": "11644",
                                    "tag_name": "female-authors",
                                    "count": "56"
                                },
                                {
                                    "tag_id": "11643",
                                    "tag_name": "female-author",
                                    "count": "55"
                                },
                                {
                                    "tag_id": "11643",
                                    "tag_name": "female-author",
                                    "count": "54"
                                },
                                {
                                    "tag_id": "11644",
                                    "tag_name": "female-authors",
                                    "count": "54"
                                },
                                {
                                    "tag_id": "11658",
                                    "tag_name": "female-protagonist",
                                    "count": "54"
                                },
                                {
                                    "tag_id": "11643",
                                    "tag_name": "female-author",
                                    "count": "53"
                                },
                                {
                                    "tag_id": "11644",
                                    "tag_name": "female-authors",
                                    "count": "53"
                                },
                                {
                                    "tag_id": "11644",
                                    "tag_name": "female-authors",
                                    "count": "52"
                                },
                                {
                                    "tag_id": "11643",
                                    "tag_name": "female-author",
                                    "count": "51"
                                },
                                {
                                    "tag_id": "11644",
                                    "tag_name": "female-authors",
                                    "count": "51"
                                },
                                {
                                    "tag_id": "11643",
                                    "tag_name": "female-author",
                                    "count": "50"
                                },
                                {
                                    "tag_id": "11644",
                                    "tag_name": "female-authors",
                                    "count": "50"
                                },
                                {
                                    "tag_id": "11658",
                                    "tag_name": "female-protagonist",
                                    "count": "50"
                                },
                                {
                                    "tag_id": "11643",
                                    "tag_name": "female-author",
                                    "count": "49"
                                },
                                {
                                    "tag_id": "11644",
                                    "tag_name": "female-authors",
                                    "count": "49"
                                },
                                {
                                    "tag_id": "11643",
                                    "tag_name": "female-author",
                                    "count": "48"
                                },
                                {
                                    "tag_id": "11644",
                                    "tag_name": "female-authors",
                                    "count": "48"
                                },
                                {
                                    "tag_id": "11658",
                                    "tag_name": "female-protagonist",
                                    "count": "48"
                                },
                                {
                                    "tag_id": "11643",
                                    "tag_name": "female-author",
                                    "count": "47"
                                },
                                {
                                    "tag_id": "11644",
                                    "tag_name": "female-authors",
                                    "count": "47"
                                },
                                {
                                    "tag_id": "11658",
                                    "tag_name": "female-protagonist",
                                    "count": "47"
                                },
                                {
                                    "tag_id": "11643",
                                    "tag_name": "female-author",
                                    "count": "46"
                                },
                                {
                                    "tag_id": "11658",
                                    "tag_name": "female-protagonist",
                                    "count": "46"
                                },
                                {
                                    "tag_id": "11643",
                                    "tag_name": "female-author",
                                    "count": "45"
                                },
                                {
                                    "tag_id": "11643",
                                    "tag_name": "female-author",
                                    "count": "44"
                                },
                                {
                                    "tag_id": "11644",
                                    "tag_name": "female-authors",
                                    "count": "44"
                                },
                                {
                                    "tag_id": "11643",
                                    "tag_name": "female-author",
                                    "count": "43"
                                },
                                {
                                    "tag_id": "11644",
                                    "tag_name": "female-authors",
                                    "count": "43"
                                },
                                {
                                    "tag_id": "11643",
                                    "tag_name": "female-author",
                                    "count": "42"
                                },
                                {
                                    "tag_id": "11644",
                                    "tag_name": "female-authors",
                                    "count": "42"
                                },
                                {
                                    "tag_id": "11658",
                                    "tag_name": "female-protagonist",
                                    "count": "42"
                                },
                                {
                                    "tag_id": "11643",
                                    "tag_name": "female-author",
                                    "count": "41"
                                },
                                {
                                    "tag_id": "11644",
                                    "tag_name": "female-authors",
                                    "count": "41"
                                },
                                {
                                    "tag_id": "11643",
                                    "tag_name": "female-author",
                                    "count": "40"
                                },
                                {
                                    "tag_id": "11644",
                                    "tag_name": "female-authors",
                                    "count": "40"
                                },
                                {
                                    "tag_id": "11643",
                                    "tag_name": "female-author",
                                    "count": "39"
                                },
                                {
                                    "tag_id": "11644",
                                    "tag_name": "female-authors",
                                    "count": "39"
                                },
                                {
                                    "tag_id": "11643",
                                    "tag_name": "female-author",
                                    "count": "38"
                                },
                                {
                                    "tag_id": "11644",
                                    "tag_name": "female-authors",
                                    "count": "38"
                                },
                                {
                                    "tag_id": "11658",
                                    "tag_name": "female-protagonist",
                                    "count": "38"
                                },
                                {
                                    "tag_id": "11643",
                                    "tag_name": "female-author",
                                    "count": "37"
                                },
                                {
                                    "tag_id": "11644",
                                    "tag_name": "female-authors",
                                    "count": "37"
                                },
                                {
                                    "tag_id": "11658",
                                    "tag_name": "female-protagonist",
                                    "count": "37"
                                },
                                {
                                    "tag_id": "11643",
                                    "tag_name": "female-author",
                                    "count": "36"
                                },
                                {
                                    "tag_id": "11644",
                                    "tag_name": "female-authors",
                                    "count": "36"
                                },
                                {
                                    "tag_id": "11658",
                                    "tag_name": "female-protagonist",
                                    "count": "36"
                                },
                                {
                                    "tag_id": "11643",
                                    "tag_name": "female-author",
                                    "count": "35"
                                },
                                {
                                    "tag_id": "11644",
                                    "tag_name": "female-authors",
                                    "count": "35"
                                },
                                {
                                    "tag_id": "11643",
                                    "tag_name": "female-author",
                                    "count": "34"
                                },
                                {
                                    "tag_id": "11644",
                                    "tag_name": "female-authors",
                                    "count": "34"
                                },
                                {
                                    "tag_id": "11643",
                                    "tag_name": "female-author",
                                    "count": "33"
                                },
                                {
                                    "tag_id": "11644",
                                    "tag_name": "female-authors",
                                    "count": "33"
                                },
                                {
                                    "tag_id": "11643",
                                    "tag_name": "female-author",
                                    "count": "32"
                                },
                                {
                                    "tag_id": "11644",
                                    "tag_name": "female-authors",
                                    "count": "32"
                                },
                                {
                                    "tag_id": "11658",
                                    "tag_name": "female-protagonist",
                                    "count": "32"
                                },
                                {
                                    "tag_id": "11643",
                                    "tag_name": "female-author",
                                    "count": "31"
                                },
                                {
                                    "tag_id": "11644",
                                    "tag_name": "female-authors",
                                    "count": "31"
                                },
                                {
                                    "tag_id": "11658",
                                    "tag_name": "female-protagonist",
                                    "count": "31"
                                },
                                {
                                    "tag_id": "11643",
                                    "tag_name": "female-author",
                                    "count": "30"
                                },
                                {
                                    "tag_id": "11644",
                                    "tag_name": "female-authors",
                                    "count": "30"
                                },
                                {
                                    "tag_id": "11658",
                                    "tag_name": "female-protagonist",
                                    "count": "30"
                                },
                                {
                                    "tag_id": "11643",
                                    "tag_name": "female-author",
                                    "count": "29"
                                },
                                {
                                    "tag_id": "11644",
                                    "tag_name": "female-authors",
                                    "count": "29"
                                },
                                {
                                    "tag_id": "11658",
                                    "tag_name": "female-protagonist",
                                    "count": "29"
                                },
                                {
                                    "tag_id": "11643",
                                    "tag_name": "female-author",
                                    "count": "28"
                                },
                                {
                                    "tag_id": "11644",
                                    "tag_name": "female-authors",
                                    "count": "28"
                                },
                                {
                                    "tag_id": "11658",
                                    "tag_name": "female-protagonist",
                                    "count": "28"
                                },
                                {
                                    "tag_id": "11643",
                                    "tag_name": "female-author",
                                    "count": "27"
                                },
                                {
                                    "tag_id": "11644",
                                    "tag_name": "female-authors",
                                    "count": "27"
                                },
                                {
                                    "tag_id": "11658",
                                    "tag_name": "female-protagonist",
                                    "count": "27"
                                },
                                {
                                    "tag_id": "11643",
                                    "tag_name": "female-author",
                                    "count": "26"
                                },
                                {
                                    "tag_id": "11644",
                                    "tag_name": "female-authors",
                                    "count": "26"
                                },
                                {
                                    "tag_id": "11658",
                                    "tag_name": "female-protagonist",
                                    "count": "26"
                                },
                                {
                                    "tag_id": "11643",
                                    "tag_name": "female-author",
                                    "count": "25"
                                },
                                {
                                    "tag_id": "11644",
                                    "tag_name": "female-authors",
                                    "count": "25"
                                },
                                {
                                    "tag_id": "11646",
                                    "tag_name": "female-detective",
                                    "count": "25"
                                },
                                {
                                    "tag_id": "11658",
                                    "tag_name": "female-protagonist",
                                    "count": "25"
                                },
                                {
                                    "tag_id": "11643",
                                    "tag_name": "female-author",
                                    "count": "24"
                                },
                                {
                                    "tag_id": "11644",
                                    "tag_name": "female-authors",
                                    "count": "24"
                                },
                                {
                                    "tag_id": "11658",
                                    "tag_name": "female-protagonist",
                                    "count": "24"
                                },
                                {
                                    "tag_id": "11643",
                                    "tag_name": "female-author",
                                    "count": "23"
                                },
                                {
                                    "tag_id": "11644",
                                    "tag_name": "female-authors",
                                    "count": "23"
                                },
                                {
                                    "tag_id": "11658",
                                    "tag_name": "female-protagonist",
                                    "count": "23"
                                },
                                {
                                    "tag_id": "11643",
                                    "tag_name": "female-author",
                                    "count": "22"
                                },
                                {
                                    "tag_id": "11644",
                                    "tag_name": "female-authors",
                                    "count": "22"
                                },
                                {
                                    "tag_id": "11658",
                                    "tag_name": "female-protagonist",
                                    "count": "22"
                                },
                                {
                                    "tag_id": "11642",
                                    "tag_name": "female",
                                    "count": "21"
                                },
                                {
                                    "tag_id": "11643",
                                    "tag_name": "female-author",
                                    "count": "21"
                                },
                                {
                                    "tag_id": "11644",
                                    "tag_name": "female-authors",
                                    "count": "21"
                                },
                                {
                                    "tag_id": "11656",
                                    "tag_name": "female-pov",
                                    "count": "21"
                                },
                                {
                                    "tag_id": "11658",
                                    "tag_name": "female-protagonist",
                                    "count": "21"
                                },
                                {
                                    "tag_id": "11642",
                                    "tag_name": "female",
                                    "count": "20"
                                },
                                {
                                    "tag_id": "11643",
                                    "tag_name": "female-author",
                                    "count": "20"
                                },
                                {
                                    "tag_id": "11644",
                                    "tag_name": "female-authors",
                                    "count": "20"
                                },
                                {
                                    "tag_id": "11658",
                                    "tag_name": "female-protagonist",
                                    "count": "20"
                                },
                                {
                                    "tag_id": "11662",
                                    "tag_name": "female-writers",
                                    "count": "20"
                                },
                                {
                                    "tag_id": "11643",
                                    "tag_name": "female-author",
                                    "count": "19"
                                },
                                {
                                    "tag_id": "11644",
                                    "tag_name": "female-authors",
                                    "count": "19"
                                },
                                {
                                    "tag_id": "11658",
                                    "tag_name": "female-protagonist",
                                    "count": "19"
                                },
                                {
                                    "tag_id": "11643",
                                    "tag_name": "female-author",
                                    "count": "18"
                                },
                                {
                                    "tag_id": "11644",
                                    "tag_name": "female-authors",
                                    "count": "18"
                                },
                                {
                                    "tag_id": "11658",
                                    "tag_name": "female-protagonist",
                                    "count": "18"
                                },
                                {
                                    "tag_id": "11642",
                                    "tag_name": "female",
                                    "count": "17"
                                },
                                {
                                    "tag_id": "11643",
                                    "tag_name": "female-author",
                                    "count": "17"
                                },
                                {
                                    "tag_id": "11644",
                                    "tag_name": "female-authors",
                                    "count": "17"
                                },
                                {
                                    "tag_id": "11646",
                                    "tag_name": "female-detective",
                                    "count": "17"
                                },
                                {
                                    "tag_id": "11658",
                                    "tag_name": "female-protagonist",
                                    "count": "17"
                                },
                                {
                                    "tag_id": "11642",
                                    "tag_name": "female",
                                    "count": "16"
                                },
                                {
                                    "tag_id": "11643",
                                    "tag_name": "female-author",
                                    "count": "16"
                                },
                                {
                                    "tag_id": "11644",
                                    "tag_name": "female-authors",
                                    "count": "16"
                                },
                                {
                                    "tag_id": "11656",
                                    "tag_name": "female-pov",
                                    "count": "16"
                                },
                                {
                                    "tag_id": "11658",
                                    "tag_name": "female-protagonist",
                                    "count": "16"
                                },
                                {
                                    "tag_id": "11642",
                                    "tag_name": "female",
                                    "count": "15"
                                },
                                {
                                    "tag_id": "11643",
                                    "tag_name": "female-author",
                                    "count": "15"
                                },
                                {
                                    "tag_id": "11644",
                                    "tag_name": "female-authors",
                                    "count": "15"
                                },
                                {
                                    "tag_id": "11646",
                                    "tag_name": "female-detective",
                                    "count": "15"
                                },
                                {
                                    "tag_id": "11658",
                                    "tag_name": "female-protagonist",
                                    "count": "15"
                                },
                                {
                                    "tag_id": "11643",
                                    "tag_name": "female-author",
                                    "count": "14"
                                },
                                {
                                    "tag_id": "11644",
                                    "tag_name": "female-authors",
                                    "count": "14"
                                },
                                {
                                    "tag_id": "11646",
                                    "tag_name": "female-detective",
                                    "count": "14"
                                },
                                {
                                    "tag_id": "11656",
                                    "tag_name": "female-pov",
                                    "count": "14"
                                },
                                {
                                    "tag_id": "11658",
                                    "tag_name": "female-protagonist",
                                    "count": "14"
                                },
                                {
                                    "tag_id": "28834",
                                    "tag_name": "strong-female-lead",
                                    "count": "14"
                                },
                                {
                                    "tag_id": "11643",
                                    "tag_name": "female-author",
                                    "count": "13"
                                },
                                {
                                    "tag_id": "11644",
                                    "tag_name": "female-authors",
                                    "count": "13"
                                },
                                {
                                    "tag_id": "11647",
                                    "tag_name": "female-detectives",
                                    "count": "13"
                                },
                                {
                                    "tag_id": "11656",
                                    "tag_name": "female-pov",
                                    "count": "13"
                                },
                                {
                                    "tag_id": "11658",
                                    "tag_name": "female-protagonist",
                                    "count": "13"
                                },
                                {
                                    "tag_id": "28833",
                                    "tag_name": "strong-female-characters",
                                    "count": "13"
                                },
                                {
                                    "tag_id": "11643",
                                    "tag_name": "female-author",
                                    "count": "12"
                                },
                                {
                                    "tag_id": "11644",
                                    "tag_name": "female-authors",
                                    "count": "12"
                                },
                                {
                                    "tag_id": "11646",
                                    "tag_name": "female-detective",
                                    "count": "12"
                                },
                                {
                                    "tag_id": "11658",
                                    "tag_name": "female-protagonist",
                                    "count": "12"
                                },
                                {
                                    "tag_id": "11662",
                                    "tag_name": "female-writers",
                                    "count": "12"
                                },
                                {
                                    "tag_id": "28833",
                                    "tag_name": "strong-female-characters",
                                    "count": "12"
                                },
                                {
                                    "tag_id": "11643",
                                    "tag_name": "female-author",
                                    "count": "11"
                                },
                                {
                                    "tag_id": "11644",
                                    "tag_name": "female-authors",
                                    "count": "11"
                                },
                                {
                                    "tag_id": "11646",
                                    "tag_name": "female-detective",
                                    "count": "11"
                                },
                                {
                                    "tag_id": "11656",
                                    "tag_name": "female-pov",
                                    "count": "11"
                                },
                                {
                                    "tag_id": "11658",
                                    "tag_name": "female-protagonist",
                                    "count": "11"
                                },
                                {
                                    "tag_id": "11662",
                                    "tag_name": "female-writers",
                                    "count": "11"
                                },
                                {
                                    "tag_id": "3514",
                                    "tag_name": "author-female",
                                    "count": "10"
                                },
                                {
                                    "tag_id": "11643",
                                    "tag_name": "female-author",
                                    "count": "10"
                                },
                                {
                                    "tag_id": "11644",
                                    "tag_name": "female-authors",
                                    "count": "10"
                                },
                                {
                                    "tag_id": "11646",
                                    "tag_name": "female-detective",
                                    "count": "10"
                                },
                                {
                                    "tag_id": "11655",
                                    "tag_name": "female-pi",
                                    "count": "10"
                                },
                                {
                                    "tag_id": "11656",
                                    "tag_name": "female-pov",
                                    "count": "10"
                                },
                                {
                                    "tag_id": "11658",
                                    "tag_name": "female-protagonist",
                                    "count": "10"
                                },
                                {
                                    "tag_id": "11662",
                                    "tag_name": "female-writers",
                                    "count": "10"
                                },
                                {
                                    "tag_id": "28830",
                                    "tag_name": "strong-female",
                                    "count": "10"
                                },
                                {
                                    "tag_id": "3514",
                                    "tag_name": "author-female",
                                    "count": "9"
                                },
                                {
                                    "tag_id": "11643",
                                    "tag_name": "female-author",
                                    "count": "9"
                                },
                                {
                                    "tag_id": "11644",
                                    "tag_name": "female-authors",
                                    "count": "9"
                                },
                                {
                                    "tag_id": "11646",
                                    "tag_name": "female-detective",
                                    "count": "9"
                                },
                                {
                                    "tag_id": "11647",
                                    "tag_name": "female-detectives",
                                    "count": "9"
                                },
                                {
                                    "tag_id": "11656",
                                    "tag_name": "female-pov",
                                    "count": "9"
                                },
                                {
                                    "tag_id": "11658",
                                    "tag_name": "female-protagonist",
                                    "count": "9"
                                },
                                {
                                    "tag_id": "28834",
                                    "tag_name": "strong-female-lead",
                                    "count": "9"
                                },
                                {
                                    "tag_id": "11643",
                                    "tag_name": "female-author",
                                    "count": "8"
                                },
                                {
                                    "tag_id": "11644",
                                    "tag_name": "female-authors",
                                    "count": "8"
                                },
                                {
                                    "tag_id": "11646",
                                    "tag_name": "female-detective",
                                    "count": "8"
                                },
                                {
                                    "tag_id": "11652",
                                    "tag_name": "female-lead",
                                    "count": "8"
                                },
                                {
                                    "tag_id": "11656",
                                    "tag_name": "female-pov",
                                    "count": "8"
                                },
                                {
                                    "tag_id": "11658",
                                    "tag_name": "female-protagonist",
                                    "count": "8"
                                },
                                {
                                    "tag_id": "11659",
                                    "tag_name": "female-serial-killer",
                                    "count": "8"
                                },
                                {
                                    "tag_id": "28830",
                                    "tag_name": "strong-female",
                                    "count": "8"
                                },
                                {
                                    "tag_id": "11642",
                                    "tag_name": "female",
                                    "count": "7"
                                },
                                {
                                    "tag_id": "11643",
                                    "tag_name": "female-author",
                                    "count": "7"
                                },
                                {
                                    "tag_id": "11644",
                                    "tag_name": "female-authors",
                                    "count": "7"
                                },
                                {
                                    "tag_id": "11646",
                                    "tag_name": "female-detective",
                                    "count": "7"
                                },
                                {
                                    "tag_id": "11647",
                                    "tag_name": "female-detectives",
                                    "count": "7"
                                },
                                {
                                    "tag_id": "11652",
                                    "tag_name": "female-lead",
                                    "count": "7"
                                },
                                {
                                    "tag_id": "11656",
                                    "tag_name": "female-pov",
                                    "count": "7"
                                },
                                {
                                    "tag_id": "11658",
                                    "tag_name": "female-protagonist",
                                    "count": "7"
                                },
                                {
                                    "tag_id": "11662",
                                    "tag_name": "female-writers",
                                    "count": "7"
                                },
                                {
                                    "tag_id": "28831",
                                    "tag_name": "strong-female-character",
                                    "count": "7"
                                },
                                {
                                    "tag_id": "11642",
                                    "tag_name": "female",
                                    "count": "6"
                                },
                                {
                                    "tag_id": "11643",
                                    "tag_name": "female-author",
                                    "count": "6"
                                },
                                {
                                    "tag_id": "11644",
                                    "tag_name": "female-authors",
                                    "count": "6"
                                },
                                {
                                    "tag_id": "11646",
                                    "tag_name": "female-detective",
                                    "count": "6"
                                },
                                {
                                    "tag_id": "11647",
                                    "tag_name": "female-detectives",
                                    "count": "6"
                                },
                                {
                                    "tag_id": "11650",
                                    "tag_name": "female-friendship",
                                    "count": "6"
                                },
                                {
                                    "tag_id": "11652",
                                    "tag_name": "female-lead",
                                    "count": "6"
                                },
                                {
                                    "tag_id": "11656",
                                    "tag_name": "female-pov",
                                    "count": "6"
                                },
                                {
                                    "tag_id": "11658",
                                    "tag_name": "female-protagonist",
                                    "count": "6"
                                },
                                {
                                    "tag_id": "11662",
                                    "tag_name": "female-writers",
                                    "count": "6"
                                },
                                {
                                    "tag_id": "28834",
                                    "tag_name": "strong-female-lead",
                                    "count": "6"
                                },
                                {
                                    "tag_id": "1741",
                                    "tag_name": "afghan-female-entrepreneur-under-ta",
                                    "count": "5"
                                },
                                {
                                    "tag_id": "3514",
                                    "tag_name": "author-female",
                                    "count": "5"
                                },
                                {
                                    "tag_id": "11643",
                                    "tag_name": "female-author",
                                    "count": "5"
                                },
                                {
                                    "tag_id": "11644",
                                    "tag_name": "female-authors",
                                    "count": "5"
                                },
                                {
                                    "tag_id": "11646",
                                    "tag_name": "female-detective",
                                    "count": "5"
                                },
                                {
                                    "tag_id": "11647",
                                    "tag_name": "female-detectives",
                                    "count": "5"
                                },
                                {
                                    "tag_id": "11656",
                                    "tag_name": "female-pov",
                                    "count": "5"
                                },
                                {
                                    "tag_id": "11658",
                                    "tag_name": "female-protagonist",
                                    "count": "5"
                                },
                                {
                                    "tag_id": "11662",
                                    "tag_name": "female-writers",
                                    "count": "5"
                                },
                                {
                                    "tag_id": "28833",
                                    "tag_name": "strong-female-characters",
                                    "count": "5"
                                },
                                {
                                    "tag_id": "28834",
                                    "tag_name": "strong-female-lead",
                                    "count": "5"
                                },
                                {
                                    "tag_id": "28835",
                                    "tag_name": "strong-female-protagonist",
                                    "count": "5"
                                },
                                {
                                    "tag_id": "3514",
                                    "tag_name": "author-female",
                                    "count": "4"
                                },
                                {
                                    "tag_id": "11642",
                                    "tag_name": "female",
                                    "count": "4"
                                },
                                {
                                    "tag_id": "11643",
                                    "tag_name": "female-author",
                                    "count": "4"
                                },
                                {
                                    "tag_id": "11644",
                                    "tag_name": "female-authors",
                                    "count": "4"
                                },
                                {
                                    "tag_id": "11646",
                                    "tag_name": "female-detective",
                                    "count": "4"
                                },
                                {
                                    "tag_id": "11650",
                                    "tag_name": "female-friendship",
                                    "count": "4"
                                },
                                {
                                    "tag_id": "11652",
                                    "tag_name": "female-lead",
                                    "count": "4"
                                },
                                {
                                    "tag_id": "11656",
                                    "tag_name": "female-pov",
                                    "count": "4"
                                },
                                {
                                    "tag_id": "11658",
                                    "tag_name": "female-protagonist",
                                    "count": "4"
                                },
                                {
                                    "tag_id": "11662",
                                    "tag_name": "female-writers",
                                    "count": "4"
                                },
                                {
                                    "tag_id": "28834",
                                    "tag_name": "strong-female-lead",
                                    "count": "4"
                                },
                                {
                                    "tag_id": "3514",
                                    "tag_name": "author-female",
                                    "count": "3"
                                },
                                {
                                    "tag_id": "11642",
                                    "tag_name": "female",
                                    "count": "3"
                                },
                                {
                                    "tag_id": "11643",
                                    "tag_name": "female-author",
                                    "count": "3"
                                },
                                {
                                    "tag_id": "11644",
                                    "tag_name": "female-authors",
                                    "count": "3"
                                },
                                {
                                    "tag_id": "11646",
                                    "tag_name": "female-detective",
                                    "count": "3"
                                },
                                {
                                    "tag_id": "11647",
                                    "tag_name": "female-detectives",
                                    "count": "3"
                                },
                                {
                                    "tag_id": "11648",
                                    "tag_name": "female-doctor",
                                    "count": "3"
                                },
                                {
                                    "tag_id": "11652",
                                    "tag_name": "female-lead",
                                    "count": "3"
                                },
                                {
                                    "tag_id": "11653",
                                    "tag_name": "female-main-character",
                                    "count": "3"
                                },
                                {
                                    "tag_id": "11656",
                                    "tag_name": "female-pov",
                                    "count": "3"
                                },
                                {
                                    "tag_id": "11658",
                                    "tag_name": "female-protagonist",
                                    "count": "3"
                                },
                                {
                                    "tag_id": "11660",
                                    "tag_name": "female-spy",
                                    "count": "3"
                                },
                                {
                                    "tag_id": "11662",
                                    "tag_name": "female-writers",
                                    "count": "3"
                                },
                                {
                                    "tag_id": "3514",
                                    "tag_name": "author-female",
                                    "count": "2"
                                },
                                {
                                    "tag_id": "11642",
                                    "tag_name": "female",
                                    "count": "2"
                                },
                                {
                                    "tag_id": "11643",
                                    "tag_name": "female-author",
                                    "count": "2"
                                },
                                {
                                    "tag_id": "11644",
                                    "tag_name": "female-authors",
                                    "count": "2"
                                },
                                {
                                    "tag_id": "11649",
                                    "tag_name": "female-fiction",
                                    "count": "2"
                                },
                                {
                                    "tag_id": "11650",
                                    "tag_name": "female-friendship",
                                    "count": "2"
                                },
                                {
                                    "tag_id": "11652",
                                    "tag_name": "female-lead",
                                    "count": "2"
                                },
                                {
                                    "tag_id": "11657",
                                    "tag_name": "female-povs",
                                    "count": "2"
                                },
                                {
                                    "tag_id": "11658",
                                    "tag_name": "female-protagonist",
                                    "count": "2"
                                },
                                {
                                    "tag_id": "11661",
                                    "tag_name": "female-writer",
                                    "count": "2"
                                },
                                {
                                    "tag_id": "11662",
                                    "tag_name": "female-writers",
                                    "count": "2"
                                },
                                {
                                    "tag_id": "28830",
                                    "tag_name": "strong-female",
                                    "count": "2"
                                },
                                {
                                    "tag_id": "28834",
                                    "tag_name": "strong-female-lead",
                                    "count": "2"
                                },
                                {
                                    "tag_id": "4309",
                                    "tag_name": "best-adult-female-friendship-books",
                                    "count": "1"
                                },
                                {
                                    "tag_id": "11642",
                                    "tag_name": "female",
                                    "count": "1"
                                },
                                {
                                    "tag_id": "11643",
                                    "tag_name": "female-author",
                                    "count": "1"
                                },
                                {
                                    "tag_id": "11644",
                                    "tag_name": "female-authors",
                                    "count": "1"
                                },
                                {
                                    "tag_id": "11645",
                                    "tag_name": "female-biographies",
                                    "count": "1"
                                },
                                {
                                    "tag_id": "11651",
                                    "tag_name": "female-genre-authors",
                                    "count": "1"
                                },
                                {
                                    "tag_id": "11654",
                                    "tag_name": "female-persuasion",
                                    "count": "1"
                                },
                                {
                                    "tag_id": "11658",
                                    "tag_name": "female-protagonist",
                                    "count": "1"
                                },
                                {
                                    "tag_id": "15331",
                                    "tag_name": "important-female-authors",
                                    "count": "1"
                                },
                                {
                                    "tag_id": "17079",
                                    "tag_name": "kick-ass-female",
                                    "count": "1"
                                },
                                {
                                    "tag_id": "24455",
                                    "tag_name": "protagonist-female",
                                    "count": "1"
                                },
                                {
                                    "tag_id": "28830",
                                    "tag_name": "strong-female",
                                    "count": "1"
                                },
                                {
                                    "tag_id": "28832",
                                    "tag_name": "strong-female-character-s",
                                    "count": "1"
                                },
                                {
                                    "tag_id": "28836",
                                    "tag_name": "strong-female-supporting-characters",
                                    "count": "1"
                                },
                                {
                                    "tag_id": "29324",
                                    "tag_name": "tbr-ax-female",
                                    "count": "1"
                                }
                            ]
                        },
                        "text/html": [
                            "<table>",
                            "<tr><th>tag_id</th><th>tag_name</th><th>count</th></tr>",
                            "<tr><td>11644</td><td>female-authors</td><td>214</td></tr>",
                            "<tr><td>11643</td><td>female-author</td><td>198</td></tr>",
                            "<tr><td>11643</td><td>female-author</td><td>194</td></tr>",
                            "<tr><td>11644</td><td>female-authors</td><td>170</td></tr>",
                            "<tr><td>11644</td><td>female-authors</td><td>158</td></tr>",
                            "<tr><td>11643</td><td>female-author</td><td>150</td></tr>",
                            "<tr><td>11644</td><td>female-authors</td><td>146</td></tr>",
                            "<tr><td>11643</td><td>female-author</td><td>140</td></tr>",
                            "<tr><td>11643</td><td>female-author</td><td>137</td></tr>",
                            "<tr><td>11644</td><td>female-authors</td><td>128</td></tr>",
                            "<tr><td>11644</td><td>female-authors</td><td>120</td></tr>",
                            "<tr><td>11643</td><td>female-author</td><td>108</td></tr>",
                            "<tr><td>11644</td><td>female-authors</td><td>106</td></tr>",
                            "<tr><td>11643</td><td>female-author</td><td>104</td></tr>",
                            "<tr><td>11643</td><td>female-author</td><td>103</td></tr>",
                            "<tr><td>11644</td><td>female-authors</td><td>102</td></tr>",
                            "<tr><td>11643</td><td>female-author</td><td>93</td></tr>",
                            "<tr><td>11644</td><td>female-authors</td><td>93</td></tr>",
                            "<tr><td>11643</td><td>female-author</td><td>91</td></tr>",
                            "<tr><td>11644</td><td>female-authors</td><td>91</td></tr>",
                            "<tr><td>11644</td><td>female-authors</td><td>90</td></tr>",
                            "<tr><td>11644</td><td>female-authors</td><td>89</td></tr>",
                            "<tr><td>11643</td><td>female-author</td><td>87</td></tr>",
                            "<tr><td>11644</td><td>female-authors</td><td>84</td></tr>",
                            "<tr><td>11643</td><td>female-author</td><td>83</td></tr>",
                            "<tr><td>11644</td><td>female-authors</td><td>83</td></tr>",
                            "<tr><td>11643</td><td>female-author</td><td>82</td></tr>",
                            "<tr><td>11644</td><td>female-authors</td><td>82</td></tr>",
                            "<tr><td>11644</td><td>female-authors</td><td>81</td></tr>",
                            "<tr><td>11643</td><td>female-author</td><td>79</td></tr>",
                            "<tr><td>11643</td><td>female-author</td><td>77</td></tr>",
                            "<tr><td>11643</td><td>female-author</td><td>76</td></tr>",
                            "<tr><td>11644</td><td>female-authors</td><td>76</td></tr>",
                            "<tr><td>11643</td><td>female-author</td><td>75</td></tr>",
                            "<tr><td>11644</td><td>female-authors</td><td>75</td></tr>",
                            "<tr><td>11644</td><td>female-authors</td><td>72</td></tr>",
                            "<tr><td>11644</td><td>female-authors</td><td>71</td></tr>",
                            "<tr><td>11643</td><td>female-author</td><td>70</td></tr>",
                            "<tr><td>11643</td><td>female-author</td><td>68</td></tr>",
                            "<tr><td>11643</td><td>female-author</td><td>67</td></tr>",
                            "<tr><td>11644</td><td>female-authors</td><td>67</td></tr>",
                            "<tr><td>11643</td><td>female-author</td><td>66</td></tr>",
                            "<tr><td>11644</td><td>female-authors</td><td>66</td></tr>",
                            "<tr><td>11643</td><td>female-author</td><td>65</td></tr>",
                            "<tr><td>11643</td><td>female-author</td><td>64</td></tr>",
                            "<tr><td>11644</td><td>female-authors</td><td>64</td></tr>",
                            "<tr><td>11643</td><td>female-author</td><td>63</td></tr>",
                            "<tr><td>11644</td><td>female-authors</td><td>63</td></tr>",
                            "<tr><td>11644</td><td>female-authors</td><td>62</td></tr>",
                            "<tr><td>11658</td><td>female-protagonist</td><td>62</td></tr>",
                            "<tr><td>11643</td><td>female-author</td><td>61</td></tr>",
                            "<tr><td>11643</td><td>female-author</td><td>60</td></tr>",
                            "<tr><td>11644</td><td>female-authors</td><td>60</td></tr>",
                            "<tr><td>11643</td><td>female-author</td><td>59</td></tr>",
                            "<tr><td>11644</td><td>female-authors</td><td>59</td></tr>",
                            "<tr><td>11643</td><td>female-author</td><td>58</td></tr>",
                            "<tr><td>11644</td><td>female-authors</td><td>58</td></tr>",
                            "<tr><td>11643</td><td>female-author</td><td>57</td></tr>",
                            "<tr><td>11644</td><td>female-authors</td><td>57</td></tr>",
                            "<tr><td>11644</td><td>female-authors</td><td>56</td></tr>",
                            "<tr><td>11643</td><td>female-author</td><td>55</td></tr>",
                            "<tr><td>11643</td><td>female-author</td><td>54</td></tr>",
                            "<tr><td>11644</td><td>female-authors</td><td>54</td></tr>",
                            "<tr><td>11658</td><td>female-protagonist</td><td>54</td></tr>",
                            "<tr><td>11643</td><td>female-author</td><td>53</td></tr>",
                            "<tr><td>11644</td><td>female-authors</td><td>53</td></tr>",
                            "<tr><td>11644</td><td>female-authors</td><td>52</td></tr>",
                            "<tr><td>11643</td><td>female-author</td><td>51</td></tr>",
                            "<tr><td>11644</td><td>female-authors</td><td>51</td></tr>",
                            "<tr><td>11643</td><td>female-author</td><td>50</td></tr>",
                            "<tr><td>11644</td><td>female-authors</td><td>50</td></tr>",
                            "<tr><td>11658</td><td>female-protagonist</td><td>50</td></tr>",
                            "<tr><td>11643</td><td>female-author</td><td>49</td></tr>",
                            "<tr><td>11644</td><td>female-authors</td><td>49</td></tr>",
                            "<tr><td>11643</td><td>female-author</td><td>48</td></tr>",
                            "<tr><td>11644</td><td>female-authors</td><td>48</td></tr>",
                            "<tr><td>11658</td><td>female-protagonist</td><td>48</td></tr>",
                            "<tr><td>11643</td><td>female-author</td><td>47</td></tr>",
                            "<tr><td>11644</td><td>female-authors</td><td>47</td></tr>",
                            "<tr><td>11658</td><td>female-protagonist</td><td>47</td></tr>",
                            "<tr><td>11643</td><td>female-author</td><td>46</td></tr>",
                            "<tr><td>11658</td><td>female-protagonist</td><td>46</td></tr>",
                            "<tr><td>11643</td><td>female-author</td><td>45</td></tr>",
                            "<tr><td>11643</td><td>female-author</td><td>44</td></tr>",
                            "<tr><td>11644</td><td>female-authors</td><td>44</td></tr>",
                            "<tr><td>11643</td><td>female-author</td><td>43</td></tr>",
                            "<tr><td>11644</td><td>female-authors</td><td>43</td></tr>",
                            "<tr><td>11643</td><td>female-author</td><td>42</td></tr>",
                            "<tr><td>11644</td><td>female-authors</td><td>42</td></tr>",
                            "<tr><td>11658</td><td>female-protagonist</td><td>42</td></tr>",
                            "<tr><td>11643</td><td>female-author</td><td>41</td></tr>",
                            "<tr><td>11644</td><td>female-authors</td><td>41</td></tr>",
                            "<tr><td>11643</td><td>female-author</td><td>40</td></tr>",
                            "<tr><td>11644</td><td>female-authors</td><td>40</td></tr>",
                            "<tr><td>11643</td><td>female-author</td><td>39</td></tr>",
                            "<tr><td>11644</td><td>female-authors</td><td>39</td></tr>",
                            "<tr><td>11643</td><td>female-author</td><td>38</td></tr>",
                            "<tr><td>11644</td><td>female-authors</td><td>38</td></tr>",
                            "<tr><td>11658</td><td>female-protagonist</td><td>38</td></tr>",
                            "<tr><td>11643</td><td>female-author</td><td>37</td></tr>",
                            "<tr><td>11644</td><td>female-authors</td><td>37</td></tr>",
                            "<tr><td>11658</td><td>female-protagonist</td><td>37</td></tr>",
                            "<tr><td>11643</td><td>female-author</td><td>36</td></tr>",
                            "<tr><td>11644</td><td>female-authors</td><td>36</td></tr>",
                            "<tr><td>11658</td><td>female-protagonist</td><td>36</td></tr>",
                            "<tr><td>11643</td><td>female-author</td><td>35</td></tr>",
                            "<tr><td>11644</td><td>female-authors</td><td>35</td></tr>",
                            "<tr><td>11643</td><td>female-author</td><td>34</td></tr>",
                            "<tr><td>11644</td><td>female-authors</td><td>34</td></tr>",
                            "<tr><td>11643</td><td>female-author</td><td>33</td></tr>",
                            "<tr><td>11644</td><td>female-authors</td><td>33</td></tr>",
                            "<tr><td>11643</td><td>female-author</td><td>32</td></tr>",
                            "<tr><td>11644</td><td>female-authors</td><td>32</td></tr>",
                            "<tr><td>11658</td><td>female-protagonist</td><td>32</td></tr>",
                            "<tr><td>11643</td><td>female-author</td><td>31</td></tr>",
                            "<tr><td>11644</td><td>female-authors</td><td>31</td></tr>",
                            "<tr><td>11658</td><td>female-protagonist</td><td>31</td></tr>",
                            "<tr><td>11643</td><td>female-author</td><td>30</td></tr>",
                            "<tr><td>11644</td><td>female-authors</td><td>30</td></tr>",
                            "<tr><td>11658</td><td>female-protagonist</td><td>30</td></tr>",
                            "<tr><td>11643</td><td>female-author</td><td>29</td></tr>",
                            "<tr><td>11644</td><td>female-authors</td><td>29</td></tr>",
                            "<tr><td>11658</td><td>female-protagonist</td><td>29</td></tr>",
                            "<tr><td>11643</td><td>female-author</td><td>28</td></tr>",
                            "<tr><td>11644</td><td>female-authors</td><td>28</td></tr>",
                            "<tr><td>11658</td><td>female-protagonist</td><td>28</td></tr>",
                            "<tr><td>11643</td><td>female-author</td><td>27</td></tr>",
                            "<tr><td>11644</td><td>female-authors</td><td>27</td></tr>",
                            "<tr><td>11658</td><td>female-protagonist</td><td>27</td></tr>",
                            "<tr><td>11643</td><td>female-author</td><td>26</td></tr>",
                            "<tr><td>11644</td><td>female-authors</td><td>26</td></tr>",
                            "<tr><td>11658</td><td>female-protagonist</td><td>26</td></tr>",
                            "<tr><td>11643</td><td>female-author</td><td>25</td></tr>",
                            "<tr><td>11644</td><td>female-authors</td><td>25</td></tr>",
                            "<tr><td>11646</td><td>female-detective</td><td>25</td></tr>",
                            "<tr><td>11658</td><td>female-protagonist</td><td>25</td></tr>",
                            "<tr><td>11643</td><td>female-author</td><td>24</td></tr>",
                            "<tr><td>11644</td><td>female-authors</td><td>24</td></tr>",
                            "<tr><td>11658</td><td>female-protagonist</td><td>24</td></tr>",
                            "<tr><td>11643</td><td>female-author</td><td>23</td></tr>",
                            "<tr><td>11644</td><td>female-authors</td><td>23</td></tr>",
                            "<tr><td>11658</td><td>female-protagonist</td><td>23</td></tr>",
                            "<tr><td>11643</td><td>female-author</td><td>22</td></tr>",
                            "<tr><td>11644</td><td>female-authors</td><td>22</td></tr>",
                            "<tr><td>11658</td><td>female-protagonist</td><td>22</td></tr>",
                            "<tr><td>11642</td><td>female</td><td>21</td></tr>",
                            "<tr><td>11643</td><td>female-author</td><td>21</td></tr>",
                            "<tr><td>11644</td><td>female-authors</td><td>21</td></tr>",
                            "<tr><td>11656</td><td>female-pov</td><td>21</td></tr>",
                            "<tr><td>11658</td><td>female-protagonist</td><td>21</td></tr>",
                            "<tr><td>11642</td><td>female</td><td>20</td></tr>",
                            "<tr><td>11643</td><td>female-author</td><td>20</td></tr>",
                            "<tr><td>11644</td><td>female-authors</td><td>20</td></tr>",
                            "<tr><td>11658</td><td>female-protagonist</td><td>20</td></tr>",
                            "<tr><td>11662</td><td>female-writers</td><td>20</td></tr>",
                            "<tr><td>11643</td><td>female-author</td><td>19</td></tr>",
                            "<tr><td>11644</td><td>female-authors</td><td>19</td></tr>",
                            "<tr><td>11658</td><td>female-protagonist</td><td>19</td></tr>",
                            "<tr><td>11643</td><td>female-author</td><td>18</td></tr>",
                            "<tr><td>11644</td><td>female-authors</td><td>18</td></tr>",
                            "<tr><td>11658</td><td>female-protagonist</td><td>18</td></tr>",
                            "<tr><td>11642</td><td>female</td><td>17</td></tr>",
                            "<tr><td>11643</td><td>female-author</td><td>17</td></tr>",
                            "<tr><td>11644</td><td>female-authors</td><td>17</td></tr>",
                            "<tr><td>11646</td><td>female-detective</td><td>17</td></tr>",
                            "<tr><td>11658</td><td>female-protagonist</td><td>17</td></tr>",
                            "<tr><td>11642</td><td>female</td><td>16</td></tr>",
                            "<tr><td>11643</td><td>female-author</td><td>16</td></tr>",
                            "<tr><td>11644</td><td>female-authors</td><td>16</td></tr>",
                            "<tr><td>11656</td><td>female-pov</td><td>16</td></tr>",
                            "<tr><td>11658</td><td>female-protagonist</td><td>16</td></tr>",
                            "<tr><td>11642</td><td>female</td><td>15</td></tr>",
                            "<tr><td>11643</td><td>female-author</td><td>15</td></tr>",
                            "<tr><td>11644</td><td>female-authors</td><td>15</td></tr>",
                            "<tr><td>11646</td><td>female-detective</td><td>15</td></tr>",
                            "<tr><td>11658</td><td>female-protagonist</td><td>15</td></tr>",
                            "<tr><td>11643</td><td>female-author</td><td>14</td></tr>",
                            "<tr><td>11644</td><td>female-authors</td><td>14</td></tr>",
                            "<tr><td>11646</td><td>female-detective</td><td>14</td></tr>",
                            "<tr><td>11656</td><td>female-pov</td><td>14</td></tr>",
                            "<tr><td>11658</td><td>female-protagonist</td><td>14</td></tr>",
                            "<tr><td>28834</td><td>strong-female-lead</td><td>14</td></tr>",
                            "<tr><td>11643</td><td>female-author</td><td>13</td></tr>",
                            "<tr><td>11644</td><td>female-authors</td><td>13</td></tr>",
                            "<tr><td>11647</td><td>female-detectives</td><td>13</td></tr>",
                            "<tr><td>11656</td><td>female-pov</td><td>13</td></tr>",
                            "<tr><td>11658</td><td>female-protagonist</td><td>13</td></tr>",
                            "<tr><td>28833</td><td>strong-female-characters</td><td>13</td></tr>",
                            "<tr><td>11643</td><td>female-author</td><td>12</td></tr>",
                            "<tr><td>11644</td><td>female-authors</td><td>12</td></tr>",
                            "<tr><td>11646</td><td>female-detective</td><td>12</td></tr>",
                            "<tr><td>11658</td><td>female-protagonist</td><td>12</td></tr>",
                            "<tr><td>11662</td><td>female-writers</td><td>12</td></tr>",
                            "<tr><td>28833</td><td>strong-female-characters</td><td>12</td></tr>",
                            "<tr><td>11643</td><td>female-author</td><td>11</td></tr>",
                            "<tr><td>11644</td><td>female-authors</td><td>11</td></tr>",
                            "<tr><td>11646</td><td>female-detective</td><td>11</td></tr>",
                            "<tr><td>11656</td><td>female-pov</td><td>11</td></tr>",
                            "<tr><td>11658</td><td>female-protagonist</td><td>11</td></tr>",
                            "<tr><td>11662</td><td>female-writers</td><td>11</td></tr>",
                            "<tr><td>3514</td><td>author-female</td><td>10</td></tr>",
                            "<tr><td>11643</td><td>female-author</td><td>10</td></tr>",
                            "<tr><td>11644</td><td>female-authors</td><td>10</td></tr>",
                            "<tr><td>11646</td><td>female-detective</td><td>10</td></tr>",
                            "<tr><td>11655</td><td>female-pi</td><td>10</td></tr>",
                            "<tr><td>11656</td><td>female-pov</td><td>10</td></tr>",
                            "<tr><td>11658</td><td>female-protagonist</td><td>10</td></tr>",
                            "<tr><td>11662</td><td>female-writers</td><td>10</td></tr>",
                            "<tr><td>28830</td><td>strong-female</td><td>10</td></tr>",
                            "<tr><td>3514</td><td>author-female</td><td>9</td></tr>",
                            "<tr><td>11643</td><td>female-author</td><td>9</td></tr>",
                            "<tr><td>11644</td><td>female-authors</td><td>9</td></tr>",
                            "<tr><td>11646</td><td>female-detective</td><td>9</td></tr>",
                            "<tr><td>11647</td><td>female-detectives</td><td>9</td></tr>",
                            "<tr><td>11656</td><td>female-pov</td><td>9</td></tr>",
                            "<tr><td>11658</td><td>female-protagonist</td><td>9</td></tr>",
                            "<tr><td>28834</td><td>strong-female-lead</td><td>9</td></tr>",
                            "<tr><td>11643</td><td>female-author</td><td>8</td></tr>",
                            "<tr><td>11644</td><td>female-authors</td><td>8</td></tr>",
                            "<tr><td>11646</td><td>female-detective</td><td>8</td></tr>",
                            "<tr><td>11652</td><td>female-lead</td><td>8</td></tr>",
                            "<tr><td>11656</td><td>female-pov</td><td>8</td></tr>",
                            "<tr><td>11658</td><td>female-protagonist</td><td>8</td></tr>",
                            "<tr><td>11659</td><td>female-serial-killer</td><td>8</td></tr>",
                            "<tr><td>28830</td><td>strong-female</td><td>8</td></tr>",
                            "<tr><td>11642</td><td>female</td><td>7</td></tr>",
                            "<tr><td>11643</td><td>female-author</td><td>7</td></tr>",
                            "<tr><td>11644</td><td>female-authors</td><td>7</td></tr>",
                            "<tr><td>11646</td><td>female-detective</td><td>7</td></tr>",
                            "<tr><td>11647</td><td>female-detectives</td><td>7</td></tr>",
                            "<tr><td>11652</td><td>female-lead</td><td>7</td></tr>",
                            "<tr><td>11656</td><td>female-pov</td><td>7</td></tr>",
                            "<tr><td>11658</td><td>female-protagonist</td><td>7</td></tr>",
                            "<tr><td>11662</td><td>female-writers</td><td>7</td></tr>",
                            "<tr><td>28831</td><td>strong-female-character</td><td>7</td></tr>",
                            "<tr><td>11642</td><td>female</td><td>6</td></tr>",
                            "<tr><td>11643</td><td>female-author</td><td>6</td></tr>",
                            "<tr><td>11644</td><td>female-authors</td><td>6</td></tr>",
                            "<tr><td>11646</td><td>female-detective</td><td>6</td></tr>",
                            "<tr><td>11647</td><td>female-detectives</td><td>6</td></tr>",
                            "<tr><td>11650</td><td>female-friendship</td><td>6</td></tr>",
                            "<tr><td>11652</td><td>female-lead</td><td>6</td></tr>",
                            "<tr><td>11656</td><td>female-pov</td><td>6</td></tr>",
                            "<tr><td>11658</td><td>female-protagonist</td><td>6</td></tr>",
                            "<tr><td>11662</td><td>female-writers</td><td>6</td></tr>",
                            "<tr><td>28834</td><td>strong-female-lead</td><td>6</td></tr>",
                            "<tr><td>1741</td><td>afghan-female-entrepreneur-under-ta</td><td>5</td></tr>",
                            "<tr><td>3514</td><td>author-female</td><td>5</td></tr>",
                            "<tr><td>11643</td><td>female-author</td><td>5</td></tr>",
                            "<tr><td>11644</td><td>female-authors</td><td>5</td></tr>",
                            "<tr><td>11646</td><td>female-detective</td><td>5</td></tr>",
                            "<tr><td>11647</td><td>female-detectives</td><td>5</td></tr>",
                            "<tr><td>11656</td><td>female-pov</td><td>5</td></tr>",
                            "<tr><td>11658</td><td>female-protagonist</td><td>5</td></tr>",
                            "<tr><td>11662</td><td>female-writers</td><td>5</td></tr>",
                            "<tr><td>28833</td><td>strong-female-characters</td><td>5</td></tr>",
                            "<tr><td>28834</td><td>strong-female-lead</td><td>5</td></tr>",
                            "<tr><td>28835</td><td>strong-female-protagonist</td><td>5</td></tr>",
                            "<tr><td>3514</td><td>author-female</td><td>4</td></tr>",
                            "<tr><td>11642</td><td>female</td><td>4</td></tr>",
                            "<tr><td>11643</td><td>female-author</td><td>4</td></tr>",
                            "<tr><td>11644</td><td>female-authors</td><td>4</td></tr>",
                            "<tr><td>11646</td><td>female-detective</td><td>4</td></tr>",
                            "<tr><td>11650</td><td>female-friendship</td><td>4</td></tr>",
                            "<tr><td>11652</td><td>female-lead</td><td>4</td></tr>",
                            "<tr><td>11656</td><td>female-pov</td><td>4</td></tr>",
                            "<tr><td>11658</td><td>female-protagonist</td><td>4</td></tr>",
                            "<tr><td>11662</td><td>female-writers</td><td>4</td></tr>",
                            "<tr><td>28834</td><td>strong-female-lead</td><td>4</td></tr>",
                            "<tr><td>3514</td><td>author-female</td><td>3</td></tr>",
                            "<tr><td>11642</td><td>female</td><td>3</td></tr>",
                            "<tr><td>11643</td><td>female-author</td><td>3</td></tr>",
                            "<tr><td>11644</td><td>female-authors</td><td>3</td></tr>",
                            "<tr><td>11646</td><td>female-detective</td><td>3</td></tr>",
                            "<tr><td>11647</td><td>female-detectives</td><td>3</td></tr>",
                            "<tr><td>11648</td><td>female-doctor</td><td>3</td></tr>",
                            "<tr><td>11652</td><td>female-lead</td><td>3</td></tr>",
                            "<tr><td>11653</td><td>female-main-character</td><td>3</td></tr>",
                            "<tr><td>11656</td><td>female-pov</td><td>3</td></tr>",
                            "<tr><td>11658</td><td>female-protagonist</td><td>3</td></tr>",
                            "<tr><td>11660</td><td>female-spy</td><td>3</td></tr>",
                            "<tr><td>11662</td><td>female-writers</td><td>3</td></tr>",
                            "<tr><td>3514</td><td>author-female</td><td>2</td></tr>",
                            "<tr><td>11642</td><td>female</td><td>2</td></tr>",
                            "<tr><td>11643</td><td>female-author</td><td>2</td></tr>",
                            "<tr><td>11644</td><td>female-authors</td><td>2</td></tr>",
                            "<tr><td>11649</td><td>female-fiction</td><td>2</td></tr>",
                            "<tr><td>11650</td><td>female-friendship</td><td>2</td></tr>",
                            "<tr><td>11652</td><td>female-lead</td><td>2</td></tr>",
                            "<tr><td>11657</td><td>female-povs</td><td>2</td></tr>",
                            "<tr><td>11658</td><td>female-protagonist</td><td>2</td></tr>",
                            "<tr><td>11661</td><td>female-writer</td><td>2</td></tr>",
                            "<tr><td>11662</td><td>female-writers</td><td>2</td></tr>",
                            "<tr><td>28830</td><td>strong-female</td><td>2</td></tr>",
                            "<tr><td>28834</td><td>strong-female-lead</td><td>2</td></tr>",
                            "<tr><td>4309</td><td>best-adult-female-friendship-books</td><td>1</td></tr>",
                            "<tr><td>11642</td><td>female</td><td>1</td></tr>",
                            "<tr><td>11643</td><td>female-author</td><td>1</td></tr>",
                            "<tr><td>11644</td><td>female-authors</td><td>1</td></tr>",
                            "<tr><td>11645</td><td>female-biographies</td><td>1</td></tr>",
                            "<tr><td>11651</td><td>female-genre-authors</td><td>1</td></tr>",
                            "<tr><td>11654</td><td>female-persuasion</td><td>1</td></tr>",
                            "<tr><td>11658</td><td>female-protagonist</td><td>1</td></tr>",
                            "<tr><td>15331</td><td>important-female-authors</td><td>1</td></tr>",
                            "<tr><td>17079</td><td>kick-ass-female</td><td>1</td></tr>",
                            "<tr><td>24455</td><td>protagonist-female</td><td>1</td></tr>",
                            "<tr><td>28830</td><td>strong-female</td><td>1</td></tr>",
                            "<tr><td>28832</td><td>strong-female-character-s</td><td>1</td></tr>",
                            "<tr><td>28836</td><td>strong-female-supporting-characters</td><td>1</td></tr>",
                            "<tr><td>29324</td><td>tbr-ax-female</td><td>1</td></tr>",
                            "</table>"
                        ]
                    }
                }
            ],
            "execution_count": 12
        },
        {
            "cell_type": "markdown",
            "source": [
                "### **Which keyword(s) and tag(s) would you like to explore more?**\n",
                "\n",
                "Double click to edit."
            ],
            "metadata": {
                "azdata_cell_guid": "e9acd8b5-a62b-4ac0-bd07-19915b379ba6"
            },
            "attachments": {}
        },
        {
            "cell_type": "markdown",
            "source": [
                "### **Write a query to return authors, titles, ratings and** **selected tag(s)\\_id.**"
            ],
            "metadata": {
                "azdata_cell_guid": "59b84464-c0bc-4dac-9e02-0c803765b063"
            },
            "attachments": {}
        },
        {
            "cell_type": "code",
            "source": [
                "-- Solution\r\n",
                "select authors, title, average_rating, tag_id\r\n",
                "from BooksDB.dbo.books as b\r\n",
                "left join BooksDB.dbo.book_tags as bt \r\n",
                "on b.book_id = bt.goodreads_book_id\r\n",
                "where tag_id = 11644\r\n",
                "order by average_rating desc"
            ],
            "metadata": {
                "azdata_cell_guid": "51ffeaaf-6dde-4906-95f3-eb8757babf27",
                "tags": [],
                "language": "sql"
            },
            "outputs": [
                {
                    "output_type": "display_data",
                    "data": {
                        "text/html": "(721 rows affected)"
                    },
                    "metadata": {}
                },
                {
                    "output_type": "display_data",
                    "data": {
                        "text/html": "Total execution time: 00:00:00.269"
                    },
                    "metadata": {}
                },
                {
                    "output_type": "execute_result",
                    "metadata": {},
                    "execution_count": 14,
                    "data": {
                        "application/vnd.dataresource+json": {
                            "schema": {
                                "fields": [
                                    {
                                        "name": "authors"
                                    },
                                    {
                                        "name": "title"
                                    },
                                    {
                                        "name": "average_rating"
                                    },
                                    {
                                        "name": "tag_id"
                                    }
                                ]
                            },
                            "data": [
                                {
                                    "authors": "Jane Austen",
                                    "title": "The Complete Novels",
                                    "average_rating": "4.55",
                                    "tag_id": "11644"
                                },
                                {
                                    "authors": "Robin Hobb",
                                    "title": "Fool's Quest  (The Fitz and The Fool, #2)",
                                    "average_rating": "4.53",
                                    "tag_id": "11644"
                                },
                                {
                                    "authors": "C.S. Pacat",
                                    "title": "Kings Rising (Captive Prince, #3)",
                                    "average_rating": "4.5",
                                    "tag_id": "11644"
                                },
                                {
                                    "authors": "Hiromu Arakawa, Akira Watanabe",
                                    "title": "Fullmetal Alchemist, Vol. 1 (Fullmetal Alchemist, #1)",
                                    "average_rating": "4.49",
                                    "tag_id": "11644"
                                },
                                {
                                    "authors": "Chimamanda Ngozi Adichie",
                                    "title": "We Should All Be Feminists",
                                    "average_rating": "4.47",
                                    "tag_id": "11644"
                                },
                                {
                                    "authors": "Flannery O'Connor",
                                    "title": "The Complete Stories",
                                    "average_rating": "4.44",
                                    "tag_id": "11644"
                                },
                                {
                                    "authors": "Barbara Demick",
                                    "title": "Nothing to Envy: Ordinary Lives in North Korea",
                                    "average_rating": "4.42",
                                    "tag_id": "11644"
                                },
                                {
                                    "authors": "Yaa Gyasi",
                                    "title": "Homegoing",
                                    "average_rating": "4.41",
                                    "tag_id": "11644"
                                },
                                {
                                    "authors": "Elena Ferrante, Ann Goldstein",
                                    "title": "The Story of the Lost Child (The Neapolitan Novels, #4)",
                                    "average_rating": "4.39",
                                    "tag_id": "11644"
                                },
                                {
                                    "authors": "Bernadette Rossetti-Shustak, Caroline Jayne Church",
                                    "title": "I Love You Through and Through",
                                    "average_rating": "4.39",
                                    "tag_id": "11644"
                                },
                                {
                                    "authors": "Elena Ferrante, Ann Goldstein",
                                    "title": "The Story of a New Name (The Neapolitan Novels #2)",
                                    "average_rating": "4.37",
                                    "tag_id": "11644"
                                },
                                {
                                    "authors": "Marjane Satrapi, Mattias Ripa, Blake Ferris, Anjali Singh",
                                    "title": "The Complete Persepolis",
                                    "average_rating": "4.36",
                                    "tag_id": "11644"
                                },
                                {
                                    "authors": "Susan Abulhawa",
                                    "title": "Mornings in Jenin",
                                    "average_rating": "4.35",
                                    "tag_id": "11644"
                                },
                                {
                                    "authors": "Julia Child, Simone Beck, Louisette Bertholle",
                                    "title": "Mastering the Art of French Cooking",
                                    "average_rating": "4.33",
                                    "tag_id": "11644"
                                },
                                {
                                    "authors": "Tamora Pierce",
                                    "title": "Wild Magic (Immortals, #1)",
                                    "average_rating": "4.32",
                                    "tag_id": "11644"
                                },
                                {
                                    "authors": "Enid Blyton",
                                    "title": "The Folk of the Faraway Tree (The Faraway Tree, #3)",
                                    "average_rating": "4.32",
                                    "tag_id": "11644"
                                },
                                {
                                    "authors": "Julia Child",
                                    "title": "The Way to Cook",
                                    "average_rating": "4.31",
                                    "tag_id": "11644"
                                },
                                {
                                    "authors": "N.K. Jemisin",
                                    "title": "The Fifth Season (The Broken Earth, #1)",
                                    "average_rating": "4.31",
                                    "tag_id": "11644"
                                },
                                {
                                    "authors": "Barbara Shook Hazen, Robert Lewis May, Richard Scarry",
                                    "title": "Rudolph the Red-Nosed Reindeer",
                                    "average_rating": "4.3",
                                    "tag_id": "11644"
                                },
                                {
                                    "authors": "Claudia Rankine",
                                    "title": "Citizen: An American Lyric",
                                    "average_rating": "4.3",
                                    "tag_id": "11644"
                                },
                                {
                                    "authors": "Diana Wynne Jones",
                                    "title": "Howl's Moving Castle (Howl's Moving Castle, #1)",
                                    "average_rating": "4.3",
                                    "tag_id": "11644"
                                },
                                {
                                    "authors": "Elena Ferrante, Ann Goldstein",
                                    "title": "Those Who Leave and Those Who Stay (The Neapolitan Novels #3)",
                                    "average_rating": "4.29",
                                    "tag_id": "11644"
                                },
                                {
                                    "authors": "Cheryl Strayed",
                                    "title": "Tiny Beautiful Things: Advice on Love and Life from Dear Sugar",
                                    "average_rating": "4.29",
                                    "tag_id": "11644"
                                },
                                {
                                    "authors": "Sylvia Plath, Karen V. Kukil",
                                    "title": "The Unabridged Journals of Sylvia Plath",
                                    "average_rating": "4.29",
                                    "tag_id": "11644"
                                },
                                {
                                    "authors": "Lois McMaster Bujold",
                                    "title": "The Warrior's Apprentice (Vorkosigan Saga, #2)",
                                    "average_rating": "4.29",
                                    "tag_id": "11644"
                                },
                                {
                                    "authors": "Loung Ung",
                                    "title": "First They Killed My Father: A Daughter of Cambodia Remembers",
                                    "average_rating": "4.29",
                                    "tag_id": "11644"
                                },
                                {
                                    "authors": "Enid Blyton",
                                    "title": "The Magic Faraway Tree (The Faraway Tree, #2)",
                                    "average_rating": "4.29",
                                    "tag_id": "11644"
                                },
                                {
                                    "authors": "Michelle Magorian",
                                    "title": "Good Night, Mr. Tom",
                                    "average_rating": "4.28",
                                    "tag_id": "11644"
                                },
                                {
                                    "authors": "Tamora Pierce",
                                    "title": "Lioness Rampant (Song of the Lioness, #4)",
                                    "average_rating": "4.28",
                                    "tag_id": "11644"
                                },
                                {
                                    "authors": "Tamora Pierce",
                                    "title": "Trickster's Queen (Daughter of the Lioness, #2)",
                                    "average_rating": "4.28",
                                    "tag_id": "11644"
                                },
                                {
                                    "authors": "Enid Blyton",
                                    "title": "The Faraway Tree Stories (The Faraway Tree #1-3)",
                                    "average_rating": "4.28",
                                    "tag_id": "11644"
                                },
                                {
                                    "authors": "Anne Sexton, Maxine Kumin",
                                    "title": "The Complete Poems",
                                    "average_rating": "4.28",
                                    "tag_id": "11644"
                                },
                                {
                                    "authors": "Rupi Kaur",
                                    "title": "Milk and Honey",
                                    "average_rating": "4.27",
                                    "tag_id": "11644"
                                },
                                {
                                    "authors": "Tamora Pierce",
                                    "title": "Trickster's Choice (Daughter of the Lioness, #1)",
                                    "average_rating": "4.27",
                                    "tag_id": "11644"
                                },
                                {
                                    "authors": "Marjane Satrapi",
                                    "title": "Persepolis, Volume 1",
                                    "average_rating": "4.27",
                                    "tag_id": "11644"
                                },
                                {
                                    "authors": "Madeline Miller",
                                    "title": "The Song of Achilles",
                                    "average_rating": "4.27",
                                    "tag_id": "11644"
                                },
                                {
                                    "authors": "Tamora Pierce",
                                    "title": "Alanna: The First Adventure (Song of the Lioness, #1)",
                                    "average_rating": "4.27",
                                    "tag_id": "11644"
                                },
                                {
                                    "authors": "Hanya Yanagihara",
                                    "title": "A Little Life",
                                    "average_rating": "4.27",
                                    "tag_id": "11644"
                                },
                                {
                                    "authors": "Tamora Pierce",
                                    "title": "Squire (Protector of the Small, #3)",
                                    "average_rating": "4.27",
                                    "tag_id": "11644"
                                },
                                {
                                    "authors": "Ntozake Shange",
                                    "title": "for colored girls who have considered suicide/when the rainbow is enuf",
                                    "average_rating": "4.27",
                                    "tag_id": "11644"
                                },
                                {
                                    "authors": "Kate Beaton",
                                    "title": "Hark! A Vagrant",
                                    "average_rating": "4.27",
                                    "tag_id": "11644"
                                },
                                {
                                    "authors": "Flannery O'Connor, Robert Fitzgerald",
                                    "title": "Everything That Rises Must Converge: Stories",
                                    "average_rating": "4.27",
                                    "tag_id": "11644"
                                },
                                {
                                    "authors": "Tamora Pierce",
                                    "title": "Bloodhound (Beka Cooper, #2)",
                                    "average_rating": "4.26",
                                    "tag_id": "11644"
                                },
                                {
                                    "authors": "Fannie Flagg",
                                    "title": "Fried Green Tomatoes at the Whistle Stop Cafe",
                                    "average_rating": "4.26",
                                    "tag_id": "11644"
                                },
                                {
                                    "authors": "Chimamanda Ngozi Adichie",
                                    "title": "Americanah",
                                    "average_rating": "4.26",
                                    "tag_id": "11644"
                                },
                                {
                                    "authors": "Hilary Mantel",
                                    "title": "Bring Up the Bodies (Thomas Cromwell, #2)",
                                    "average_rating": "4.26",
                                    "tag_id": "11644"
                                },
                                {
                                    "authors": "Joanna Cole, Bruce Degen",
                                    "title": "Inside the Human Body (The Magic School Bus, #3)",
                                    "average_rating": "4.26",
                                    "tag_id": "11644"
                                },
                                {
                                    "authors": "Tamora Pierce",
                                    "title": "In the Hand of the Goddess (Song of the Lioness, #2)",
                                    "average_rating": "4.25",
                                    "tag_id": "11644"
                                },
                                {
                                    "authors": "Margaret George",
                                    "title": "The Autobiography of Henry VIII: With Notes by His Fool, Will Somers",
                                    "average_rating": "4.25",
                                    "tag_id": "11644"
                                },
                                {
                                    "authors": "Ursula K. Le Guin",
                                    "title": "The Earthsea Trilogy",
                                    "average_rating": "4.25",
                                    "tag_id": "11644"
                                },
                                {
                                    "authors": "Betty MacDonald, Alexandra Boiger",
                                    "title": "Hello, Mrs. Piggle-Wiggle (Mrs. Piggle Wiggle, #4)",
                                    "average_rating": "4.24",
                                    "tag_id": "11644"
                                },
                                {
                                    "authors": "Flannery O'Connor",
                                    "title": "A Good Man is Hard to Find and Other Stories",
                                    "average_rating": "4.24",
                                    "tag_id": "11644"
                                },
                                {
                                    "authors": "Joan Didion",
                                    "title": "Slouching Towards Bethlehem",
                                    "average_rating": "4.24",
                                    "tag_id": "11644"
                                },
                                {
                                    "authors": "Tamora Pierce",
                                    "title": "Mastiff (Beka Cooper, #3)",
                                    "average_rating": "4.24",
                                    "tag_id": "11644"
                                },
                                {
                                    "authors": "Enid Blyton",
                                    "title": "The Enchanted Wood (The Faraway Tree, #1)",
                                    "average_rating": "4.24",
                                    "tag_id": "11644"
                                },
                                {
                                    "authors": "Betty  Smith",
                                    "title": "A Tree Grows in Brooklyn",
                                    "average_rating": "4.24",
                                    "tag_id": "11644"
                                },
                                {
                                    "authors": "Jung Chang",
                                    "title": "Wild Swans: Three Daughters of China",
                                    "average_rating": "4.23",
                                    "tag_id": "11644"
                                },
                                {
                                    "authors": "Marjane Satrapi, Mattias Ripa",
                                    "title": "Persepolis: The Story of a Childhood (Persepolis, #1)",
                                    "average_rating": "4.23",
                                    "tag_id": "11644"
                                },
                                {
                                    "authors": "Marjane Satrapi, Anjali Singh",
                                    "title": "Persepolis 2: The Story of a Return (Persepolis, #2)",
                                    "average_rating": "4.23",
                                    "tag_id": "11644"
                                },
                                {
                                    "authors": "Malorie Blackman",
                                    "title": "Noughts & Crosses (Noughts & Crosses, #1)",
                                    "average_rating": "4.23",
                                    "tag_id": "11644"
                                },
                                {
                                    "authors": "Sylvia Plath",
                                    "title": "Ariel",
                                    "average_rating": "4.23",
                                    "tag_id": "11644"
                                },
                                {
                                    "authors": "Tachibana Higuchi, 樋口 橘",
                                    "title": "Gakuen Alice, Vol. 01 (Gakuen Alice, #1)",
                                    "average_rating": "4.23",
                                    "tag_id": "11644"
                                },
                                {
                                    "authors": "Lindy West",
                                    "title": "Shrill: Notes from a Loud Woman",
                                    "average_rating": "4.23",
                                    "tag_id": "11644"
                                },
                                {
                                    "authors": "Mary  Stewart",
                                    "title": "The Hollow Hills (Arthurian Saga, #2)",
                                    "average_rating": "4.23",
                                    "tag_id": "11644"
                                },
                                {
                                    "authors": "Judith Kerr",
                                    "title": "The Tiger Who Came to Tea",
                                    "average_rating": "4.23",
                                    "tag_id": "11644"
                                },
                                {
                                    "authors": "Octavia E. Butler",
                                    "title": "Wild Seed (Patternmaster, #1)",
                                    "average_rating": "4.22",
                                    "tag_id": "11644"
                                },
                                {
                                    "authors": "Elyn R. Saks",
                                    "title": "The Center Cannot Hold: My Journey Through Madness",
                                    "average_rating": "4.22",
                                    "tag_id": "11644"
                                },
                                {
                                    "authors": "Irin Carmon, Shana Knizhnik",
                                    "title": "Notorious RBG: The Life and Times of Ruth Bader Ginsburg",
                                    "average_rating": "4.22",
                                    "tag_id": "11644"
                                },
                                {
                                    "authors": "Wendy Mass",
                                    "title": "A Mango-Shaped Space",
                                    "average_rating": "4.22",
                                    "tag_id": "11644"
                                },
                                {
                                    "authors": "Anne McCaffrey",
                                    "title": "The Dragonriders of Pern (Dragonriders of Pern, #1-3)",
                                    "average_rating": "4.22",
                                    "tag_id": "11644"
                                },
                                {
                                    "authors": "Naomi Klein",
                                    "title": "The Shock Doctrine: The Rise of Disaster Capitalism",
                                    "average_rating": "4.22",
                                    "tag_id": "11644"
                                },
                                {
                                    "authors": "Colleen McCullough",
                                    "title": "The Thorn Birds",
                                    "average_rating": "4.22",
                                    "tag_id": "11644"
                                },
                                {
                                    "authors": "Emily Dickinson, Thomas H. Johnson",
                                    "title": "The Complete Poems of Emily Dickinson",
                                    "average_rating": "4.21",
                                    "tag_id": "11644"
                                },
                                {
                                    "authors": "L.M. Montgomery",
                                    "title": "Anne of Avonlea (Anne of Green Gables, #2)",
                                    "average_rating": "4.21",
                                    "tag_id": "11644"
                                },
                                {
                                    "authors": "Robin Hobb",
                                    "title": "The Mad Ship (Liveship Traders, #2)",
                                    "average_rating": "4.21",
                                    "tag_id": "11644"
                                },
                                {
                                    "authors": "Robin Hobb",
                                    "title": "Ship of Destiny (Liveship Traders, #3)",
                                    "average_rating": "4.21",
                                    "tag_id": "11644"
                                },
                                {
                                    "authors": "Tamora Pierce",
                                    "title": "Wolf-Speaker (Immortals, #2)",
                                    "average_rating": "4.21",
                                    "tag_id": "11644"
                                },
                                {
                                    "authors": "Ai Yazawa",
                                    "title": "Nana, Vol. 1 (Nana, #1)",
                                    "average_rating": "4.21",
                                    "tag_id": "11644"
                                },
                                {
                                    "authors": "Marian Potter",
                                    "title": "The Little Red Caboose (Little Golden Book)",
                                    "average_rating": "4.21",
                                    "tag_id": "11644"
                                },
                                {
                                    "authors": "Octavia E. Butler",
                                    "title": "Parable of the Talents (Earthseed, #2)",
                                    "average_rating": "4.21",
                                    "tag_id": "11644"
                                },
                                {
                                    "authors": "Audre Lorde",
                                    "title": "Zami: A New Spelling of My Name",
                                    "average_rating": "4.2",
                                    "tag_id": "11644"
                                },
                                {
                                    "authors": "Margaret Edson",
                                    "title": "Wit",
                                    "average_rating": "4.2",
                                    "tag_id": "11644"
                                },
                                {
                                    "authors": "Ann Leckie",
                                    "title": "Ancillary Mercy (Imperial Radch #3)",
                                    "average_rating": "4.2",
                                    "tag_id": "11644"
                                },
                                {
                                    "authors": "Patricia C. Wrede, Peter de Sève",
                                    "title": "Calling on Dragons (Enchanted Forest Chronicles, #3)",
                                    "average_rating": "4.2",
                                    "tag_id": "11644"
                                },
                                {
                                    "authors": "Ann Rule",
                                    "title": "Small Sacrifices: A True Story of Passion and Murder",
                                    "average_rating": "4.2",
                                    "tag_id": "11644"
                                },
                                {
                                    "authors": "Sylvia Plath, Ted Hughes",
                                    "title": "The Collected Poems",
                                    "average_rating": "4.2",
                                    "tag_id": "11644"
                                },
                                {
                                    "authors": "Noelle Stevenson",
                                    "title": "Nimona",
                                    "average_rating": "4.2",
                                    "tag_id": "11644"
                                },
                                {
                                    "authors": "Tamora Pierce",
                                    "title": "The Woman Who Rides Like a Man (Song of the Lioness, #3)",
                                    "average_rating": "4.2",
                                    "tag_id": "11644"
                                },
                                {
                                    "authors": "Agatha Christie",
                                    "title": "The Murder of Roger Ackroyd (Hercule Poirot, #4)",
                                    "average_rating": "4.2",
                                    "tag_id": "11644"
                                },
                                {
                                    "authors": "Daphne du Maurier, Sally Beauman",
                                    "title": "Rebecca",
                                    "average_rating": "4.2",
                                    "tag_id": "11644"
                                },
                                {
                                    "authors": "Isabel Allende, Magda Bogin",
                                    "title": "The House of the Spirits",
                                    "average_rating": "4.2",
                                    "tag_id": "11644"
                                },
                                {
                                    "authors": "Maya Angelou",
                                    "title": "I Know Why the Caged Bird Sings",
                                    "average_rating": "4.19",
                                    "tag_id": "11644"
                                },
                                {
                                    "authors": "Maya Angelou",
                                    "title": "The Heart of a Woman",
                                    "average_rating": "4.19",
                                    "tag_id": "11644"
                                },
                                {
                                    "authors": "Beatrix Potter",
                                    "title": "The Tale of Mrs. Tiggy-Winkle",
                                    "average_rating": "4.19",
                                    "tag_id": "11644"
                                },
                                {
                                    "authors": "Esther Earl, Lori Earl, Wayne Earl, John Green",
                                    "title": "This Star Won't Go Out: The Life and Words of Esther Grace Earl",
                                    "average_rating": "4.19",
                                    "tag_id": "11644"
                                },
                                {
                                    "authors": "Becky  Chambers",
                                    "title": "The Long Way to a Small, Angry Planet (Wayfarers, #1)",
                                    "average_rating": "4.18",
                                    "tag_id": "11644"
                                },
                                {
                                    "authors": "Chimamanda Ngozi Adichie",
                                    "title": "The Thing Around Your Neck",
                                    "average_rating": "4.18",
                                    "tag_id": "11644"
                                },
                                {
                                    "authors": "Beryl Markham",
                                    "title": "West with the Night",
                                    "average_rating": "4.18",
                                    "tag_id": "11644"
                                },
                                {
                                    "authors": "Octavia E. Butler",
                                    "title": "Kindred",
                                    "average_rating": "4.18",
                                    "tag_id": "11644"
                                },
                                {
                                    "authors": "Ursula K. Le Guin",
                                    "title": "The Dispossessed",
                                    "average_rating": "4.18",
                                    "tag_id": "11644"
                                },
                                {
                                    "authors": "Brené Brown",
                                    "title": "The Gifts of Imperfection: Let Go of Who You Think You're Supposed to Be and Embrace Who You Are",
                                    "average_rating": "4.17",
                                    "tag_id": "11644"
                                },
                                {
                                    "authors": "Mary Doria Russell",
                                    "title": "The Sparrow (The Sparrow, #1)",
                                    "average_rating": "4.17",
                                    "tag_id": "11644"
                                },
                                {
                                    "authors": "Alice Walker",
                                    "title": "The Color Purple",
                                    "average_rating": "4.17",
                                    "tag_id": "11644"
                                },
                                {
                                    "authors": "Allie Brosh",
                                    "title": "Hyperbole and a Half: Unfortunate Situations, Flawed Coping Mechanisms, Mayhem, and Other Things That Happened",
                                    "average_rating": "4.17",
                                    "tag_id": "11644"
                                },
                                {
                                    "authors": "Natalie Goldberg",
                                    "title": "Writing Down the Bones: Freeing the Writer Within",
                                    "average_rating": "4.17",
                                    "tag_id": "11644"
                                },
                                {
                                    "authors": "Margaret George",
                                    "title": "The Memoirs of Cleopatra",
                                    "average_rating": "4.17",
                                    "tag_id": "11644"
                                },
                                {
                                    "authors": "Christiane F., Kai Hermann, Horst Rieck",
                                    "title": "Wir Kinder vom Bahnhof Zoo",
                                    "average_rating": "4.16",
                                    "tag_id": "11644"
                                },
                                {
                                    "authors": "Tamora Pierce",
                                    "title": "Shatterglass (The Circle Opens, #4)",
                                    "average_rating": "4.16",
                                    "tag_id": "11644"
                                },
                                {
                                    "authors": "Emily Dickinson",
                                    "title": "Selected Poems",
                                    "average_rating": "4.16",
                                    "tag_id": "11644"
                                },
                                {
                                    "authors": "Lois McMaster Bujold",
                                    "title": "The Curse of Chalion (World of the Five Gods, #1)",
                                    "average_rating": "4.16",
                                    "tag_id": "11644"
                                },
                                {
                                    "authors": "L.M. Montgomery",
                                    "title": "Rilla of Ingleside (Anne of Green Gables, #8)",
                                    "average_rating": "4.16",
                                    "tag_id": "11644"
                                },
                                {
                                    "authors": "Agatha Christie",
                                    "title": "Murder on the Orient Express (Hercule Poirot, #10)",
                                    "average_rating": "4.16",
                                    "tag_id": "11644"
                                },
                                {
                                    "authors": "Elisabeth Kübler-Ross",
                                    "title": "On Death and Dying",
                                    "average_rating": "4.15",
                                    "tag_id": "11644"
                                },
                                {
                                    "authors": "Tamora Pierce",
                                    "title": "The Will of the Empress (Circle Reforged, #1)",
                                    "average_rating": "4.15",
                                    "tag_id": "11644"
                                },
                                {
                                    "authors": "Iris Rainer Dart",
                                    "title": "Beaches",
                                    "average_rating": "4.14",
                                    "tag_id": "11644"
                                },
                                {
                                    "authors": "Mary Westmacott, Agatha Christie",
                                    "title": "Absent In The Spring",
                                    "average_rating": "4.14",
                                    "tag_id": "11644"
                                },
                                {
                                    "authors": "Madeleine L'Engle",
                                    "title": "A Ring of Endless Light (Austin Family, #4)",
                                    "average_rating": "4.14",
                                    "tag_id": "11644"
                                },
                                {
                                    "authors": "Octavia E. Butler",
                                    "title": "Parable of the Sower (Earthseed, #1)",
                                    "average_rating": "4.14",
                                    "tag_id": "11644"
                                },
                                {
                                    "authors": "Felicia Day, Joss Whedon",
                                    "title": "You're Never Weird on the Internet (Almost)",
                                    "average_rating": "4.14",
                                    "tag_id": "11644"
                                },
                                {
                                    "authors": "Tamora Pierce",
                                    "title": "Briar's Book (Circle of Magic, #4)",
                                    "average_rating": "4.14",
                                    "tag_id": "11644"
                                },
                                {
                                    "authors": "G. Willow Wilson, Adrian Alphona, Jacob Wyatt",
                                    "title": "Ms. Marvel, Vol. 2: Generation Why",
                                    "average_rating": "4.14",
                                    "tag_id": "11644"
                                },
                                {
                                    "authors": "Virginia Woolf",
                                    "title": "The Waves",
                                    "average_rating": "4.14",
                                    "tag_id": "11644"
                                },
                                {
                                    "authors": "Sarah Andersen",
                                    "title": "Adulthood Is a Myth (Sarah's Scribbles, #1)",
                                    "average_rating": "4.14",
                                    "tag_id": "11644"
                                },
                                {
                                    "authors": "Patti Smith",
                                    "title": "Just Kids",
                                    "average_rating": "4.14",
                                    "tag_id": "11644"
                                },
                                {
                                    "authors": "Irma S. Rombauer, Marion Rombauer Becker, Ethan Becker",
                                    "title": "The Joy of Cooking",
                                    "average_rating": "4.14",
                                    "tag_id": "11644"
                                },
                                {
                                    "authors": "Tess Gerritsen",
                                    "title": "The Apprentice (Rizzoli & Isles, #2)",
                                    "average_rating": "4.14",
                                    "tag_id": "11644"
                                },
                                {
                                    "authors": "Anne Fadiman",
                                    "title": "The Spirit Catches You and You Fall Down: A Hmong Child, Her American Doctors, and the Collision of Two Cultures",
                                    "average_rating": "4.14",
                                    "tag_id": "11644"
                                },
                                {
                                    "authors": "Julia Alvarez",
                                    "title": "In the Time of the Butterflies",
                                    "average_rating": "4.13",
                                    "tag_id": "11644"
                                },
                                {
                                    "authors": "Ann Rule",
                                    "title": "The Stranger Beside Me: Ted Bundy The Shocking Inside Story",
                                    "average_rating": "4.13",
                                    "tag_id": "11644"
                                },
                                {
                                    "authors": "G. Willow Wilson, Adrian Alphona",
                                    "title": "Ms. Marvel, Vol. 1: No Normal",
                                    "average_rating": "4.13",
                                    "tag_id": "11644"
                                },
                                {
                                    "authors": "Elizabeth Gaskell, Alan Shelston",
                                    "title": "North and South",
                                    "average_rating": "4.13",
                                    "tag_id": "11644"
                                },
                                {
                                    "authors": "Madeleine L'Engle",
                                    "title": "A Swiftly Tilting Planet (A Wrinkle in Time Quintet, #3)",
                                    "average_rating": "4.13",
                                    "tag_id": "11644"
                                },
                                {
                                    "authors": "Jane Austen, James Kinsley, Deidre Shauna Lynch",
                                    "title": "Persuasion",
                                    "average_rating": "4.13",
                                    "tag_id": "11644"
                                },
                                {
                                    "authors": "Lois McMaster Bujold",
                                    "title": "Shards of Honour  (Vorkosigan Saga, #1)",
                                    "average_rating": "4.13",
                                    "tag_id": "11644"
                                },
                                {
                                    "authors": "Gloria Naylor",
                                    "title": "The Women of Brewster Place",
                                    "average_rating": "4.13",
                                    "tag_id": "11644"
                                },
                                {
                                    "authors": "Virginia M. Axline",
                                    "title": "Dibs in Search of Self",
                                    "average_rating": "4.13",
                                    "tag_id": "11644"
                                },
                                {
                                    "authors": "S.A.R.K.",
                                    "title": "Succulent Wild Woman",
                                    "average_rating": "4.12",
                                    "tag_id": "11644"
                                },
                                {
                                    "authors": "Lorrie Moore",
                                    "title": "Birds of America",
                                    "average_rating": "4.12",
                                    "tag_id": "11644"
                                },
                                {
                                    "authors": "Tamora Pierce",
                                    "title": "Street Magic (The Circle Opens, #2)",
                                    "average_rating": "4.12",
                                    "tag_id": "11644"
                                },
                                {
                                    "authors": "Jeanette Winterson",
                                    "title": "The Passion",
                                    "average_rating": "4.12",
                                    "tag_id": "11644"
                                },
                                {
                                    "authors": "Mary  Stewart",
                                    "title": "The Crystal Cave (Arthurian Saga, #1)",
                                    "average_rating": "4.12",
                                    "tag_id": "11644"
                                },
                                {
                                    "authors": "Jhumpa Lahiri",
                                    "title": "Interpreter of Maladies",
                                    "average_rating": "4.12",
                                    "tag_id": "11644"
                                },
                                {
                                    "authors": "Marion Zimmer Bradley",
                                    "title": "The Mists of Avalon (Avalon, #1)",
                                    "average_rating": "4.12",
                                    "tag_id": "11644"
                                },
                                {
                                    "authors": "Alison Bechdel",
                                    "title": "Fun Home: A Family Tragicomic",
                                    "average_rating": "4.12",
                                    "tag_id": "11644"
                                },
                                {
                                    "authors": "Jhumpa Lahiri",
                                    "title": "Unaccustomed Earth",
                                    "average_rating": "4.11",
                                    "tag_id": "11644"
                                },
                                {
                                    "authors": "Ursula K. Le Guin",
                                    "title": "The Farthest Shore (Earthsea Cycle, #3)",
                                    "average_rating": "4.11",
                                    "tag_id": "11644"
                                },
                                {
                                    "authors": "Chimamanda Ngozi Adichie",
                                    "title": "Purple Hibiscus",
                                    "average_rating": "4.11",
                                    "tag_id": "11644"
                                },
                                {
                                    "authors": "Charlotte Perkins Gilman, Elaine Hedges",
                                    "title": "The Yellow Wall-Paper",
                                    "average_rating": "4.11",
                                    "tag_id": "11644"
                                },
                                {
                                    "authors": "Chitra Banerjee Divakaruni",
                                    "title": "The Palace of Illusions",
                                    "average_rating": "4.11",
                                    "tag_id": "11644"
                                },
                                {
                                    "authors": "Meg Jay",
                                    "title": "The Defining Decade: Why Your Twenties Matter--And How to Make the Most of Them Now",
                                    "average_rating": "4.11",
                                    "tag_id": "11644"
                                },
                                {
                                    "authors": "Dorothy L. Sayers",
                                    "title": "Unnatural Death (Lord Peter Wimsey, #3)",
                                    "average_rating": "4.11",
                                    "tag_id": "11644"
                                },
                                {
                                    "authors": "Annie Dillard",
                                    "title": "Pilgrim at Tinker Creek",
                                    "average_rating": "4.1",
                                    "tag_id": "11644"
                                },
                                {
                                    "authors": "Octavia E. Butler",
                                    "title": "Dawn (Xenogenesis, #1)",
                                    "average_rating": "4.1",
                                    "tag_id": "11644"
                                },
                                {
                                    "authors": "Janet Stevens, Hans Christian Andersen",
                                    "title": "The Princess and the Pea",
                                    "average_rating": "4.1",
                                    "tag_id": "11644"
                                },
                                {
                                    "authors": "Roz Chast",
                                    "title": "Can't We Talk about Something More Pleasant?",
                                    "average_rating": "4.1",
                                    "tag_id": "11644"
                                },
                                {
                                    "authors": "Virginia Woolf",
                                    "title": "A Room of One's Own",
                                    "average_rating": "4.1",
                                    "tag_id": "11644"
                                },
                                {
                                    "authors": "Helene Wecker",
                                    "title": "The Golem and the Jinni (The Golem and the Jinni, #1)",
                                    "average_rating": "4.1",
                                    "tag_id": "11644"
                                },
                                {
                                    "authors": "Anne Frank, Eleanor Roosevelt, B.M. Mooyaart-Doubleday",
                                    "title": "The Diary of a Young Girl",
                                    "average_rating": "4.1",
                                    "tag_id": "11644"
                                },
                                {
                                    "authors": "Charlotte Brontë, Michael Mason",
                                    "title": "Jane Eyre",
                                    "average_rating": "4.1",
                                    "tag_id": "11644"
                                },
                                {
                                    "authors": "Marion Cunningham, Fannie Merritt Farmer, Archibald Candy Corporation",
                                    "title": "The Fannie Farmer Cookbook: Anniversary",
                                    "average_rating": "4.1",
                                    "tag_id": "11644"
                                },
                                {
                                    "authors": "Stacy King, SunNeko Lee, Crystal S. Chan, Victor Hugo",
                                    "title": "Manga Classics: Les Misérables",
                                    "average_rating": "4.1",
                                    "tag_id": "11644"
                                },
                                {
                                    "authors": "Anna Gavalda, Alison Anderson",
                                    "title": "Hunting and Gathering",
                                    "average_rating": "4.1",
                                    "tag_id": "11644"
                                },
                                {
                                    "authors": "Alice  Miller, Ruth Ward",
                                    "title": "The Drama of the Gifted Child: The Search for the True Self",
                                    "average_rating": "4.09",
                                    "tag_id": "11644"
                                },
                                {
                                    "authors": "Waris Dirie, Cathleen Miller",
                                    "title": "Desert Flower",
                                    "average_rating": "4.09",
                                    "tag_id": "11644"
                                },
                                {
                                    "authors": "Sandra Gulland",
                                    "title": "The Many Lives & Secret Sorrows of Josephine B. (Josephine Bonaparte, #1)",
                                    "average_rating": "4.09",
                                    "tag_id": "11644"
                                },
                                {
                                    "authors": "Dorothy Allison",
                                    "title": "Bastard Out of Carolina",
                                    "average_rating": "4.09",
                                    "tag_id": "11644"
                                },
                                {
                                    "authors": "Ursula K. Le Guin",
                                    "title": "The Lathe of Heaven",
                                    "average_rating": "4.09",
                                    "tag_id": "11644"
                                },
                                {
                                    "authors": "Shirley Jackson",
                                    "title": "The Lottery",
                                    "average_rating": "4.09",
                                    "tag_id": "11644"
                                },
                                {
                                    "authors": "Simone de Beauvoir, H.M. Parshley, Deirdre Bair",
                                    "title": "The Second Sex",
                                    "average_rating": "4.09",
                                    "tag_id": "11644"
                                },
                                {
                                    "authors": "Elizabeth Kolbert",
                                    "title": "The Sixth Extinction: An Unnatural History",
                                    "average_rating": "4.09",
                                    "tag_id": "11644"
                                },
                                {
                                    "authors": "Jeanette Winterson",
                                    "title": "Written on the Body",
                                    "average_rating": "4.08",
                                    "tag_id": "11644"
                                },
                                {
                                    "authors": "Kate Chopin",
                                    "title": "The Story of an Hour",
                                    "average_rating": "4.08",
                                    "tag_id": "11644"
                                },
                                {
                                    "authors": "Gloria Steinem",
                                    "title": "My Life on the Road",
                                    "average_rating": "4.08",
                                    "tag_id": "11644"
                                },
                                {
                                    "authors": "Harriet Jacobs",
                                    "title": "Incidents in the Life of a Slave Girl",
                                    "average_rating": "4.08",
                                    "tag_id": "11644"
                                },
                                {
                                    "authors": "Maya Angelou",
                                    "title": "Letter to My Daughter",
                                    "average_rating": "4.08",
                                    "tag_id": "11644"
                                },
                                {
                                    "authors": "Lynn Flewelling",
                                    "title": "Luck in the Shadows (Nightrunner, #1)",
                                    "average_rating": "4.08",
                                    "tag_id": "11644"
                                },
                                {
                                    "authors": "Elizabeth Gaskell, Pam Morris",
                                    "title": "Wives and Daughters",
                                    "average_rating": "4.07",
                                    "tag_id": "11644"
                                },
                                {
                                    "authors": "Sara Gruen",
                                    "title": "Water for Elephants",
                                    "average_rating": "4.07",
                                    "tag_id": "11644"
                                },
                                {
                                    "authors": "Donna Tartt",
                                    "title": "The Secret History",
                                    "average_rating": "4.07",
                                    "tag_id": "11644"
                                },
                                {
                                    "authors": "Ursula K. Le Guin",
                                    "title": "The Tombs of Atuan (Earthsea Cycle, #2)",
                                    "average_rating": "4.07",
                                    "tag_id": "11644"
                                },
                                {
                                    "authors": "Ursula Hegi",
                                    "title": "Stones from the River",
                                    "average_rating": "4.07",
                                    "tag_id": "11644"
                                },
                                {
                                    "authors": "Helen Keller",
                                    "title": "The Story of My Life",
                                    "average_rating": "4.07",
                                    "tag_id": "11644"
                                },
                                {
                                    "authors": "Rachel Maddow",
                                    "title": "Drift: The Unmooring of American Military Power",
                                    "average_rating": "4.07",
                                    "tag_id": "11644"
                                },
                                {
                                    "authors": "Tamora Pierce",
                                    "title": "Tris's Book (Circle of Magic, #2)",
                                    "average_rating": "4.07",
                                    "tag_id": "11644"
                                },
                                {
                                    "authors": "Isabel Allende",
                                    "title": "Paula",
                                    "average_rating": "4.07",
                                    "tag_id": "11644"
                                },
                                {
                                    "authors": "Enid Blyton",
                                    "title": "Five on a Treasure Island (Famous Five, #1)",
                                    "average_rating": "4.06",
                                    "tag_id": "11644"
                                },
                                {
                                    "authors": "Tamora Pierce",
                                    "title": "Daja's Book (Circle of Magic, #3)",
                                    "average_rating": "4.06",
                                    "tag_id": "11644"
                                },
                                {
                                    "authors": "Keri Hulme",
                                    "title": "The Bone People",
                                    "average_rating": "4.06",
                                    "tag_id": "11644"
                                },
                                {
                                    "authors": "Marguerite Henry",
                                    "title": "Stormy, Misty's Foal (Misty, #3)",
                                    "average_rating": "4.06",
                                    "tag_id": "11644"
                                },
                                {
                                    "authors": "Malala Yousafzai, Christina Lamb",
                                    "title": "I Am Malala: The Story of the Girl Who Stood Up for Education and Was Shot by the Taliban",
                                    "average_rating": "4.06",
                                    "tag_id": "11644"
                                },
                                {
                                    "authors": "Jane Austen, Tony Tanner, Ros Ballaster",
                                    "title": "Sense and Sensibility",
                                    "average_rating": "4.06",
                                    "tag_id": "11644"
                                },
                                {
                                    "authors": "Margaret Atwood",
                                    "title": "The Handmaid's Tale",
                                    "average_rating": "4.06",
                                    "tag_id": "11644"
                                },
                                {
                                    "authors": "Shirley Jackson",
                                    "title": "The Lottery and Other Stories",
                                    "average_rating": "4.06",
                                    "tag_id": "11644"
                                },
                                {
                                    "authors": "Ursula K. Le Guin",
                                    "title": "The Other Wind (Earthsea Cycle, #6)",
                                    "average_rating": "4.06",
                                    "tag_id": "11644"
                                },
                                {
                                    "authors": "Alice Munro",
                                    "title": "Hateship, Friendship, Courtship, Loveship, Marriage: Stories",
                                    "average_rating": "4.06",
                                    "tag_id": "11644"
                                },
                                {
                                    "authors": "Alice Walker",
                                    "title": "Possessing the Secret of Joy",
                                    "average_rating": "4.06",
                                    "tag_id": "11644"
                                },
                                {
                                    "authors": "Alice Walker",
                                    "title": "The Temple of My Familiar",
                                    "average_rating": "4.05",
                                    "tag_id": "11644"
                                },
                                {
                                    "authors": "Tamora Pierce",
                                    "title": "Cold Fire (The Circle Opens, #3)",
                                    "average_rating": "4.05",
                                    "tag_id": "11644"
                                },
                                {
                                    "authors": "Katherine Addison",
                                    "title": "The Goblin Emperor",
                                    "average_rating": "4.05",
                                    "tag_id": "11644"
                                },
                                {
                                    "authors": "Mary Doria Russell",
                                    "title": "Children of God (The Sparrow, #2)",
                                    "average_rating": "4.05",
                                    "tag_id": "11644"
                                },
                                {
                                    "authors": "Roxane Gay",
                                    "title": "An Untamed State",
                                    "average_rating": "4.05",
                                    "tag_id": "11644"
                                },
                                {
                                    "authors": "Barbara Kingsolver",
                                    "title": "Animal Dreams",
                                    "average_rating": "4.05",
                                    "tag_id": "11644"
                                },
                                {
                                    "authors": "Shirley Jackson, Jonathan Lethem",
                                    "title": "We Have Always Lived in the Castle",
                                    "average_rating": "4.05",
                                    "tag_id": "11644"
                                },
                                {
                                    "authors": "Lisa See",
                                    "title": "Snow Flower and the Secret Fan",
                                    "average_rating": "4.05",
                                    "tag_id": "11644"
                                },
                                {
                                    "authors": "Mary Roach",
                                    "title": "Stiff: The Curious Lives of Human Cadavers",
                                    "average_rating": "4.05",
                                    "tag_id": "11644"
                                },
                                {
                                    "authors": "Anne Rice",
                                    "title": "The Vampire Lestat (The Vampire Chronicles, #2)",
                                    "average_rating": "4.05",
                                    "tag_id": "11644"
                                },
                                {
                                    "authors": "Ursula K. Le Guin, Lech Jęczmyk",
                                    "title": "The Left Hand of Darkness",
                                    "average_rating": "4.05",
                                    "tag_id": "11644"
                                },
                                {
                                    "authors": "Margaret Atwood",
                                    "title": "The Year of the Flood  (MaddAddam, #2)",
                                    "average_rating": "4.05",
                                    "tag_id": "11644"
                                },
                                {
                                    "authors": "Tana French",
                                    "title": "The Likeness (Dublin Murder Squad, #2)",
                                    "average_rating": "4.05",
                                    "tag_id": "11644"
                                },
                                {
                                    "authors": "Robin Hobb",
                                    "title": "City of Dragons (Rain Wild Chronicles, #3)",
                                    "average_rating": "4.05",
                                    "tag_id": "11644"
                                },
                                {
                                    "authors": "Chelsea Cain",
                                    "title": "Sweetheart (Archie Sheridan & Gretchen Lowell, #2)",
                                    "average_rating": "4.05",
                                    "tag_id": "11644"
                                },
                                {
                                    "authors": "Shonda Rhimes",
                                    "title": "Year of Yes: How to Dance It Out, Stand In the Sun and Be Your Own Person",
                                    "average_rating": "4.05",
                                    "tag_id": "11644"
                                },
                                {
                                    "authors": "L.M. Montgomery",
                                    "title": "Anne of Ingleside (Anne of Green Gables, #6)",
                                    "average_rating": "4.05",
                                    "tag_id": "11644"
                                },
                                {
                                    "authors": "Caitlin Doughty",
                                    "title": "Smoke Gets in Your Eyes: And Other Lessons from the Crematory",
                                    "average_rating": "4.04",
                                    "tag_id": "11644"
                                },
                                {
                                    "authors": "Caroline Knapp",
                                    "title": "Drinking: A Love Story",
                                    "average_rating": "4.04",
                                    "tag_id": "11644"
                                },
                                {
                                    "authors": "Cate Tiernan",
                                    "title": "Book of Shadows (Sweep, #1)",
                                    "average_rating": "4.04",
                                    "tag_id": "11644"
                                },
                                {
                                    "authors": "Hope Jahren",
                                    "title": "Lab Girl",
                                    "average_rating": "4.04",
                                    "tag_id": "11644"
                                },
                                {
                                    "authors": "Martha Stewart, Victor Schrager",
                                    "title": "Martha Stewart's Cookies: The Very Best Treats to Bake and to Share",
                                    "average_rating": "4.04",
                                    "tag_id": "11644"
                                },
                                {
                                    "authors": "Betty Mahmoody",
                                    "title": "Not Without My Daughter",
                                    "average_rating": "4.04",
                                    "tag_id": "11644"
                                },
                                {
                                    "authors": "Jen Sincero",
                                    "title": "You Are a Badass: How to Stop Doubting Your Greatness and Start Living an Awesome Life",
                                    "average_rating": "4.04",
                                    "tag_id": "11644"
                                },
                                {
                                    "authors": "Louisa May Alcott",
                                    "title": "Little Women (Little Women, #1)",
                                    "average_rating": "4.04",
                                    "tag_id": "11644"
                                },
                                {
                                    "authors": "L.M. Montgomery",
                                    "title": "Anne of Windy Poplars (Anne of Green Gables, #4)",
                                    "average_rating": "4.04",
                                    "tag_id": "11644"
                                },
                                {
                                    "authors": "Laurie R. King",
                                    "title": "A Monstrous Regiment of Women (Mary Russell, #2)",
                                    "average_rating": "4.04",
                                    "tag_id": "11644"
                                },
                                {
                                    "authors": "N.K. Jemisin",
                                    "title": "The Broken Kingdoms (Inheritance, #2)",
                                    "average_rating": "4.04",
                                    "tag_id": "11644"
                                },
                                {
                                    "authors": "Geraldine Brooks",
                                    "title": "Nine Parts of Desire: The Hidden World of Islamic Women",
                                    "average_rating": "4.04",
                                    "tag_id": "11644"
                                },
                                {
                                    "authors": "Chelsea Cain",
                                    "title": "Evil at Heart (Archie Sheridan & Gretchen Lowell, #3)",
                                    "average_rating": "4.03",
                                    "tag_id": "11644"
                                },
                                {
                                    "authors": "Marion Zimmer Bradley, Diana L. Paxson",
                                    "title": "Priestess of Avalon (Avalon, #4)",
                                    "average_rating": "4.03",
                                    "tag_id": "11644"
                                },
                                {
                                    "authors": "Kay Redfield Jamison",
                                    "title": "An Unquiet Mind: A Memoir of Moods and Madness",
                                    "average_rating": "4.03",
                                    "tag_id": "11644"
                                },
                                {
                                    "authors": "Emma Donoghue",
                                    "title": "Room",
                                    "average_rating": "4.03",
                                    "tag_id": "11644"
                                },
                                {
                                    "authors": "Agatha Christie",
                                    "title": "Murder at the Vicarage (Miss Marple, #1)",
                                    "average_rating": "4.03",
                                    "tag_id": "11644"
                                },
                                {
                                    "authors": "Truddi Chase, Robert A. Phillips Jr.",
                                    "title": "When Rabbit Howls",
                                    "average_rating": "4.03",
                                    "tag_id": "11644"
                                },
                                {
                                    "authors": "Ann Leckie",
                                    "title": "Ancillary Sword (Imperial Radch, #2)",
                                    "average_rating": "4.03",
                                    "tag_id": "11644"
                                },
                                {
                                    "authors": "Pat Barker",
                                    "title": "Regeneration (Regeneration, #1)",
                                    "average_rating": "4.03",
                                    "tag_id": "11644"
                                },
                                {
                                    "authors": "Angela Carter",
                                    "title": "The Bloody Chamber and Other Stories",
                                    "average_rating": "4.02",
                                    "tag_id": "11644"
                                },
                                {
                                    "authors": "Louise Erdrich",
                                    "title": "The Master Butchers Singing Club",
                                    "average_rating": "4.02",
                                    "tag_id": "11644"
                                },
                                {
                                    "authors": "Barbara Kingsolver",
                                    "title": "The Poisonwood Bible",
                                    "average_rating": "4.02",
                                    "tag_id": "11644"
                                },
                                {
                                    "authors": "Emily St. John Mandel",
                                    "title": "Station Eleven",
                                    "average_rating": "4.02",
                                    "tag_id": "11644"
                                },
                                {
                                    "authors": "Sarah Waters",
                                    "title": "Fingersmith",
                                    "average_rating": "4.02",
                                    "tag_id": "11644"
                                },
                                {
                                    "authors": "Charlotte Perkins Gilman",
                                    "title": "The Yellow Wallpaper and Other Stories",
                                    "average_rating": "4.02",
                                    "tag_id": "11644"
                                },
                                {
                                    "authors": "Siri Hustvedt",
                                    "title": "What I Loved",
                                    "average_rating": "4.02",
                                    "tag_id": "11644"
                                },
                                {
                                    "authors": "Fannie Flagg",
                                    "title": "Standing in the Rainbow (Elmwood Springs, #2)",
                                    "average_rating": "4.02",
                                    "tag_id": "11644"
                                },
                                {
                                    "authors": "Cecelia Ahern",
                                    "title": "How to Fall in Love",
                                    "average_rating": "4.02",
                                    "tag_id": "11644"
                                },
                                {
                                    "authors": "Toni Morrison",
                                    "title": "Song of Solomon",
                                    "average_rating": "4.01",
                                    "tag_id": "11644"
                                },
                                {
                                    "authors": "Hannah Kent",
                                    "title": "Burial Rites",
                                    "average_rating": "4.01",
                                    "tag_id": "11644"
                                },
                                {
                                    "authors": "Sue Monk Kidd",
                                    "title": "The Secret Life of Bees",
                                    "average_rating": "4.01",
                                    "tag_id": "11644"
                                },
                                {
                                    "authors": "Louise Rennison",
                                    "title": "Dancing in My Nuddy-Pants (Confessions of Georgia Nicolson, #4)",
                                    "average_rating": "4.01",
                                    "tag_id": "11644"
                                },
                                {
                                    "authors": "V.C. Andrews",
                                    "title": "Heaven (Casteel, #1)",
                                    "average_rating": "4.01",
                                    "tag_id": "11644"
                                },
                                {
                                    "authors": "Rosalind Miles",
                                    "title": "I, Elizabeth",
                                    "average_rating": "4.01",
                                    "tag_id": "11644"
                                },
                                {
                                    "authors": "Tess Gerritsen",
                                    "title": "The Mephisto Club (Rizzoli & Isles, #6)",
                                    "average_rating": "4.01",
                                    "tag_id": "11644"
                                },
                                {
                                    "authors": "Isabel Allende, Margaret Sayers Peden",
                                    "title": "Island Beneath the Sea",
                                    "average_rating": "4.01",
                                    "tag_id": "11644"
                                },
                                {
                                    "authors": "L.M. Montgomery",
                                    "title": "Rainbow Valley (Anne of Green Gables, #7)",
                                    "average_rating": "4",
                                    "tag_id": "11644"
                                },
                                {
                                    "authors": "Deborah Blum",
                                    "title": "The Poisoner's Handbook: Murder and the Birth of Forensic Medicine in Jazz Age New York",
                                    "average_rating": "4",
                                    "tag_id": "11644"
                                },
                                {
                                    "authors": "Margaret Atwood",
                                    "title": "Oryx and Crake (MaddAddam, #1)",
                                    "average_rating": "4",
                                    "tag_id": "11644"
                                },
                                {
                                    "authors": "Dodie Smith",
                                    "title": "I Capture the Castle",
                                    "average_rating": "4",
                                    "tag_id": "11644"
                                },
                                {
                                    "authors": "Sarah Waters",
                                    "title": "Tipping the Velvet",
                                    "average_rating": "4",
                                    "tag_id": "11644"
                                },
                                {
                                    "authors": "Twyla Tharp",
                                    "title": "The Creative Habit: Learn It and Use It for Life",
                                    "average_rating": "4",
                                    "tag_id": "11644"
                                },
                                {
                                    "authors": "Ursula K. Le Guin",
                                    "title": "Tales from Earthsea (Earthsea Cycle, #5)",
                                    "average_rating": "4",
                                    "tag_id": "11644"
                                },
                                {
                                    "authors": "Enid Blyton",
                                    "title": "Five Go Adventuring Again (Famous Five, #2)",
                                    "average_rating": "3.99",
                                    "tag_id": "11644"
                                },
                                {
                                    "authors": "Giulia Enders, Jill Enders",
                                    "title": "Gut: The Inside Story of Our Body’s Most Underrated Organ",
                                    "average_rating": "3.99",
                                    "tag_id": "11644"
                                },
                                {
                                    "authors": "Maggie Nelson",
                                    "title": "The Argonauts",
                                    "average_rating": "3.99",
                                    "tag_id": "11644"
                                },
                                {
                                    "authors": "Annie Proulx",
                                    "title": "Close Range",
                                    "average_rating": "3.99",
                                    "tag_id": "11644"
                                },
                                {
                                    "authors": "Ursula K. Le Guin",
                                    "title": "A Wizard of Earthsea (Earthsea Cycle, #1)",
                                    "average_rating": "3.99",
                                    "tag_id": "11644"
                                },
                                {
                                    "authors": "Toni Morrison",
                                    "title": "The Bluest Eye",
                                    "average_rating": "3.99",
                                    "tag_id": "11644"
                                },
                                {
                                    "authors": "Jane Austen, Fiona Stafford",
                                    "title": "Emma",
                                    "average_rating": "3.99",
                                    "tag_id": "11644"
                                },
                                {
                                    "authors": "Emily M. Danforth",
                                    "title": "The Miseducation of Cameron Post",
                                    "average_rating": "3.99",
                                    "tag_id": "11644"
                                },
                                {
                                    "authors": "Tamora Pierce",
                                    "title": "Sandry's Book (Circle of Magic, #1)",
                                    "average_rating": "3.99",
                                    "tag_id": "11644"
                                },
                                {
                                    "authors": "Julie Anne Peters",
                                    "title": "Keeping You a Secret",
                                    "average_rating": "3.98",
                                    "tag_id": "11644"
                                },
                                {
                                    "authors": "Margaret Peterson Haddix",
                                    "title": "Running Out of Time",
                                    "average_rating": "3.98",
                                    "tag_id": "11644"
                                },
                                {
                                    "authors": "Sara Nović",
                                    "title": "Girl at War",
                                    "average_rating": "3.98",
                                    "tag_id": "11644"
                                },
                                {
                                    "authors": "Alice Munro",
                                    "title": "Runaway",
                                    "average_rating": "3.98",
                                    "tag_id": "11644"
                                },
                                {
                                    "authors": "Louise Erdrich",
                                    "title": "Love Medicine",
                                    "average_rating": "3.98",
                                    "tag_id": "11644"
                                },
                                {
                                    "authors": "Agatha Christie, Ροζίτα Σώκου",
                                    "title": "The Mysterious Affair at Styles (Hercule Poirot, #1)",
                                    "average_rating": "3.98",
                                    "tag_id": "11644"
                                },
                                {
                                    "authors": "Barbara Kingsolver",
                                    "title": "Prodigal Summer",
                                    "average_rating": "3.98",
                                    "tag_id": "11644"
                                },
                                {
                                    "authors": "Amy Tan",
                                    "title": "The Bonesetter's Daughter",
                                    "average_rating": "3.98",
                                    "tag_id": "11644"
                                },
                                {
                                    "authors": "Katherine Dunn",
                                    "title": "Geek Love",
                                    "average_rating": "3.98",
                                    "tag_id": "11644"
                                },
                                {
                                    "authors": "Ruth Ozeki",
                                    "title": "A Tale for the Time Being",
                                    "average_rating": "3.98",
                                    "tag_id": "11644"
                                },
                                {
                                    "authors": "Amy Tan",
                                    "title": "The Kitchen God's Wife",
                                    "average_rating": "3.98",
                                    "tag_id": "11644"
                                },
                                {
                                    "authors": "Thrity Umrigar",
                                    "title": "The Space Between Us",
                                    "average_rating": "3.98",
                                    "tag_id": "11644"
                                },
                                {
                                    "authors": "Amy Tan",
                                    "title": "The Hundred Secret Senses",
                                    "average_rating": "3.98",
                                    "tag_id": "11644"
                                },
                                {
                                    "authors": "Margaret Atwood",
                                    "title": "MaddAddam (MaddAddam, #3)",
                                    "average_rating": "3.98",
                                    "tag_id": "11644"
                                },
                                {
                                    "authors": "Sarah Vowell",
                                    "title": "Assassination Vacation",
                                    "average_rating": "3.98",
                                    "tag_id": "11644"
                                },
                                {
                                    "authors": "Tamora Pierce",
                                    "title": "Magic Steps (The Circle Opens, #1)",
                                    "average_rating": "3.98",
                                    "tag_id": "11644"
                                },
                                {
                                    "authors": "A.N. Roquelaure, Anne Rice",
                                    "title": "Sleeping Beauty Box Set",
                                    "average_rating": "3.98",
                                    "tag_id": "11644"
                                },
                                {
                                    "authors": "Nancy Garden",
                                    "title": "Annie on My Mind",
                                    "average_rating": "3.97",
                                    "tag_id": "11644"
                                },
                                {
                                    "authors": "Tana French",
                                    "title": "Faithful Place (Dublin Murder Squad, #3)",
                                    "average_rating": "3.97",
                                    "tag_id": "11644"
                                },
                                {
                                    "authors": "Margaret Atwood, Brigitte Walitzek",
                                    "title": "Alias Grace",
                                    "average_rating": "3.97",
                                    "tag_id": "11644"
                                },
                                {
                                    "authors": "Ann Leckie",
                                    "title": "Ancillary Justice (Imperial Radch #1)",
                                    "average_rating": "3.97",
                                    "tag_id": "11644"
                                },
                                {
                                    "authors": "Katherine Boo",
                                    "title": "Behind the Beautiful Forevers: Life, Death, and Hope in a Mumbai Undercity",
                                    "average_rating": "3.97",
                                    "tag_id": "11644"
                                },
                                {
                                    "authors": "Carson McCullers",
                                    "title": "The Heart is a Lonely Hunter",
                                    "average_rating": "3.97",
                                    "tag_id": "11644"
                                },
                                {
                                    "authors": "Johanna Spyri, Angelo  Rinaldi, Beverly Cleary",
                                    "title": "Heidi",
                                    "average_rating": "3.97",
                                    "tag_id": "11644"
                                },
                                {
                                    "authors": "Pearl S. Buck",
                                    "title": "The Good Earth (House of Earth, #1)",
                                    "average_rating": "3.97",
                                    "tag_id": "11644"
                                },
                                {
                                    "authors": "Anne Rice",
                                    "title": "Interview with the Vampire (The Vampire Chronicles, #1)",
                                    "average_rating": "3.97",
                                    "tag_id": "11644"
                                },
                                {
                                    "authors": "Amanda Palmer",
                                    "title": "The Art of Asking; or, How I Learned to Stop Worrying and Let People Help",
                                    "average_rating": "3.97",
                                    "tag_id": "11644"
                                },
                                {
                                    "authors": "Catherynne M. Valente, Ana Juan",
                                    "title": "The Girl Who Circumnavigated Fairyland in a Ship of Her Own Making (Fairyland, #1)",
                                    "average_rating": "3.97",
                                    "tag_id": "11644"
                                },
                                {
                                    "authors": "Louise Rennison",
                                    "title": "Knocked Out by My Nunga-Nungas (Confessions of Georgia Nicolson, #3)",
                                    "average_rating": "3.97",
                                    "tag_id": "11644"
                                },
                                {
                                    "authors": "Agatha Christie",
                                    "title": "A Murder Is Announced (Miss Marple, #5)",
                                    "average_rating": "3.96",
                                    "tag_id": "11644"
                                },
                                {
                                    "authors": "Nigella Lawson",
                                    "title": "Nigella Express: Good Food, Fast",
                                    "average_rating": "3.96",
                                    "tag_id": "11644"
                                },
                                {
                                    "authors": "Liz Moore",
                                    "title": "Heft",
                                    "average_rating": "3.96",
                                    "tag_id": "11644"
                                },
                                {
                                    "authors": "V.C. Andrews",
                                    "title": "Dark Angel (Casteel, #2)",
                                    "average_rating": "3.96",
                                    "tag_id": "11644"
                                },
                                {
                                    "authors": "Jhumpa Lahiri",
                                    "title": "The Namesake",
                                    "average_rating": "3.96",
                                    "tag_id": "11644"
                                },
                                {
                                    "authors": "Alexandra Fuller",
                                    "title": "Don't Let's Go to the Dogs Tonight",
                                    "average_rating": "3.96",
                                    "tag_id": "11644"
                                },
                                {
                                    "authors": "Sarah Ban Breathnach",
                                    "title": "Simple Abundance:  A Daybook of Comfort and Joy",
                                    "average_rating": "3.96",
                                    "tag_id": "11644"
                                },
                                {
                                    "authors": "Louise Fitzhugh",
                                    "title": "Harriet the Spy (Harriet the Spy #1)",
                                    "average_rating": "3.96",
                                    "tag_id": "11644"
                                },
                                {
                                    "authors": "Jean Kwok",
                                    "title": "Girl in Translation",
                                    "average_rating": "3.96",
                                    "tag_id": "11644"
                                },
                                {
                                    "authors": "Louise Rennison",
                                    "title": "On the Bright Side, I'm Now the Girlfriend of a Sex God (Confessions of Georgia Nicolson, #2)",
                                    "average_rating": "3.96",
                                    "tag_id": "11644"
                                },
                                {
                                    "authors": "Sarah Hepola",
                                    "title": "Blackout: Remembering the Things I Drank to Forget",
                                    "average_rating": "3.96",
                                    "tag_id": "11644"
                                },
                                {
                                    "authors": "Isabel Allende",
                                    "title": "The Stories of Eva Luna",
                                    "average_rating": "3.96",
                                    "tag_id": "11644"
                                },
                                {
                                    "authors": "Rene Denfeld",
                                    "title": "The Enchanted",
                                    "average_rating": "3.96",
                                    "tag_id": "11644"
                                },
                                {
                                    "authors": "Anne Michaels",
                                    "title": "Fugitive Pieces",
                                    "average_rating": "3.95",
                                    "tag_id": "11644"
                                },
                                {
                                    "authors": "Mollie Katzen",
                                    "title": "The Moosewood Cookbook: Recipes from Moosewood Restaurant, Ithaca, New York",
                                    "average_rating": "3.95",
                                    "tag_id": "11644"
                                },
                                {
                                    "authors": "Pamela Druckerman, Abby Craden",
                                    "title": "Bringing Up Bébé: One American Mother Discovers the Wisdom of French Parenting",
                                    "average_rating": "3.95",
                                    "tag_id": "11644"
                                },
                                {
                                    "authors": "Ann-Marie MacDonald",
                                    "title": "Fall on Your Knees",
                                    "average_rating": "3.95",
                                    "tag_id": "11644"
                                },
                                {
                                    "authors": "Audrey Niffenegger",
                                    "title": "The Time Traveler's Wife",
                                    "average_rating": "3.95",
                                    "tag_id": "11644"
                                },
                                {
                                    "authors": "Newt Scamander, J.K. Rowling, Albus Dumbledore",
                                    "title": "Fantastic Beasts and Where to Find Them",
                                    "average_rating": "3.95",
                                    "tag_id": "11644"
                                },
                                {
                                    "authors": "Joanne Harris",
                                    "title": "Chocolat (Chocolat, #1)",
                                    "average_rating": "3.95",
                                    "tag_id": "11644"
                                },
                                {
                                    "authors": "Eowyn Ivey",
                                    "title": "The Snow Child",
                                    "average_rating": "3.95",
                                    "tag_id": "11644"
                                },
                                {
                                    "authors": "Margaret Atwood",
                                    "title": "The Blind Assassin",
                                    "average_rating": "3.95",
                                    "tag_id": "11644"
                                },
                                {
                                    "authors": "Heather O'Neill",
                                    "title": "Lullabies for Little Criminals",
                                    "average_rating": "3.95",
                                    "tag_id": "11644"
                                },
                                {
                                    "authors": "Isabel Allende, Margaret Sayers Peden",
                                    "title": "Eva Luna",
                                    "average_rating": "3.95",
                                    "tag_id": "11644"
                                },
                                {
                                    "authors": "Agatha Christie",
                                    "title": "Evil Under the Sun (Hercule Poirot, #23)",
                                    "average_rating": "3.94",
                                    "tag_id": "11644"
                                },
                                {
                                    "authors": "Alison Weir",
                                    "title": "Innocent Traitor",
                                    "average_rating": "3.94",
                                    "tag_id": "11644"
                                },
                                {
                                    "authors": "Judy Blume",
                                    "title": "Otherwise Known as Sheila the Great (Fudge #2)",
                                    "average_rating": "3.94",
                                    "tag_id": "11644"
                                },
                                {
                                    "authors": "Jeanette Winterson",
                                    "title": "Why Be Happy When You Could Be Normal?",
                                    "average_rating": "3.94",
                                    "tag_id": "11644"
                                },
                                {
                                    "authors": "P.D. James",
                                    "title": "Cover Her Face (Adam Dalgliesh #1)",
                                    "average_rating": "3.94",
                                    "tag_id": "11644"
                                },
                                {
                                    "authors": "Rachel Carson, Linda Lear, Edward O. Wilson",
                                    "title": "Silent Spring",
                                    "average_rating": "3.94",
                                    "tag_id": "11644"
                                },
                                {
                                    "authors": "Noelle Stevenson, Grace Ellis, Shannon Waters, Shannon Watters, Brooke A. Allen, Faith Hicks, Kat Leyh, Brooke Allen, Carolyn Nowak, Various, Carey Pietsch",
                                    "title": "Lumberjanes, Vol. 1: Beware the Kitten Holy",
                                    "average_rating": "3.94",
                                    "tag_id": "11644"
                                },
                                {
                                    "authors": "Ann M. Martin",
                                    "title": "Kristy's Great Idea (The Baby-Sitters Club, #1)",
                                    "average_rating": "3.94",
                                    "tag_id": "11644"
                                },
                                {
                                    "authors": "Gail Tsukiyama",
                                    "title": "Women of the Silk",
                                    "average_rating": "3.94",
                                    "tag_id": "11644"
                                },
                                {
                                    "authors": "Patti Smith",
                                    "title": "M Train",
                                    "average_rating": "3.94",
                                    "tag_id": "11644"
                                },
                                {
                                    "authors": "Yōko Ogawa, Stephen Snyder",
                                    "title": "The Housekeeper and the Professor",
                                    "average_rating": "3.94",
                                    "tag_id": "11644"
                                },
                                {
                                    "authors": "Barbara Kingsolver",
                                    "title": "The Bean Trees (Greer Family, #1)",
                                    "average_rating": "3.94",
                                    "tag_id": "11644"
                                },
                                {
                                    "authors": "Edith Wharton, Nina Bawden",
                                    "title": "The House of Mirth",
                                    "average_rating": "3.94",
                                    "tag_id": "11644"
                                },
                                {
                                    "authors": "Anna Sewell",
                                    "title": "Black Beauty",
                                    "average_rating": "3.94",
                                    "tag_id": "11644"
                                },
                                {
                                    "authors": "Tina Fey",
                                    "title": "Bossypants",
                                    "average_rating": "3.94",
                                    "tag_id": "11644"
                                },
                                {
                                    "authors": "Laura Esquivel, Thomas  Christensen, Carol Christensen",
                                    "title": "Like Water for Chocolate",
                                    "average_rating": "3.94",
                                    "tag_id": "11644"
                                },
                                {
                                    "authors": "Terry McMillan",
                                    "title": "Waiting to Exhale (Waiting To Exhale #1)",
                                    "average_rating": "3.94",
                                    "tag_id": "11644"
                                },
                                {
                                    "authors": "Melanie Rawn",
                                    "title": "Dragon Prince (Dragon Prince, #1)",
                                    "average_rating": "3.94",
                                    "tag_id": "11644"
                                },
                                {
                                    "authors": "Jill Murphy",
                                    "title": "The Worst Witch (Worst Witch, #1)",
                                    "average_rating": "3.94",
                                    "tag_id": "11644"
                                },
                                {
                                    "authors": "Ruth Ozeki",
                                    "title": "My Year of Meats",
                                    "average_rating": "3.93",
                                    "tag_id": "11644"
                                },
                                {
                                    "authors": "Sara Douglass",
                                    "title": "The Wayfarer Redemption (Wayfarer Redemption, #1)",
                                    "average_rating": "3.93",
                                    "tag_id": "11644"
                                },
                                {
                                    "authors": "Phyllis T. Smith",
                                    "title": "I Am Livia",
                                    "average_rating": "3.93",
                                    "tag_id": "11644"
                                },
                                {
                                    "authors": "Janet Fitch",
                                    "title": "White Oleander",
                                    "average_rating": "3.93",
                                    "tag_id": "11644"
                                },
                                {
                                    "authors": "Edith Wharton, Maureen Howard",
                                    "title": "The Age of Innocence",
                                    "average_rating": "3.93",
                                    "tag_id": "11644"
                                },
                                {
                                    "authors": "George Eliot, Michel Faber",
                                    "title": "Middlemarch",
                                    "average_rating": "3.93",
                                    "tag_id": "11644"
                                },
                                {
                                    "authors": "Jenny  Lawson",
                                    "title": "Furiously Happy: A Funny Book About Horrible Things",
                                    "average_rating": "3.93",
                                    "tag_id": "11644"
                                },
                                {
                                    "authors": "Marian Keyes",
                                    "title": "Rachel's Holiday (Walsh Family, #2)",
                                    "average_rating": "3.93",
                                    "tag_id": "11644"
                                },
                                {
                                    "authors": "Patricia Highsmith",
                                    "title": "The Talented Mr. Ripley (Ripley, #1)",
                                    "average_rating": "3.93",
                                    "tag_id": "11644"
                                },
                                {
                                    "authors": "Mary Roach",
                                    "title": "Packing for Mars: The Curious Science of Life in the Void",
                                    "average_rating": "3.93",
                                    "tag_id": "11644"
                                },
                                {
                                    "authors": "Annie Proulx",
                                    "title": "Brokeback Mountain",
                                    "average_rating": "3.93",
                                    "tag_id": "11644"
                                },
                                {
                                    "authors": "Rebecca Solnit",
                                    "title": "Men Explain Things to Me",
                                    "average_rating": "3.93",
                                    "tag_id": "11644"
                                },
                                {
                                    "authors": "Margaret Atwood",
                                    "title": "Stone Mattress: Nine Tales",
                                    "average_rating": "3.93",
                                    "tag_id": "11644"
                                },
                                {
                                    "authors": "Natsuo Kirino, Stephen Snyder",
                                    "title": "Out",
                                    "average_rating": "3.93",
                                    "tag_id": "11644"
                                },
                                {
                                    "authors": "Isabel Allende, Margaret Sayers Peden",
                                    "title": "Portrait in Sepia",
                                    "average_rating": "3.93",
                                    "tag_id": "11644"
                                },
                                {
                                    "authors": "Patricia Highsmith",
                                    "title": "The Price of Salt",
                                    "average_rating": "3.93",
                                    "tag_id": "11644"
                                },
                                {
                                    "authors": "Stella Gibbons, Lynne Truss, Roz Chast",
                                    "title": "Cold Comfort Farm",
                                    "average_rating": "3.92",
                                    "tag_id": "11644"
                                },
                                {
                                    "authors": "Mary Roach",
                                    "title": "Gulp: Adventures on the Alimentary Canal",
                                    "average_rating": "3.92",
                                    "tag_id": "11644"
                                },
                                {
                                    "authors": "Chelsea Cain",
                                    "title": "Heartsick (Archie Sheridan & Gretchen Lowell, #1)",
                                    "average_rating": "3.92",
                                    "tag_id": "11644"
                                },
                                {
                                    "authors": "Agatha Christie",
                                    "title": "4:50 from Paddington (Miss Marple, #8)",
                                    "average_rating": "3.92",
                                    "tag_id": "11644"
                                },
                                {
                                    "authors": "Daphne du Maurier",
                                    "title": "My Cousin Rachel",
                                    "average_rating": "3.92",
                                    "tag_id": "11644"
                                },
                                {
                                    "authors": "Mineko Iwasaki, Rande Brown",
                                    "title": "Geisha, a Life",
                                    "average_rating": "3.92",
                                    "tag_id": "11644"
                                },
                                {
                                    "authors": "Cynthia Voigt",
                                    "title": "Homecoming (Tillerman Cycle, #1)",
                                    "average_rating": "3.92",
                                    "tag_id": "11644"
                                },
                                {
                                    "authors": "Julie Maroh",
                                    "title": "Le bleu est une couleur chaude",
                                    "average_rating": "3.92",
                                    "tag_id": "11644"
                                },
                                {
                                    "authors": "Kate Atkinson",
                                    "title": "A God in Ruins",
                                    "average_rating": "3.92",
                                    "tag_id": "11644"
                                },
                                {
                                    "authors": "Emily Carroll",
                                    "title": "Through the Woods",
                                    "average_rating": "3.92",
                                    "tag_id": "11644"
                                },
                                {
                                    "authors": "Mary Karr",
                                    "title": "The Liars' Club",
                                    "average_rating": "3.92",
                                    "tag_id": "11644"
                                },
                                {
                                    "authors": "Margaret Atwood",
                                    "title": "Cat's Eye",
                                    "average_rating": "3.92",
                                    "tag_id": "11644"
                                },
                                {
                                    "authors": "Ann Patchett",
                                    "title": "Bel Canto",
                                    "average_rating": "3.92",
                                    "tag_id": "11644"
                                },
                                {
                                    "authors": "Gillian Flynn",
                                    "title": "Sharp Objects",
                                    "average_rating": "3.92",
                                    "tag_id": "11644"
                                },
                                {
                                    "authors": "Louisa May Alcott",
                                    "title": "Good Wives (Little Women, #1.5)",
                                    "average_rating": "3.92",
                                    "tag_id": "11644"
                                },
                                {
                                    "authors": "Elizabeth Berg",
                                    "title": "What We Keep ",
                                    "average_rating": "3.91",
                                    "tag_id": "11644"
                                },
                                {
                                    "authors": "Arundhati Roy",
                                    "title": "The God of Small Things",
                                    "average_rating": "3.91",
                                    "tag_id": "11644"
                                },
                                {
                                    "authors": "Nicole Krauss",
                                    "title": "The History of Love",
                                    "average_rating": "3.91",
                                    "tag_id": "11644"
                                },
                                {
                                    "authors": "Jodi Picoult",
                                    "title": "Change of Heart",
                                    "average_rating": "3.91",
                                    "tag_id": "11644"
                                },
                                {
                                    "authors": "Louise Erdrich",
                                    "title": "The Round House",
                                    "average_rating": "3.91",
                                    "tag_id": "11644"
                                },
                                {
                                    "authors": "Anne Brontë, Stevie Davies",
                                    "title": "The Tenant of Wildfell Hall",
                                    "average_rating": "3.91",
                                    "tag_id": "11644"
                                },
                                {
                                    "authors": "Roxane Gay",
                                    "title": "Bad Feminist",
                                    "average_rating": "3.91",
                                    "tag_id": "11644"
                                },
                                {
                                    "authors": "Danielle Steel",
                                    "title": "The Gift",
                                    "average_rating": "3.91",
                                    "tag_id": "11644"
                                },
                                {
                                    "authors": "Toni Morrison",
                                    "title": "Tar Baby",
                                    "average_rating": "3.91",
                                    "tag_id": "11644"
                                },
                                {
                                    "authors": "Dorothy L. Sayers",
                                    "title": "Whose Body?  (Lord Peter Wimsey, #1)",
                                    "average_rating": "3.91",
                                    "tag_id": "11644"
                                },
                                {
                                    "authors": "Sarah Vowell, Katherine Streeter",
                                    "title": "The Partly Cloudy Patriot",
                                    "average_rating": "3.9",
                                    "tag_id": "11644"
                                },
                                {
                                    "authors": "Judith Guest",
                                    "title": "Ordinary People",
                                    "average_rating": "3.9",
                                    "tag_id": "11644"
                                },
                                {
                                    "authors": "Isabel Allende, Margaret Sayers Peden",
                                    "title": "Inés of My Soul",
                                    "average_rating": "3.9",
                                    "tag_id": "11644"
                                },
                                {
                                    "authors": "Agatha Christie",
                                    "title": "Hercule Poirot's Christmas (Hercule Poirot, #20)",
                                    "average_rating": "3.9",
                                    "tag_id": "11644"
                                },
                                {
                                    "authors": "Susanna Kaysen",
                                    "title": "Girl, Interrupted",
                                    "average_rating": "3.9",
                                    "tag_id": "11644"
                                },
                                {
                                    "authors": "Amy Tan",
                                    "title": "The Joy Luck Club",
                                    "average_rating": "3.9",
                                    "tag_id": "11644"
                                },
                                {
                                    "authors": "Octavia E. Butler",
                                    "title": "Fledgling",
                                    "average_rating": "3.9",
                                    "tag_id": "11644"
                                },
                                {
                                    "authors": "Iris Murdoch, Mary Kinzie",
                                    "title": "The Sea, the Sea",
                                    "average_rating": "3.9",
                                    "tag_id": "11644"
                                },
                                {
                                    "authors": "Naomi Wolf",
                                    "title": "The Beauty Myth",
                                    "average_rating": "3.89",
                                    "tag_id": "11644"
                                },
                                {
                                    "authors": "Liz Kessler, Sarah Gibb",
                                    "title": "The Tail of Emily Windsnap (Emily Windsnap, #1)",
                                    "average_rating": "3.89",
                                    "tag_id": "11644"
                                },
                                {
                                    "authors": "Louise Erdrich",
                                    "title": "The Beet Queen",
                                    "average_rating": "3.89",
                                    "tag_id": "11644"
                                },
                                {
                                    "authors": "Judy Blume",
                                    "title": "Are You There God? It's Me, Margaret",
                                    "average_rating": "3.89",
                                    "tag_id": "11644"
                                },
                                {
                                    "authors": "Isabel Allende, Margaret Sayers Peden",
                                    "title": "Daughter of Fortune",
                                    "average_rating": "3.89",
                                    "tag_id": "11644"
                                },
                                {
                                    "authors": "Mindy Kaling",
                                    "title": "Why Not Me?",
                                    "average_rating": "3.89",
                                    "tag_id": "11644"
                                },
                                {
                                    "authors": "Shirley Jackson, Laura   Miller",
                                    "title": "The Haunting of Hill House",
                                    "average_rating": "3.89",
                                    "tag_id": "11644"
                                },
                                {
                                    "authors": "Ursula K. Le Guin",
                                    "title": "Tehanu (Earthsea Cycle, #4)",
                                    "average_rating": "3.89",
                                    "tag_id": "11644"
                                },
                                {
                                    "authors": "Agatha Christie",
                                    "title": "The Mirror Crack'd from Side to Side (Miss Marple, #9)",
                                    "average_rating": "3.89",
                                    "tag_id": "11644"
                                },
                                {
                                    "authors": "Agatha Christie",
                                    "title": "Peril at End House (Hercule Poirot, #8)",
                                    "average_rating": "3.89",
                                    "tag_id": "11644"
                                },
                                {
                                    "authors": "Lucy Knisley",
                                    "title": "Relish: My Life in the Kitchen",
                                    "average_rating": "3.89",
                                    "tag_id": "11644"
                                },
                                {
                                    "authors": "S.E. Hinton",
                                    "title": "That Was Then, This Is Now",
                                    "average_rating": "3.89",
                                    "tag_id": "11644"
                                },
                                {
                                    "authors": "Willa Cather",
                                    "title": "Death Comes for the Archbishop",
                                    "average_rating": "3.88",
                                    "tag_id": "11644"
                                },
                                {
                                    "authors": "Rita Mae Brown",
                                    "title": "Rubyfruit Jungle",
                                    "average_rating": "3.88",
                                    "tag_id": "11644"
                                },
                                {
                                    "authors": "Flannery O'Connor",
                                    "title": "Wise Blood",
                                    "average_rating": "3.88",
                                    "tag_id": "11644"
                                },
                                {
                                    "authors": "Frida Kahlo, Carlos Fuentes, Sarah M. Lowe",
                                    "title": "The Diary of Frida Kahlo: An Intimate Self-Portrait",
                                    "average_rating": "3.88",
                                    "tag_id": "11644"
                                },
                                {
                                    "authors": "Carrie Brownstein",
                                    "title": "Hunger Makes Me a Modern Girl",
                                    "average_rating": "3.88",
                                    "tag_id": "11644"
                                },
                                {
                                    "authors": "A.S. Byatt",
                                    "title": "Possession",
                                    "average_rating": "3.88",
                                    "tag_id": "11644"
                                },
                                {
                                    "authors": "Jean M. Auel",
                                    "title": "The Mammoth Hunters (Earth's Children, #3)",
                                    "average_rating": "3.88",
                                    "tag_id": "11644"
                                },
                                {
                                    "authors": "Vera Brosgol",
                                    "title": "Anya's Ghost",
                                    "average_rating": "3.88",
                                    "tag_id": "11644"
                                },
                                {
                                    "authors": "Elena Ferrante, Ann Goldstein",
                                    "title": "My Brilliant Friend (The Neapolitan Novels #1)",
                                    "average_rating": "3.88",
                                    "tag_id": "11644"
                                },
                                {
                                    "authors": "Inga Muscio, Betty Dodson",
                                    "title": "Cunt: A Declaration of Independence",
                                    "average_rating": "3.88",
                                    "tag_id": "11644"
                                },
                                {
                                    "authors": "Georgia Byng",
                                    "title": "Molly Moon's Incredible Book of Hypnotism (Molly Moon, #1)",
                                    "average_rating": "3.87",
                                    "tag_id": "11644"
                                },
                                {
                                    "authors": "Jacqueline Woodson",
                                    "title": "Another Brooklyn",
                                    "average_rating": "3.87",
                                    "tag_id": "11644"
                                },
                                {
                                    "authors": "V.C. Andrews",
                                    "title": "Dawn (Cutler, #1)",
                                    "average_rating": "3.87",
                                    "tag_id": "11644"
                                },
                                {
                                    "authors": "Zora Neale Hurston",
                                    "title": "Their Eyes Were Watching God",
                                    "average_rating": "3.87",
                                    "tag_id": "11644"
                                },
                                {
                                    "authors": "Donna Tartt",
                                    "title": "The Goldfinch",
                                    "average_rating": "3.87",
                                    "tag_id": "11644"
                                },
                                {
                                    "authors": "Anchee Min",
                                    "title": "Empress Orchid (Empress Orchid, #1)",
                                    "average_rating": "3.87",
                                    "tag_id": "11644"
                                },
                                {
                                    "authors": "Sheri  Fink",
                                    "title": "Five Days at Memorial: Life and Death in a Storm-Ravaged Hospital",
                                    "average_rating": "3.87",
                                    "tag_id": "11644"
                                },
                                {
                                    "authors": "Joan Didion, David Thomson",
                                    "title": "Play It as It Lays",
                                    "average_rating": "3.86",
                                    "tag_id": "11644"
                                },
                                {
                                    "authors": "Naomi Klein",
                                    "title": "No Logo",
                                    "average_rating": "3.86",
                                    "tag_id": "11644"
                                },
                                {
                                    "authors": "Edwidge Danticat",
                                    "title": "Breath, Eyes, Memory",
                                    "average_rating": "3.86",
                                    "tag_id": "11644"
                                },
                                {
                                    "authors": "Jill Bolte Taylor",
                                    "title": "My Stroke of Insight: A Brain Scientist's Personal Journey",
                                    "average_rating": "3.86",
                                    "tag_id": "11644"
                                },
                                {
                                    "authors": "Eve Ensler, Gloria Steinem",
                                    "title": "The Vagina Monologues",
                                    "average_rating": "3.86",
                                    "tag_id": "11644"
                                },
                                {
                                    "authors": "Susan Vreeland",
                                    "title": "The Passion of Artemisia",
                                    "average_rating": "3.86",
                                    "tag_id": "11644"
                                },
                                {
                                    "authors": "Joan Didion",
                                    "title": "The Year of Magical Thinking",
                                    "average_rating": "3.86",
                                    "tag_id": "11644"
                                },
                                {
                                    "authors": "Anne Rice",
                                    "title": "The Queen of the Damned (The Vampire Chronicles, #3)",
                                    "average_rating": "3.86",
                                    "tag_id": "11644"
                                },
                                {
                                    "authors": "Virginia Woolf",
                                    "title": "Orlando",
                                    "average_rating": "3.86",
                                    "tag_id": "11644"
                                },
                                {
                                    "authors": "Toni Morrison",
                                    "title": "Sula",
                                    "average_rating": "3.86",
                                    "tag_id": "11644"
                                },
                                {
                                    "authors": "Sarah Vowell",
                                    "title": "Take the Cannoli",
                                    "average_rating": "3.86",
                                    "tag_id": "11644"
                                },
                                {
                                    "authors": "Madeleine L'Engle",
                                    "title": "An Acceptable Time (A Wrinkle in Time Quintet, #5)",
                                    "average_rating": "3.86",
                                    "tag_id": "11644"
                                },
                                {
                                    "authors": "Louise Erdrich",
                                    "title": "LaRose",
                                    "average_rating": "3.86",
                                    "tag_id": "11644"
                                },
                                {
                                    "authors": "Mary Higgins Clark",
                                    "title": "Pretend You Don't See Her",
                                    "average_rating": "3.86",
                                    "tag_id": "11644"
                                },
                                {
                                    "authors": "Susanna Clarke, Charles Vess",
                                    "title": "The Ladies of Grace Adieu and Other Stories",
                                    "average_rating": "3.85",
                                    "tag_id": "11644"
                                },
                                {
                                    "authors": "Agatha Christie",
                                    "title": "The Body in the Library (Miss Marple, #3)",
                                    "average_rating": "3.85",
                                    "tag_id": "11644"
                                },
                                {
                                    "authors": "Hilary Mantel",
                                    "title": "Wolf Hall (Thomas Cromwell, #1)",
                                    "average_rating": "3.85",
                                    "tag_id": "11644"
                                },
                                {
                                    "authors": "Tracy Chevalier",
                                    "title": "Girl with a Pearl Earring",
                                    "average_rating": "3.85",
                                    "tag_id": "11644"
                                },
                                {
                                    "authors": "Ayn Rand, Leonard Peikoff",
                                    "title": "The Fountainhead",
                                    "average_rating": "3.85",
                                    "tag_id": "11644"
                                },
                                {
                                    "authors": "Melina Marchetta",
                                    "title": "Looking for Alibrandi",
                                    "average_rating": "3.85",
                                    "tag_id": "11644"
                                },
                                {
                                    "authors": "Betty Friedan, Anna Quindlen",
                                    "title": "The Feminine Mystique",
                                    "average_rating": "3.85",
                                    "tag_id": "11644"
                                },
                                {
                                    "authors": "Daphne du Maurier",
                                    "title": "Jamaica Inn",
                                    "average_rating": "3.85",
                                    "tag_id": "11644"
                                },
                                {
                                    "authors": "Hannah  Green, Joanne Greenberg",
                                    "title": "I Never Promised You a Rose Garden",
                                    "average_rating": "3.85",
                                    "tag_id": "11644"
                                },
                                {
                                    "authors": "Susan Cooper",
                                    "title": "Over Sea, Under Stone (The Dark Is Rising, #1)",
                                    "average_rating": "3.85",
                                    "tag_id": "11644"
                                },
                                {
                                    "authors": "Elizabeth Gaskell",
                                    "title": "Cranford",
                                    "average_rating": "3.85",
                                    "tag_id": "11644"
                                },
                                {
                                    "authors": "Cristina Henriquez",
                                    "title": "The Book of Unknown Americans",
                                    "average_rating": "3.85",
                                    "tag_id": "11644"
                                },
                                {
                                    "authors": "Carol Shields",
                                    "title": "The Stone Diaries",
                                    "average_rating": "3.84",
                                    "tag_id": "11644"
                                },
                                {
                                    "authors": "Susan Sontag",
                                    "title": "On Photography",
                                    "average_rating": "3.84",
                                    "tag_id": "11644"
                                },
                                {
                                    "authors": "Willa Cather",
                                    "title": "O Pioneers!",
                                    "average_rating": "3.84",
                                    "tag_id": "11644"
                                },
                                {
                                    "authors": "Lilian Jackson Braun",
                                    "title": "The Cat Who Could Read Backwards (Cat Who..., #1)",
                                    "average_rating": "3.84",
                                    "tag_id": "11644"
                                },
                                {
                                    "authors": "Fannie Flagg",
                                    "title": "Welcome to the World, Baby Girl! (Elmwood Springs, #1)",
                                    "average_rating": "3.84",
                                    "tag_id": "11644"
                                },
                                {
                                    "authors": "Mindy Kaling",
                                    "title": "Is Everyone Hanging Out Without Me? (And Other Concerns)",
                                    "average_rating": "3.84",
                                    "tag_id": "11644"
                                },
                                {
                                    "authors": "Jane Austen, Kathryn Sutherland, Tony Tanner, Claire Lamont",
                                    "title": "Mansfield Park",
                                    "average_rating": "3.84",
                                    "tag_id": "11644"
                                },
                                {
                                    "authors": "Ann Patchett",
                                    "title": "Commonwealth",
                                    "average_rating": "3.84",
                                    "tag_id": "11644"
                                },
                                {
                                    "authors": "Lily King",
                                    "title": "Euphoria",
                                    "average_rating": "3.84",
                                    "tag_id": "11644"
                                },
                                {
                                    "authors": "Marilynne Robinson",
                                    "title": "Gilead (Gilead, #1)",
                                    "average_rating": "3.84",
                                    "tag_id": "11644"
                                },
                                {
                                    "authors": "Agatha Christie",
                                    "title": "Nemesis (Miss Marple, #12)",
                                    "average_rating": "3.84",
                                    "tag_id": "11644"
                                },
                                {
                                    "authors": "Rita Golden Gelman",
                                    "title": "Tales of a Female Nomad: Living at Large in the World",
                                    "average_rating": "3.84",
                                    "tag_id": "11644"
                                },
                                {
                                    "authors": "G. Willow Wilson",
                                    "title": "Alif the Unseen",
                                    "average_rating": "3.84",
                                    "tag_id": "11644"
                                },
                                {
                                    "authors": "Agatha Christie",
                                    "title": "The Moving Finger (Miss Marple, #4)",
                                    "average_rating": "3.84",
                                    "tag_id": "11644"
                                },
                                {
                                    "authors": "Agatha Christie",
                                    "title": "After the Funeral (Hercule Poirot, #29)",
                                    "average_rating": "3.84",
                                    "tag_id": "11644"
                                },
                                {
                                    "authors": "Jeanette Winterson",
                                    "title": "Sexing the Cherry",
                                    "average_rating": "3.83",
                                    "tag_id": "11644"
                                },
                                {
                                    "authors": "Jessi Klein",
                                    "title": "You'll Grow Out of It",
                                    "average_rating": "3.83",
                                    "tag_id": "11644"
                                },
                                {
                                    "authors": "Portia de Rossi",
                                    "title": "Unbearable Lightness: A Story of Loss and Gain",
                                    "average_rating": "3.83",
                                    "tag_id": "11644"
                                },
                                {
                                    "authors": "Mary Roach",
                                    "title": "Bonk: The Curious Coupling of Science and Sex",
                                    "average_rating": "3.83",
                                    "tag_id": "11644"
                                },
                                {
                                    "authors": "Patricia Schultz",
                                    "title": "1,000 Places to See Before You Die",
                                    "average_rating": "3.83",
                                    "tag_id": "11644"
                                },
                                {
                                    "authors": "Harriet Beecher Stowe",
                                    "title": "Uncle Tom's Cabin",
                                    "average_rating": "3.83",
                                    "tag_id": "11644"
                                },
                                {
                                    "authors": "Annie Proulx",
                                    "title": "The Shipping News",
                                    "average_rating": "3.83",
                                    "tag_id": "11644"
                                },
                                {
                                    "authors": "Joanne Harris",
                                    "title": "Five Quarters of the Orange",
                                    "average_rating": "3.83",
                                    "tag_id": "11644"
                                },
                                {
                                    "authors": "Banana Yoshimoto, Megan Backus",
                                    "title": "Kitchen",
                                    "average_rating": "3.83",
                                    "tag_id": "11644"
                                },
                                {
                                    "authors": "Margaret Atwood",
                                    "title": "The Robber Bride",
                                    "average_rating": "3.82",
                                    "tag_id": "11644"
                                },
                                {
                                    "authors": "Marilynne Robinson",
                                    "title": "Housekeeping",
                                    "average_rating": "3.82",
                                    "tag_id": "11644"
                                },
                                {
                                    "authors": "Camille Pagán",
                                    "title": "Life and Other Near-Death Experiences",
                                    "average_rating": "3.82",
                                    "tag_id": "11644"
                                },
                                {
                                    "authors": "Anne Tyler",
                                    "title": "Dinner at the Homesick Restaurant",
                                    "average_rating": "3.82",
                                    "tag_id": "11644"
                                },
                                {
                                    "authors": "George Eliot, Edmund White",
                                    "title": "Daniel Deronda",
                                    "average_rating": "3.82",
                                    "tag_id": "11644"
                                },
                                {
                                    "authors": "Agatha Christie",
                                    "title": "Cat Among the Pigeons (Hercule Poirot, #32)",
                                    "average_rating": "3.82",
                                    "tag_id": "11644"
                                },
                                {
                                    "authors": "Alice Munro",
                                    "title": "Too Much Happiness",
                                    "average_rating": "3.82",
                                    "tag_id": "11644"
                                },
                                {
                                    "authors": "Jhumpa Lahiri",
                                    "title": "The Lowland",
                                    "average_rating": "3.82",
                                    "tag_id": "11644"
                                },
                                {
                                    "authors": "Emily Brontë, Richard J. Dunn",
                                    "title": "Wuthering Heights",
                                    "average_rating": "3.82",
                                    "tag_id": "11644"
                                },
                                {
                                    "authors": "Therese Anne Fowler",
                                    "title": "Z: A Novel of Zelda Fitzgerald",
                                    "average_rating": "3.82",
                                    "tag_id": "11644"
                                },
                                {
                                    "authors": "Marina Keegan",
                                    "title": "The Opposite of Loneliness: Essays and Stories",
                                    "average_rating": "3.82",
                                    "tag_id": "11644"
                                },
                                {
                                    "authors": "Irène Némirovsky, Sandra Smith",
                                    "title": "Suite Française",
                                    "average_rating": "3.82",
                                    "tag_id": "11644"
                                },
                                {
                                    "authors": "Marie Kondō",
                                    "title": "Spark Joy: An Illustrated Master Class on the Art of Organizing and Tidying Up",
                                    "average_rating": "3.82",
                                    "tag_id": "11644"
                                },
                                {
                                    "authors": "Patricia Highsmith",
                                    "title": "Strangers on a Train",
                                    "average_rating": "3.82",
                                    "tag_id": "11644"
                                },
                                {
                                    "authors": "Marjane Satrapi, Anjali Singh",
                                    "title": "Embroideries",
                                    "average_rating": "3.82",
                                    "tag_id": "11644"
                                },
                                {
                                    "authors": "Donna Leon",
                                    "title": "Death at La Fenice (Commissario Brunetti, #1)",
                                    "average_rating": "3.81",
                                    "tag_id": "11644"
                                },
                                {
                                    "authors": "Miranda July",
                                    "title": "No One Belongs Here More Than You",
                                    "average_rating": "3.81",
                                    "tag_id": "11644"
                                },
                                {
                                    "authors": "Amy Poehler",
                                    "title": "Yes Please",
                                    "average_rating": "3.81",
                                    "tag_id": "11644"
                                },
                                {
                                    "authors": "Elizabeth Gilbert",
                                    "title": "The Signature of All Things",
                                    "average_rating": "3.81",
                                    "tag_id": "11644"
                                },
                                {
                                    "authors": "Tracy Chevalier",
                                    "title": "Remarkable Creatures ",
                                    "average_rating": "3.81",
                                    "tag_id": "11644"
                                },
                                {
                                    "authors": "V.C. Andrews",
                                    "title": "Seeds of Yesterday (Dollanganger, #4)",
                                    "average_rating": "3.81",
                                    "tag_id": "11644"
                                },
                                {
                                    "authors": "N.K. Jemisin",
                                    "title": "The Hundred Thousand Kingdoms (Inheritance Trilogy, #1)",
                                    "average_rating": "3.8",
                                    "tag_id": "11644"
                                },
                                {
                                    "authors": "Miranda Hart",
                                    "title": "Is It Just Me?",
                                    "average_rating": "3.8",
                                    "tag_id": "11644"
                                },
                                {
                                    "authors": "Agatha Christie",
                                    "title": "The Murder on the Links (Hercule Poirot, #2)",
                                    "average_rating": "3.8",
                                    "tag_id": "11644"
                                },
                                {
                                    "authors": "Susanna Clarke",
                                    "title": "Jonathan Strange & Mr Norrell",
                                    "average_rating": "3.8",
                                    "tag_id": "11644"
                                },
                                {
                                    "authors": "Jane Austen, Alfred MacAdam",
                                    "title": "Northanger Abbey",
                                    "average_rating": "3.8",
                                    "tag_id": "11644"
                                },
                                {
                                    "authors": "Sheri Reynolds",
                                    "title": "The Rapture of Canaan",
                                    "average_rating": "3.8",
                                    "tag_id": "11644"
                                },
                                {
                                    "authors": "Isabel Allende, Nick Caistor, Amanda Hopkinson",
                                    "title": "The Japanese Lover",
                                    "average_rating": "3.8",
                                    "tag_id": "11644"
                                },
                                {
                                    "authors": "Jodi Picoult",
                                    "title": "Salem Falls",
                                    "average_rating": "3.8",
                                    "tag_id": "11644"
                                },
                                {
                                    "authors": "Nella Larsen, Ntozake Shange, Thadious M. Davis",
                                    "title": "Passing",
                                    "average_rating": "3.8",
                                    "tag_id": "11644"
                                },
                                {
                                    "authors": "Scarlett Thomas",
                                    "title": "The End of Mr. Y",
                                    "average_rating": "3.79",
                                    "tag_id": "11644"
                                },
                                {
                                    "authors": "Robin McKinley",
                                    "title": "Spindle's End",
                                    "average_rating": "3.79",
                                    "tag_id": "11644"
                                },
                                {
                                    "authors": "Marian Keyes",
                                    "title": "Watermelon (Walsh Family, #1)",
                                    "average_rating": "3.79",
                                    "tag_id": "11644"
                                },
                                {
                                    "authors": "Sarah Dunant",
                                    "title": "The Birth of Venus",
                                    "average_rating": "3.79",
                                    "tag_id": "11644"
                                },
                                {
                                    "authors": "Elif Shafak",
                                    "title": "The Bastard of Istanbul",
                                    "average_rating": "3.79",
                                    "tag_id": "11644"
                                },
                                {
                                    "authors": "Kate Atkinson",
                                    "title": "One Good Turn (Jackson Brodie, #2)",
                                    "average_rating": "3.79",
                                    "tag_id": "11644"
                                },
                                {
                                    "authors": "Judy Blume",
                                    "title": "Blubber",
                                    "average_rating": "3.78",
                                    "tag_id": "11644"
                                },
                                {
                                    "authors": "Toni Morrison",
                                    "title": "Jazz",
                                    "average_rating": "3.78",
                                    "tag_id": "11644"
                                },
                                {
                                    "authors": "Agatha Christie",
                                    "title": "Death in the Clouds (Hercule Poirot, #12)",
                                    "average_rating": "3.78",
                                    "tag_id": "11644"
                                },
                                {
                                    "authors": "Virginia Woolf, Maureen Howard",
                                    "title": "Mrs. Dalloway",
                                    "average_rating": "3.78",
                                    "tag_id": "11644"
                                },
                                {
                                    "authors": "Celeste Ng",
                                    "title": "Everything I Never Told You",
                                    "average_rating": "3.78",
                                    "tag_id": "11644"
                                },
                                {
                                    "authors": "Jane Hamilton, Frank  Muller, C.J. Critt",
                                    "title": "A Map of the World",
                                    "average_rating": "3.78",
                                    "tag_id": "11644"
                                },
                                {
                                    "authors": "Marian Keyes",
                                    "title": "Last Chance Saloon",
                                    "average_rating": "3.78",
                                    "tag_id": "11644"
                                },
                                {
                                    "authors": "Lauren Oliver",
                                    "title": "Annabel (Delirium, #0.5)",
                                    "average_rating": "3.78",
                                    "tag_id": "11644"
                                },
                                {
                                    "authors": "S.E. Hinton",
                                    "title": "Rumble Fish",
                                    "average_rating": "3.77",
                                    "tag_id": "11644"
                                },
                                {
                                    "authors": "George Eliot, A.S. Byatt",
                                    "title": "The Mill on the Floss",
                                    "average_rating": "3.77",
                                    "tag_id": "11644"
                                },
                                {
                                    "authors": "Marian Keyes",
                                    "title": "The Other Side of the Story",
                                    "average_rating": "3.77",
                                    "tag_id": "11644"
                                },
                                {
                                    "authors": "Elizabeth  Smart, Chris Stewart",
                                    "title": "My Story",
                                    "average_rating": "3.77",
                                    "tag_id": "11644"
                                },
                                {
                                    "authors": "Beatrice Sparks, Anonymous",
                                    "title": "Go Ask Alice",
                                    "average_rating": "3.77",
                                    "tag_id": "11644"
                                },
                                {
                                    "authors": "Toni Morrison",
                                    "title": "Beloved",
                                    "average_rating": "3.77",
                                    "tag_id": "11644"
                                },
                                {
                                    "authors": "Alice Sebold",
                                    "title": "The Lovely Bones",
                                    "average_rating": "3.77",
                                    "tag_id": "11644"
                                },
                                {
                                    "authors": "Alice Sebold",
                                    "title": "Lucky",
                                    "average_rating": "3.77",
                                    "tag_id": "11644"
                                },
                                {
                                    "authors": "Marie Kondō, Cathy Hirano",
                                    "title": "The Life-Changing Magic of Tidying Up: The Japanese Art of Decluttering and Organizing",
                                    "average_rating": "3.77",
                                    "tag_id": "11644"
                                },
                                {
                                    "authors": "Agatha Christie",
                                    "title": "The Mystery of the Blue Train (Hercule Poirot, #6)",
                                    "average_rating": "3.77",
                                    "tag_id": "11644"
                                },
                                {
                                    "authors": "George Eliot, Joanna Trollope, Hugh Osborne",
                                    "title": "Adam Bede",
                                    "average_rating": "3.77",
                                    "tag_id": "11644"
                                },
                                {
                                    "authors": "Toni Morrison",
                                    "title": "Paradise",
                                    "average_rating": "3.77",
                                    "tag_id": "11644"
                                },
                                {
                                    "authors": "Marguerite Duras, Barbara Bray, Maxine Hong Kingston",
                                    "title": "The Lover",
                                    "average_rating": "3.76",
                                    "tag_id": "11644"
                                },
                                {
                                    "authors": "Muriel Spark",
                                    "title": "The Prime of Miss Jean Brodie",
                                    "average_rating": "3.76",
                                    "tag_id": "11644"
                                },
                                {
                                    "authors": "Kyung-Sook Shin, 신경숙, Chi-Young Kim",
                                    "title": "Please Look After Mom",
                                    "average_rating": "3.76",
                                    "tag_id": "11644"
                                },
                                {
                                    "authors": "Virginia Woolf",
                                    "title": "To the Lighthouse",
                                    "average_rating": "3.76",
                                    "tag_id": "11644"
                                },
                                {
                                    "authors": "Willa Cather",
                                    "title": "My Ántonia",
                                    "average_rating": "3.76",
                                    "tag_id": "11644"
                                },
                                {
                                    "authors": "Iris Murdoch",
                                    "title": "Under the Net",
                                    "average_rating": "3.76",
                                    "tag_id": "11644"
                                },
                                {
                                    "authors": "Zadie Smith",
                                    "title": "White Teeth",
                                    "average_rating": "3.75",
                                    "tag_id": "11644"
                                },
                                {
                                    "authors": "Mary Wollstonecraft Shelley, Percy Bysshe Shelley, Maurice Hindle",
                                    "title": "Frankenstein",
                                    "average_rating": "3.75",
                                    "tag_id": "11644"
                                },
                                {
                                    "authors": "Helen Fielding",
                                    "title": "Bridget Jones's Diary (Bridget Jones, #1)",
                                    "average_rating": "3.75",
                                    "tag_id": "11644"
                                },
                                {
                                    "authors": "Ann Brashares",
                                    "title": "The Sisterhood of the Traveling Pants (Sisterhood, #1)",
                                    "average_rating": "3.75",
                                    "tag_id": "11644"
                                },
                                {
                                    "authors": "Jeanette Winterson",
                                    "title": "Oranges Are Not the Only Fruit",
                                    "average_rating": "3.75",
                                    "tag_id": "11644"
                                },
                                {
                                    "authors": "Charlotte Brontë, A.S. Byatt, Μαρία Λαϊνά, Ignes Sodre",
                                    "title": "Villette",
                                    "average_rating": "3.75",
                                    "tag_id": "11644"
                                },
                                {
                                    "authors": "Isabel Allende, Margaret Sayers Peden",
                                    "title": "Zorro",
                                    "average_rating": "3.75",
                                    "tag_id": "11644"
                                },
                                {
                                    "authors": "Joan Didion",
                                    "title": "Blue Nights",
                                    "average_rating": "3.75",
                                    "tag_id": "11644"
                                },
                                {
                                    "authors": "Doris Lessing",
                                    "title": "The Golden Notebook",
                                    "average_rating": "3.75",
                                    "tag_id": "11644"
                                },
                                {
                                    "authors": "Linda Lafferty",
                                    "title": "The Bloodletter's Daughter: A Novel of Old Bohemia",
                                    "average_rating": "3.75",
                                    "tag_id": "11644"
                                },
                                {
                                    "authors": "Hillary Rodham Clinton",
                                    "title": "Living History",
                                    "average_rating": "3.75",
                                    "tag_id": "11644"
                                },
                                {
                                    "authors": "Marian Keyes",
                                    "title": "This Charming Man",
                                    "average_rating": "3.75",
                                    "tag_id": "11644"
                                },
                                {
                                    "authors": "Alice Munro",
                                    "title": "Dear Life: Stories",
                                    "average_rating": "3.75",
                                    "tag_id": "11644"
                                },
                                {
                                    "authors": "Chelsea Handler, Johnny Kansas, Stephanie Stehling, Heather McDonald, Roy Handler, Brad Wollack, Amber Mazzola, Josh Wolf, Shoshanna Handler, Eva Magdalenski, Amy Meyer, Glen Handler, Dave Mallow, Sarah Colonna",
                                    "title": "Lies That Chelsea Handler Told Me",
                                    "average_rating": "3.74",
                                    "tag_id": "11644"
                                },
                                {
                                    "authors": "Helen Macdonald",
                                    "title": "H is for Hawk",
                                    "average_rating": "3.74",
                                    "tag_id": "11644"
                                },
                                {
                                    "authors": "Tana French",
                                    "title": "In the Woods (Dublin Murder Squad, #1)",
                                    "average_rating": "3.74",
                                    "tag_id": "11644"
                                },
                                {
                                    "authors": "Agatha Christie",
                                    "title": "They Do It with Mirrors (Miss Marple, #6)",
                                    "average_rating": "3.74",
                                    "tag_id": "11644"
                                },
                                {
                                    "authors": "Agatha Christie, Hugh Fraser",
                                    "title": "One, Two, Buckle My Shoe (Hercule Poirot, #22)",
                                    "average_rating": "3.74",
                                    "tag_id": "11644"
                                },
                                {
                                    "authors": "Jacqueline Wilson, Nick Sharratt",
                                    "title": "The Illustrated Mum",
                                    "average_rating": "3.74",
                                    "tag_id": "11644"
                                },
                                {
                                    "authors": "Leslie Marmon Silko",
                                    "title": "Ceremony",
                                    "average_rating": "3.73",
                                    "tag_id": "11644"
                                },
                                {
                                    "authors": "Caitlin Moran",
                                    "title": "How to Be a Woman",
                                    "average_rating": "3.73",
                                    "tag_id": "11644"
                                },
                                {
                                    "authors": "Rachel Cohn, David Levithan",
                                    "title": "Nick & Norah's Infinite Playlist",
                                    "average_rating": "3.73",
                                    "tag_id": "11644"
                                },
                                {
                                    "authors": "Anne Rice",
                                    "title": "Memnoch the Devil (The Vampire Chronicles, #5)",
                                    "average_rating": "3.73",
                                    "tag_id": "11644"
                                },
                                {
                                    "authors": "Marian Keyes",
                                    "title": " Angels (Walsh Family, #3)",
                                    "average_rating": "3.73",
                                    "tag_id": "11644"
                                },
                                {
                                    "authors": "Mary Elizabeth Braddon",
                                    "title": "Lady Audley's Secret",
                                    "average_rating": "3.73",
                                    "tag_id": "11644"
                                },
                                {
                                    "authors": "Sarah Waters",
                                    "title": "Affinity",
                                    "average_rating": "3.73",
                                    "tag_id": "11644"
                                },
                                {
                                    "authors": "Maxine Hong Kingston",
                                    "title": "The Woman Warrior",
                                    "average_rating": "3.72",
                                    "tag_id": "11644"
                                },
                                {
                                    "authors": "Julie Gregory",
                                    "title": "Sickened: The Memoir of a Munchausen by Proxy Childhood",
                                    "average_rating": "3.72",
                                    "tag_id": "11644"
                                },
                                {
                                    "authors": "Jenny Offill",
                                    "title": "Dept. of Speculation",
                                    "average_rating": "3.72",
                                    "tag_id": "11644"
                                },
                                {
                                    "authors": "Ellen DeGeneres",
                                    "title": "Seriously... I'm Kidding",
                                    "average_rating": "3.72",
                                    "tag_id": "11644"
                                },
                                {
                                    "authors": "Lorraine Hansberry",
                                    "title": "A Raisin in the Sun",
                                    "average_rating": "3.72",
                                    "tag_id": "11644"
                                },
                                {
                                    "authors": "Amélie Nothomb",
                                    "title": "Stupeur et tremblements",
                                    "average_rating": "3.72",
                                    "tag_id": "11644"
                                },
                                {
                                    "authors": "Toni Morrison",
                                    "title": "Home",
                                    "average_rating": "3.71",
                                    "tag_id": "11644"
                                },
                                {
                                    "authors": "Agatha Christie, Robin Bailey",
                                    "title": "The Clocks (Hercule Poirot, #34)",
                                    "average_rating": "3.71",
                                    "tag_id": "11644"
                                },
                                {
                                    "authors": "Karen Joy Fowler",
                                    "title": "We Are All Completely Beside Ourselves",
                                    "average_rating": "3.71",
                                    "tag_id": "11644"
                                },
                                {
                                    "authors": "Carrie Fisher",
                                    "title": "Wishful Drinking",
                                    "average_rating": "3.71",
                                    "tag_id": "11644"
                                },
                                {
                                    "authors": "Charlotte Brontë, Lucasta Miller, collaborative, Jessica Cox",
                                    "title": "Shirley",
                                    "average_rating": "3.71",
                                    "tag_id": "11644"
                                },
                                {
                                    "authors": "NoViolet Bulawayo",
                                    "title": "We Need New Names",
                                    "average_rating": "3.71",
                                    "tag_id": "11644"
                                },
                                {
                                    "authors": "Sonali Deraniyagala",
                                    "title": "Wave",
                                    "average_rating": "3.7",
                                    "tag_id": "11644"
                                },
                                {
                                    "authors": "Pearl Cleage",
                                    "title": "What Looks Like Crazy on an Ordinary Day (Idlewild, #1)",
                                    "average_rating": "3.7",
                                    "tag_id": "11644"
                                },
                                {
                                    "authors": "Toni Morrison",
                                    "title": "God Help the Child",
                                    "average_rating": "3.7",
                                    "tag_id": "11644"
                                },
                                {
                                    "authors": "Anne Rice",
                                    "title": "The Tale of the Body Thief (The Vampire Chronicles, #4)",
                                    "average_rating": "3.7",
                                    "tag_id": "11644"
                                },
                                {
                                    "authors": "Joyce Carol Oates",
                                    "title": "We Were the Mulvaneys",
                                    "average_rating": "3.7",
                                    "tag_id": "11644"
                                },
                                {
                                    "authors": "Piper Kerman",
                                    "title": "Orange Is the New Black",
                                    "average_rating": "3.7",
                                    "tag_id": "11644"
                                },
                                {
                                    "authors": "Eleanor Catton",
                                    "title": "The Luminaries",
                                    "average_rating": "3.7",
                                    "tag_id": "11644"
                                },
                                {
                                    "authors": "Marisha Pessl",
                                    "title": "Special Topics in Calamity Physics",
                                    "average_rating": "3.7",
                                    "tag_id": "11644"
                                },
                                {
                                    "authors": "Emma Healey",
                                    "title": "Elizabeth Is Missing",
                                    "average_rating": "3.7",
                                    "tag_id": "11644"
                                },
                                {
                                    "authors": "Jacqueline Susann",
                                    "title": "Valley of the Dolls",
                                    "average_rating": "3.7",
                                    "tag_id": "11644"
                                },
                                {
                                    "authors": "Julie Otsuka",
                                    "title": "When the Emperor Was Divine",
                                    "average_rating": "3.7",
                                    "tag_id": "11644"
                                },
                                {
                                    "authors": "Agatha Christie",
                                    "title": "At Bertram's Hotel (Miss Marple, #11)",
                                    "average_rating": "3.7",
                                    "tag_id": "11644"
                                },
                                {
                                    "authors": "Elizabeth Gaskell, Shirley Foster",
                                    "title": "Mary Barton",
                                    "average_rating": "3.7",
                                    "tag_id": "11644"
                                },
                                {
                                    "authors": "Anaïs Nin",
                                    "title": "Delta of Venus",
                                    "average_rating": "3.69",
                                    "tag_id": "11644"
                                },
                                {
                                    "authors": "Jacqueline Wilson, Nick Sharratt, Sue Heap",
                                    "title": "Double Act",
                                    "average_rating": "3.69",
                                    "tag_id": "11644"
                                },
                                {
                                    "authors": "Emma Donoghue",
                                    "title": "Slammerkin",
                                    "average_rating": "3.69",
                                    "tag_id": "11644"
                                },
                                {
                                    "authors": "Cecelia Ahern",
                                    "title": "Thanks for the Memories",
                                    "average_rating": "3.69",
                                    "tag_id": "11644"
                                },
                                {
                                    "authors": "Marian Keyes",
                                    "title": "Sushi for Beginners",
                                    "average_rating": "3.69",
                                    "tag_id": "11644"
                                },
                                {
                                    "authors": "Jacqueline Wilson, Nick Sharratt",
                                    "title": "The Story of Tracy Beaker",
                                    "average_rating": "3.69",
                                    "tag_id": "11644"
                                },
                                {
                                    "authors": "Zoë Heller",
                                    "title": "What Was She Thinking? [Notes on a Scandal]",
                                    "average_rating": "3.69",
                                    "tag_id": "11644"
                                },
                                {
                                    "authors": "Caitlin Moran",
                                    "title": "How to Build a Girl",
                                    "average_rating": "3.69",
                                    "tag_id": "11644"
                                },
                                {
                                    "authors": "P.D. James",
                                    "title": "The Children of Men",
                                    "average_rating": "3.69",
                                    "tag_id": "11644"
                                },
                                {
                                    "authors": "Susan Hill, John Lawrence",
                                    "title": "The Woman in Black",
                                    "average_rating": "3.68",
                                    "tag_id": "11644"
                                },
                                {
                                    "authors": "Rachael Ray",
                                    "title": "Rachael Ray 365: No Repeats: A Year of Deliciously Different Dinners",
                                    "average_rating": "3.68",
                                    "tag_id": "11644"
                                },
                                {
                                    "authors": "Zadie Smith",
                                    "title": "On Beauty",
                                    "average_rating": "3.68",
                                    "tag_id": "11644"
                                },
                                {
                                    "authors": "Elizabeth Berg",
                                    "title": "Open House",
                                    "average_rating": "3.68",
                                    "tag_id": "11644"
                                },
                                {
                                    "authors": "Gwyn Hyman Rubio",
                                    "title": "Icy Sparks",
                                    "average_rating": "3.68",
                                    "tag_id": "11644"
                                },
                                {
                                    "authors": "Amanda Brown",
                                    "title": "Legally Blonde",
                                    "average_rating": "3.68",
                                    "tag_id": "11644"
                                },
                                {
                                    "authors": "Jennifer McMahon",
                                    "title": "The Night Sister",
                                    "average_rating": "3.67",
                                    "tag_id": "11644"
                                },
                                {
                                    "authors": "Tracy Chevalier",
                                    "title": "The Lady and the Unicorn",
                                    "average_rating": "3.67",
                                    "tag_id": "11644"
                                },
                                {
                                    "authors": "Sarah Winman",
                                    "title": "When God Was a Rabbit",
                                    "average_rating": "3.67",
                                    "tag_id": "11644"
                                },
                                {
                                    "authors": "Mariko Tamaki, Jillian Tamaki",
                                    "title": "This One Summer",
                                    "average_rating": "3.67",
                                    "tag_id": "11644"
                                },
                                {
                                    "authors": "Laline Paull",
                                    "title": "The Bees",
                                    "average_rating": "3.67",
                                    "tag_id": "11644"
                                },
                                {
                                    "authors": "Margaret Atwood",
                                    "title": "The Edible Woman",
                                    "average_rating": "3.67",
                                    "tag_id": "11644"
                                },
                                {
                                    "authors": "Karen Russell",
                                    "title": "Vampires in the Lemon Grove",
                                    "average_rating": "3.67",
                                    "tag_id": "11644"
                                },
                                {
                                    "authors": "Melinda Haynes",
                                    "title": "Mother of Pearl",
                                    "average_rating": "3.67",
                                    "tag_id": "11644"
                                },
                                {
                                    "authors": "Alison Bechdel",
                                    "title": "Are You My Mother?",
                                    "average_rating": "3.66",
                                    "tag_id": "11644"
                                },
                                {
                                    "authors": "Carrie Fisher",
                                    "title": "The Princess Diarist",
                                    "average_rating": "3.66",
                                    "tag_id": "11644"
                                },
                                {
                                    "authors": "Margaret Atwood",
                                    "title": "The Penelopiad",
                                    "average_rating": "3.66",
                                    "tag_id": "11644"
                                },
                                {
                                    "authors": "Cecelia Ahern",
                                    "title": "The Book of Tomorrow",
                                    "average_rating": "3.66",
                                    "tag_id": "11644"
                                },
                                {
                                    "authors": "Cecelia Ahern",
                                    "title": "A Place Called Here",
                                    "average_rating": "3.66",
                                    "tag_id": "11644"
                                },
                                {
                                    "authors": "Agatha Christie",
                                    "title": "Hallowe'en Party (Hercule Poirot, #36)",
                                    "average_rating": "3.66",
                                    "tag_id": "11644"
                                },
                                {
                                    "authors": "Pattie Boyd, Penny Junor",
                                    "title": "Wonderful Tonight",
                                    "average_rating": "3.65",
                                    "tag_id": "11644"
                                },
                                {
                                    "authors": "Peggy Orenstein",
                                    "title": "Cinderella Ate My Daughter: Dispatches from the Frontlines of the New Girlie-Girl Culture",
                                    "average_rating": "3.65",
                                    "tag_id": "11644"
                                },
                                {
                                    "authors": "Emma Donoghue",
                                    "title": "The Wonder",
                                    "average_rating": "3.65",
                                    "tag_id": "11644"
                                },
                                {
                                    "authors": "Nora Ephron",
                                    "title": "I Feel Bad about My Neck: And Other Thoughts on Being a Woman",
                                    "average_rating": "3.65",
                                    "tag_id": "11644"
                                },
                                {
                                    "authors": "Tracy Chevalier",
                                    "title": "The Virgin Blue",
                                    "average_rating": "3.65",
                                    "tag_id": "11644"
                                },
                                {
                                    "authors": "Toni Morrison",
                                    "title": "A Mercy",
                                    "average_rating": "3.65",
                                    "tag_id": "11644"
                                },
                                {
                                    "authors": "Anne Brontë, Angeline Goreau",
                                    "title": "Agnes Grey",
                                    "average_rating": "3.65",
                                    "tag_id": "11644"
                                },
                                {
                                    "authors": "Jennifer Egan",
                                    "title": "A Visit from the Goon Squad",
                                    "average_rating": "3.64",
                                    "tag_id": "11644"
                                },
                                {
                                    "authors": "Kim Edwards",
                                    "title": "The Memory Keeper's Daughter",
                                    "average_rating": "3.64",
                                    "tag_id": "11644"
                                },
                                {
                                    "authors": "Karen Thompson Walker",
                                    "title": "The Age of Miracles",
                                    "average_rating": "3.64",
                                    "tag_id": "11644"
                                },
                                {
                                    "authors": "Miriam Toews",
                                    "title": "A Complicated Kindness",
                                    "average_rating": "3.64",
                                    "tag_id": "11644"
                                },
                                {
                                    "authors": "Angela Flournoy",
                                    "title": "The Turner House",
                                    "average_rating": "3.64",
                                    "tag_id": "11644"
                                },
                                {
                                    "authors": "Esi Edugyan",
                                    "title": "Half Blood Blues",
                                    "average_rating": "3.63",
                                    "tag_id": "11644"
                                },
                                {
                                    "authors": "Chelsea Handler",
                                    "title": "Uganda Be Kidding Me",
                                    "average_rating": "3.63",
                                    "tag_id": "11644"
                                },
                                {
                                    "authors": "Deborah Rodriguez",
                                    "title": "Kabul Beauty School: An American Woman Goes Behind the Veil",
                                    "average_rating": "3.63",
                                    "tag_id": "11644"
                                },
                                {
                                    "authors": "Kate Chopin",
                                    "title": "The Awakening",
                                    "average_rating": "3.63",
                                    "tag_id": "11644"
                                },
                                {
                                    "authors": "Ayn Rand",
                                    "title": "Anthem",
                                    "average_rating": "3.62",
                                    "tag_id": "11644"
                                },
                                {
                                    "authors": "Françoise Sagan",
                                    "title": "Bonjour tristesse",
                                    "average_rating": "3.62",
                                    "tag_id": "11644"
                                },
                                {
                                    "authors": "Agatha Christie",
                                    "title": "Elephants Can Remember (Hercule Poirot, #37)",
                                    "average_rating": "3.62",
                                    "tag_id": "11644"
                                },
                                {
                                    "authors": "Julia Alvarez",
                                    "title": "How the García Girls Lost Their Accents ",
                                    "average_rating": "3.62",
                                    "tag_id": "11644"
                                },
                                {
                                    "authors": "Anita Shreve",
                                    "title": "The Weight of Water",
                                    "average_rating": "3.62",
                                    "tag_id": "11644"
                                },
                                {
                                    "authors": "Jane Green",
                                    "title": "The Beach House",
                                    "average_rating": "3.62",
                                    "tag_id": "11644"
                                },
                                {
                                    "authors": "Leslie Jamison",
                                    "title": "The Empathy Exams: Essays",
                                    "average_rating": "3.62",
                                    "tag_id": "11644"
                                },
                                {
                                    "authors": "Ali Smith",
                                    "title": "How to Be Both",
                                    "average_rating": "3.61",
                                    "tag_id": "11644"
                                },
                                {
                                    "authors": "Amy Chua",
                                    "title": "Battle Hymn of the Tiger Mother",
                                    "average_rating": "3.61",
                                    "tag_id": "11644"
                                },
                                {
                                    "authors": "George Eliot",
                                    "title": "Silas Marner",
                                    "average_rating": "3.6",
                                    "tag_id": "11644"
                                },
                                {
                                    "authors": "Barbara Ehrenreich",
                                    "title": "Nickel and Dimed: On (Not) Getting By in America",
                                    "average_rating": "3.6",
                                    "tag_id": "11644"
                                },
                                {
                                    "authors": "Zadie Smith",
                                    "title": "Swing Time",
                                    "average_rating": "3.6",
                                    "tag_id": "11644"
                                },
                                {
                                    "authors": "Agatha Christie",
                                    "title": "The Big Four (Hercule Poirot, #5)",
                                    "average_rating": "3.6",
                                    "tag_id": "11644"
                                },
                                {
                                    "authors": "Sarah Vowell",
                                    "title": "Unfamiliar Fishes",
                                    "average_rating": "3.6",
                                    "tag_id": "11644"
                                },
                                {
                                    "authors": "Lauren Beukes",
                                    "title": "Broken Monsters",
                                    "average_rating": "3.59",
                                    "tag_id": "11644"
                                },
                                {
                                    "authors": "Han Kang, Deborah     Smith",
                                    "title": "The Vegetarian",
                                    "average_rating": "3.59",
                                    "tag_id": "11644"
                                },
                                {
                                    "authors": "Julie Otsuka",
                                    "title": "The Buddha in the Attic",
                                    "average_rating": "3.59",
                                    "tag_id": "11644"
                                },
                                {
                                    "authors": "Jessie Burton",
                                    "title": "The Miniaturist",
                                    "average_rating": "3.58",
                                    "tag_id": "11644"
                                },
                                {
                                    "authors": "Kim Gordon",
                                    "title": "Girl in a Band",
                                    "average_rating": "3.58",
                                    "tag_id": "11644"
                                },
                                {
                                    "authors": "Miranda July",
                                    "title": "The First Bad Man",
                                    "average_rating": "3.58",
                                    "tag_id": "11644"
                                },
                                {
                                    "authors": "Lauren Groff",
                                    "title": "The Monsters of Templeton",
                                    "average_rating": "3.58",
                                    "tag_id": "11644"
                                },
                                {
                                    "authors": "Rachel Dratch",
                                    "title": "Girl Walks into a Bar . . .: Comedy Calamities, Dating Disasters, and a Midlife Miracle",
                                    "average_rating": "3.57",
                                    "tag_id": "11644"
                                },
                                {
                                    "authors": "Mary Roach",
                                    "title": "Spook: Science Tackles the Afterlife",
                                    "average_rating": "3.57",
                                    "tag_id": "11644"
                                },
                                {
                                    "authors": "Sandra Cisneros",
                                    "title": "The House on Mango Street",
                                    "average_rating": "3.57",
                                    "tag_id": "11644"
                                },
                                {
                                    "authors": "Azar Nafisi",
                                    "title": "Reading Lolita in Tehran",
                                    "average_rating": "3.57",
                                    "tag_id": "11644"
                                },
                                {
                                    "authors": "Elizabeth Wurtzel",
                                    "title": "Prozac Nation",
                                    "average_rating": "3.57",
                                    "tag_id": "11644"
                                },
                                {
                                    "authors": "Laura  Barnett",
                                    "title": "The Versions of Us",
                                    "average_rating": "3.57",
                                    "tag_id": "11644"
                                },
                                {
                                    "authors": "Hillary Rodham Clinton",
                                    "title": "Hard Choices",
                                    "average_rating": "3.57",
                                    "tag_id": "11644"
                                },
                                {
                                    "authors": "Nora Ephron",
                                    "title": "Heartburn",
                                    "average_rating": "3.57",
                                    "tag_id": "11644"
                                },
                                {
                                    "authors": "Charlotte Brontë",
                                    "title": "The Professor",
                                    "average_rating": "3.56",
                                    "tag_id": "11644"
                                },
                                {
                                    "authors": "Jean Rhys",
                                    "title": "Wide Sargasso Sea",
                                    "average_rating": "3.56",
                                    "tag_id": "11644"
                                },
                                {
                                    "authors": "Lauren Groff",
                                    "title": "Fates and Furies",
                                    "average_rating": "3.56",
                                    "tag_id": "11644"
                                },
                                {
                                    "authors": "Jane Austen, Robert William Chapman",
                                    "title": "Lady Susan",
                                    "average_rating": "3.56",
                                    "tag_id": "11644"
                                },
                                {
                                    "authors": "Tracy Chevalier",
                                    "title": "Falling Angels",
                                    "average_rating": "3.55",
                                    "tag_id": "11644"
                                },
                                {
                                    "authors": "Suzanne Rindell",
                                    "title": "The Other Typist",
                                    "average_rating": "3.55",
                                    "tag_id": "11644"
                                },
                                {
                                    "authors": "Meg Wolitzer",
                                    "title": "The Interestings",
                                    "average_rating": "3.54",
                                    "tag_id": "11644"
                                },
                                {
                                    "authors": "Gillian Flynn",
                                    "title": "The Grownup",
                                    "average_rating": "3.54",
                                    "tag_id": "11644"
                                },
                                {
                                    "authors": "Diablo Cody",
                                    "title": "Candy Girl: A Year in the Life of an Unlikely Stripper",
                                    "average_rating": "3.54",
                                    "tag_id": "11644"
                                },
                                {
                                    "authors": "Jacqueline Wilson",
                                    "title": "Girls in Love (Girls, #1)",
                                    "average_rating": "3.53",
                                    "tag_id": "11644"
                                },
                                {
                                    "authors": "Kate Hamer",
                                    "title": "The Girl in the Red Coat",
                                    "average_rating": "3.53",
                                    "tag_id": "11644"
                                },
                                {
                                    "authors": "Helen Fielding",
                                    "title": "Bridget Jones: The Edge of Reason (Bridget Jones, #2)",
                                    "average_rating": "3.53",
                                    "tag_id": "11644"
                                },
                                {
                                    "authors": "Lionel Shriver",
                                    "title": "The Post-Birthday World",
                                    "average_rating": "3.52",
                                    "tag_id": "11644"
                                },
                                {
                                    "authors": "Sarah Macdonald",
                                    "title": "Holy Cow: An Indian Adventure",
                                    "average_rating": "3.51",
                                    "tag_id": "11644"
                                },
                                {
                                    "authors": "Emma Cline",
                                    "title": "The Girls",
                                    "average_rating": "3.49",
                                    "tag_id": "11644"
                                },
                                {
                                    "authors": "Lauren Beukes",
                                    "title": "The Shining Girls",
                                    "average_rating": "3.49",
                                    "tag_id": "11644"
                                },
                                {
                                    "authors": "Anita Shreve",
                                    "title": "The Last Time They Met",
                                    "average_rating": "3.48",
                                    "tag_id": "11644"
                                },
                                {
                                    "authors": "Gretchen Rubin, Käthe Mazur",
                                    "title": "Happier at Home: Kiss More, Jump More, Abandon a Project, Read Samuel Johnson, and My Other Experiments in the Practice of Everyday Life",
                                    "average_rating": "3.48",
                                    "tag_id": "11644"
                                },
                                {
                                    "authors": "Janet Fitch",
                                    "title": "Paint it Black",
                                    "average_rating": "3.47",
                                    "tag_id": "11644"
                                },
                                {
                                    "authors": "Alisa Valdes, Alisa Valdes-Rodriguez",
                                    "title": "The Dirty Girls Social Club (Dirty Girls, #1)",
                                    "average_rating": "3.46",
                                    "tag_id": "11644"
                                },
                                {
                                    "authors": "Rachel Kushner",
                                    "title": "The Flamethrowers",
                                    "average_rating": "3.46",
                                    "tag_id": "11644"
                                },
                                {
                                    "authors": "Margaret Atwood",
                                    "title": "Surfacing",
                                    "average_rating": "3.45",
                                    "tag_id": "11644"
                                },
                                {
                                    "authors": "Nicole Krauss",
                                    "title": "Great House",
                                    "average_rating": "3.45",
                                    "tag_id": "11644"
                                },
                                {
                                    "authors": "Sloane Crosley",
                                    "title": "I Was Told There'd Be Cake",
                                    "average_rating": "3.45",
                                    "tag_id": "11644"
                                },
                                {
                                    "authors": "Alexandra Ripley",
                                    "title": "Scarlett",
                                    "average_rating": "3.44",
                                    "tag_id": "11644"
                                },
                                {
                                    "authors": "Erica Jong",
                                    "title": "Fear of Flying",
                                    "average_rating": "3.44",
                                    "tag_id": "11644"
                                },
                                {
                                    "authors": "Kate Summerscale",
                                    "title": "The Suspicions of Mr. Whicher: A Shocking Murder and the Undoing of a Great Victorian Detective",
                                    "average_rating": "3.43",
                                    "tag_id": "11644"
                                },
                                {
                                    "authors": "Jennifer Egan",
                                    "title": "The Keep",
                                    "average_rating": "3.43",
                                    "tag_id": "11644"
                                },
                                {
                                    "authors": "Donna Tartt",
                                    "title": "The Little Friend",
                                    "average_rating": "3.43",
                                    "tag_id": "11644"
                                },
                                {
                                    "authors": "Anne Tyler",
                                    "title": "Vinegar Girl",
                                    "average_rating": "3.42",
                                    "tag_id": "11644"
                                },
                                {
                                    "authors": "Amy Tan",
                                    "title": "Saving Fish from Drowning",
                                    "average_rating": "3.41",
                                    "tag_id": "11644"
                                },
                                {
                                    "authors": "Zadie Smith",
                                    "title": "NW",
                                    "average_rating": "3.41",
                                    "tag_id": "11644"
                                },
                                {
                                    "authors": "Kiran Desai",
                                    "title": "The Inheritance of Loss",
                                    "average_rating": "3.41",
                                    "tag_id": "11644"
                                },
                                {
                                    "authors": "Kate Jacobs",
                                    "title": "The Friday Night Knitting Club (Friday Night Knitting Club, #1)",
                                    "average_rating": "3.41",
                                    "tag_id": "11644"
                                },
                                {
                                    "authors": "Holly Madison",
                                    "title": "Down the Rabbit Hole: Curious Adventures and Cautionary Tales of a Former Playboy Bunny",
                                    "average_rating": "3.4",
                                    "tag_id": "11644"
                                },
                                {
                                    "authors": "Lionel Shriver",
                                    "title": "Big Brother",
                                    "average_rating": "3.4",
                                    "tag_id": "11644"
                                },
                                {
                                    "authors": "Sarah Waters",
                                    "title": "The Paying Guests",
                                    "average_rating": "3.39",
                                    "tag_id": "11644"
                                },
                                {
                                    "authors": "Monica Ali",
                                    "title": "Brick Lane",
                                    "average_rating": "3.38",
                                    "tag_id": "11644"
                                },
                                {
                                    "authors": "Ottessa Moshfegh",
                                    "title": "Eileen",
                                    "average_rating": "3.38",
                                    "tag_id": "11644"
                                },
                                {
                                    "authors": "Courtney Maum",
                                    "title": "I Am Having So Much Fun Here Without You",
                                    "average_rating": "3.37",
                                    "tag_id": "11644"
                                },
                                {
                                    "authors": "Candace Bushnell",
                                    "title": "Sex and the City",
                                    "average_rating": "3.37",
                                    "tag_id": "11644"
                                },
                                {
                                    "authors": "Margaret Atwood",
                                    "title": "The Heart Goes Last",
                                    "average_rating": "3.37",
                                    "tag_id": "11644"
                                },
                                {
                                    "authors": "Téa Obreht",
                                    "title": "The Tiger's Wife",
                                    "average_rating": "3.37",
                                    "tag_id": "11644"
                                },
                                {
                                    "authors": "Curtis Sittenfeld",
                                    "title": "Prep",
                                    "average_rating": "3.36",
                                    "tag_id": "11644"
                                },
                                {
                                    "authors": "J. Courtney Sullivan",
                                    "title": "Commencement ",
                                    "average_rating": "3.36",
                                    "tag_id": "11644"
                                },
                                {
                                    "authors": "Edith Wharton",
                                    "title": "Ethan Frome",
                                    "average_rating": "3.35",
                                    "tag_id": "11644"
                                },
                                {
                                    "authors": "Helen Oyeyemi",
                                    "title": "Boy, Snow, Bird",
                                    "average_rating": "3.34",
                                    "tag_id": "11644"
                                },
                                {
                                    "authors": "Pauline Réage, Sabine d'Estree",
                                    "title": "Story of O (Story of O #1)",
                                    "average_rating": "3.34",
                                    "tag_id": "11644"
                                },
                                {
                                    "authors": "Alissa Nutting",
                                    "title": "Tampa",
                                    "average_rating": "3.34",
                                    "tag_id": "11644"
                                },
                                {
                                    "authors": "Lena Dunham, Joana Avillez",
                                    "title": "Not That Kind of Girl: A Young Woman Tells You What She's \"Learned\"",
                                    "average_rating": "3.33",
                                    "tag_id": "11644"
                                },
                                {
                                    "authors": "Sarah Blake, Orlagh Cassidy",
                                    "title": "The Postmistress",
                                    "average_rating": "3.3",
                                    "tag_id": "11644"
                                },
                                {
                                    "authors": "Adelle Waldman",
                                    "title": "The Love Affairs of Nathaniel P.",
                                    "average_rating": "3.3",
                                    "tag_id": "11644"
                                },
                                {
                                    "authors": "Stephanie Danler",
                                    "title": "Sweetbitter",
                                    "average_rating": "3.28",
                                    "tag_id": "11644"
                                },
                                {
                                    "authors": "Isabel Allende, Oliver Brock, Frank Wynne",
                                    "title": "Ripper",
                                    "average_rating": "3.24",
                                    "tag_id": "11644"
                                },
                                {
                                    "authors": "Jill Alexander Essbaum",
                                    "title": "Hausfrau",
                                    "average_rating": "3.24",
                                    "tag_id": "11644"
                                },
                                {
                                    "authors": "Edan Lepucki",
                                    "title": "California",
                                    "average_rating": "3.22",
                                    "tag_id": "11644"
                                },
                                {
                                    "authors": "Karen Russell",
                                    "title": "Swamplandia!",
                                    "average_rating": "3.21",
                                    "tag_id": "11644"
                                },
                                {
                                    "authors": "Charlotte Rogan",
                                    "title": "The Lifeboat",
                                    "average_rating": "3.2",
                                    "tag_id": "11644"
                                },
                                {
                                    "authors": "Jodi Picoult",
                                    "title": "Songs of the Humpback Whale",
                                    "average_rating": "3.19",
                                    "tag_id": "11644"
                                },
                                {
                                    "authors": "Maria Semple",
                                    "title": "Today Will Be Different",
                                    "average_rating": "3.19",
                                    "tag_id": "11644"
                                },
                                {
                                    "authors": "Aimee Bender",
                                    "title": "The Particular Sadness of Lemon Cake",
                                    "average_rating": "3.19",
                                    "tag_id": "11644"
                                },
                                {
                                    "authors": "Anita Shreve",
                                    "title": "All He Ever Wanted",
                                    "average_rating": "3.18",
                                    "tag_id": "11644"
                                },
                                {
                                    "authors": "Zadie Smith",
                                    "title": "The Autograph Man",
                                    "average_rating": "3.14",
                                    "tag_id": "11644"
                                },
                                {
                                    "authors": "Lorrie Moore",
                                    "title": "A Gate at the Stairs",
                                    "average_rating": "3.14",
                                    "tag_id": "11644"
                                },
                                {
                                    "authors": "Emma Donoghue",
                                    "title": "Frog Music",
                                    "average_rating": "3.13",
                                    "tag_id": "11644"
                                },
                                {
                                    "authors": "Claire Messud",
                                    "title": "The Emperor's Children",
                                    "average_rating": "2.93",
                                    "tag_id": "11644"
                                },
                                {
                                    "authors": "Candace Bushnell",
                                    "title": "Four Blondes",
                                    "average_rating": "2.8",
                                    "tag_id": "11644"
                                },
                                {
                                    "authors": "Alice Sebold",
                                    "title": "The Almost Moon",
                                    "average_rating": "2.67",
                                    "tag_id": "11644"
                                }
                            ]
                        },
                        "text/html": [
                            "<table>",
                            "<tr><th>authors</th><th>title</th><th>average_rating</th><th>tag_id</th></tr>",
                            "<tr><td>Jane Austen</td><td>The Complete Novels</td><td>4.55</td><td>11644</td></tr>",
                            "<tr><td>Robin Hobb</td><td>Fool&#39;s Quest  (The Fitz and The Fool, #2)</td><td>4.53</td><td>11644</td></tr>",
                            "<tr><td>C.S. Pacat</td><td>Kings Rising (Captive Prince, #3)</td><td>4.5</td><td>11644</td></tr>",
                            "<tr><td>Hiromu Arakawa, Akira Watanabe</td><td>Fullmetal Alchemist, Vol. 1 (Fullmetal Alchemist, #1)</td><td>4.49</td><td>11644</td></tr>",
                            "<tr><td>Chimamanda Ngozi Adichie</td><td>We Should All Be Feminists</td><td>4.47</td><td>11644</td></tr>",
                            "<tr><td>Flannery O&#39;Connor</td><td>The Complete Stories</td><td>4.44</td><td>11644</td></tr>",
                            "<tr><td>Barbara Demick</td><td>Nothing to Envy: Ordinary Lives in North Korea</td><td>4.42</td><td>11644</td></tr>",
                            "<tr><td>Yaa Gyasi</td><td>Homegoing</td><td>4.41</td><td>11644</td></tr>",
                            "<tr><td>Elena Ferrante, Ann Goldstein</td><td>The Story of the Lost Child (The Neapolitan Novels, #4)</td><td>4.39</td><td>11644</td></tr>",
                            "<tr><td>Bernadette Rossetti-Shustak, Caroline Jayne Church</td><td>I Love You Through and Through</td><td>4.39</td><td>11644</td></tr>",
                            "<tr><td>Elena Ferrante, Ann Goldstein</td><td>The Story of a New Name (The Neapolitan Novels #2)</td><td>4.37</td><td>11644</td></tr>",
                            "<tr><td>Marjane Satrapi, Mattias Ripa, Blake Ferris, Anjali Singh</td><td>The Complete Persepolis</td><td>4.36</td><td>11644</td></tr>",
                            "<tr><td>Susan Abulhawa</td><td>Mornings in Jenin</td><td>4.35</td><td>11644</td></tr>",
                            "<tr><td>Julia Child, Simone Beck, Louisette Bertholle</td><td>Mastering the Art of French Cooking</td><td>4.33</td><td>11644</td></tr>",
                            "<tr><td>Tamora Pierce</td><td>Wild Magic (Immortals, #1)</td><td>4.32</td><td>11644</td></tr>",
                            "<tr><td>Enid Blyton</td><td>The Folk of the Faraway Tree (The Faraway Tree, #3)</td><td>4.32</td><td>11644</td></tr>",
                            "<tr><td>Julia Child</td><td>The Way to Cook</td><td>4.31</td><td>11644</td></tr>",
                            "<tr><td>N.K. Jemisin</td><td>The Fifth Season (The Broken Earth, #1)</td><td>4.31</td><td>11644</td></tr>",
                            "<tr><td>Barbara Shook Hazen, Robert Lewis May, Richard Scarry</td><td>Rudolph the Red-Nosed Reindeer</td><td>4.3</td><td>11644</td></tr>",
                            "<tr><td>Claudia Rankine</td><td>Citizen: An American Lyric</td><td>4.3</td><td>11644</td></tr>",
                            "<tr><td>Diana Wynne Jones</td><td>Howl&#39;s Moving Castle (Howl&#39;s Moving Castle, #1)</td><td>4.3</td><td>11644</td></tr>",
                            "<tr><td>Elena Ferrante, Ann Goldstein</td><td>Those Who Leave and Those Who Stay (The Neapolitan Novels #3)</td><td>4.29</td><td>11644</td></tr>",
                            "<tr><td>Cheryl Strayed</td><td>Tiny Beautiful Things: Advice on Love and Life from Dear Sugar</td><td>4.29</td><td>11644</td></tr>",
                            "<tr><td>Sylvia Plath, Karen V. Kukil</td><td>The Unabridged Journals of Sylvia Plath</td><td>4.29</td><td>11644</td></tr>",
                            "<tr><td>Lois McMaster Bujold</td><td>The Warrior&#39;s Apprentice (Vorkosigan Saga, #2)</td><td>4.29</td><td>11644</td></tr>",
                            "<tr><td>Loung Ung</td><td>First They Killed My Father: A Daughter of Cambodia Remembers</td><td>4.29</td><td>11644</td></tr>",
                            "<tr><td>Enid Blyton</td><td>The Magic Faraway Tree (The Faraway Tree, #2)</td><td>4.29</td><td>11644</td></tr>",
                            "<tr><td>Michelle Magorian</td><td>Good Night, Mr. Tom</td><td>4.28</td><td>11644</td></tr>",
                            "<tr><td>Tamora Pierce</td><td>Lioness Rampant (Song of the Lioness, #4)</td><td>4.28</td><td>11644</td></tr>",
                            "<tr><td>Tamora Pierce</td><td>Trickster&#39;s Queen (Daughter of the Lioness, #2)</td><td>4.28</td><td>11644</td></tr>",
                            "<tr><td>Enid Blyton</td><td>The Faraway Tree Stories (The Faraway Tree #1-3)</td><td>4.28</td><td>11644</td></tr>",
                            "<tr><td>Anne Sexton, Maxine Kumin</td><td>The Complete Poems</td><td>4.28</td><td>11644</td></tr>",
                            "<tr><td>Rupi Kaur</td><td>Milk and Honey</td><td>4.27</td><td>11644</td></tr>",
                            "<tr><td>Tamora Pierce</td><td>Trickster&#39;s Choice (Daughter of the Lioness, #1)</td><td>4.27</td><td>11644</td></tr>",
                            "<tr><td>Marjane Satrapi</td><td>Persepolis, Volume 1</td><td>4.27</td><td>11644</td></tr>",
                            "<tr><td>Madeline Miller</td><td>The Song of Achilles</td><td>4.27</td><td>11644</td></tr>",
                            "<tr><td>Tamora Pierce</td><td>Alanna: The First Adventure (Song of the Lioness, #1)</td><td>4.27</td><td>11644</td></tr>",
                            "<tr><td>Hanya Yanagihara</td><td>A Little Life</td><td>4.27</td><td>11644</td></tr>",
                            "<tr><td>Tamora Pierce</td><td>Squire (Protector of the Small, #3)</td><td>4.27</td><td>11644</td></tr>",
                            "<tr><td>Ntozake Shange</td><td>for colored girls who have considered suicide/when the rainbow is enuf</td><td>4.27</td><td>11644</td></tr>",
                            "<tr><td>Kate Beaton</td><td>Hark! A Vagrant</td><td>4.27</td><td>11644</td></tr>",
                            "<tr><td>Flannery O&#39;Connor, Robert Fitzgerald</td><td>Everything That Rises Must Converge: Stories</td><td>4.27</td><td>11644</td></tr>",
                            "<tr><td>Tamora Pierce</td><td>Bloodhound (Beka Cooper, #2)</td><td>4.26</td><td>11644</td></tr>",
                            "<tr><td>Fannie Flagg</td><td>Fried Green Tomatoes at the Whistle Stop Cafe</td><td>4.26</td><td>11644</td></tr>",
                            "<tr><td>Chimamanda Ngozi Adichie</td><td>Americanah</td><td>4.26</td><td>11644</td></tr>",
                            "<tr><td>Hilary Mantel</td><td>Bring Up the Bodies (Thomas Cromwell, #2)</td><td>4.26</td><td>11644</td></tr>",
                            "<tr><td>Joanna Cole, Bruce Degen</td><td>Inside the Human Body (The Magic School Bus, #3)</td><td>4.26</td><td>11644</td></tr>",
                            "<tr><td>Tamora Pierce</td><td>In the Hand of the Goddess (Song of the Lioness, #2)</td><td>4.25</td><td>11644</td></tr>",
                            "<tr><td>Margaret George</td><td>The Autobiography of Henry VIII: With Notes by His Fool, Will Somers</td><td>4.25</td><td>11644</td></tr>",
                            "<tr><td>Ursula K. Le Guin</td><td>The Earthsea Trilogy</td><td>4.25</td><td>11644</td></tr>",
                            "<tr><td>Betty MacDonald, Alexandra Boiger</td><td>Hello, Mrs. Piggle-Wiggle (Mrs. Piggle Wiggle, #4)</td><td>4.24</td><td>11644</td></tr>",
                            "<tr><td>Flannery O&#39;Connor</td><td>A Good Man is Hard to Find and Other Stories</td><td>4.24</td><td>11644</td></tr>",
                            "<tr><td>Joan Didion</td><td>Slouching Towards Bethlehem</td><td>4.24</td><td>11644</td></tr>",
                            "<tr><td>Tamora Pierce</td><td>Mastiff (Beka Cooper, #3)</td><td>4.24</td><td>11644</td></tr>",
                            "<tr><td>Enid Blyton</td><td>The Enchanted Wood (The Faraway Tree, #1)</td><td>4.24</td><td>11644</td></tr>",
                            "<tr><td>Betty  Smith</td><td>A Tree Grows in Brooklyn</td><td>4.24</td><td>11644</td></tr>",
                            "<tr><td>Jung Chang</td><td>Wild Swans: Three Daughters of China</td><td>4.23</td><td>11644</td></tr>",
                            "<tr><td>Marjane Satrapi, Mattias Ripa</td><td>Persepolis: The Story of a Childhood (Persepolis, #1)</td><td>4.23</td><td>11644</td></tr>",
                            "<tr><td>Marjane Satrapi, Anjali Singh</td><td>Persepolis 2: The Story of a Return (Persepolis, #2)</td><td>4.23</td><td>11644</td></tr>",
                            "<tr><td>Malorie Blackman</td><td>Noughts &amp; Crosses (Noughts &amp; Crosses, #1)</td><td>4.23</td><td>11644</td></tr>",
                            "<tr><td>Sylvia Plath</td><td>Ariel</td><td>4.23</td><td>11644</td></tr>",
                            "<tr><td>Tachibana Higuchi, 樋口 橘</td><td>Gakuen Alice, Vol. 01 (Gakuen Alice, #1)</td><td>4.23</td><td>11644</td></tr>",
                            "<tr><td>Lindy West</td><td>Shrill: Notes from a Loud Woman</td><td>4.23</td><td>11644</td></tr>",
                            "<tr><td>Mary  Stewart</td><td>The Hollow Hills (Arthurian Saga, #2)</td><td>4.23</td><td>11644</td></tr>",
                            "<tr><td>Judith Kerr</td><td>The Tiger Who Came to Tea</td><td>4.23</td><td>11644</td></tr>",
                            "<tr><td>Octavia E. Butler</td><td>Wild Seed (Patternmaster, #1)</td><td>4.22</td><td>11644</td></tr>",
                            "<tr><td>Elyn R. Saks</td><td>The Center Cannot Hold: My Journey Through Madness</td><td>4.22</td><td>11644</td></tr>",
                            "<tr><td>Irin Carmon, Shana Knizhnik</td><td>Notorious RBG: The Life and Times of Ruth Bader Ginsburg</td><td>4.22</td><td>11644</td></tr>",
                            "<tr><td>Wendy Mass</td><td>A Mango-Shaped Space</td><td>4.22</td><td>11644</td></tr>",
                            "<tr><td>Anne McCaffrey</td><td>The Dragonriders of Pern (Dragonriders of Pern, #1-3)</td><td>4.22</td><td>11644</td></tr>",
                            "<tr><td>Naomi Klein</td><td>The Shock Doctrine: The Rise of Disaster Capitalism</td><td>4.22</td><td>11644</td></tr>",
                            "<tr><td>Colleen McCullough</td><td>The Thorn Birds</td><td>4.22</td><td>11644</td></tr>",
                            "<tr><td>Emily Dickinson, Thomas H. Johnson</td><td>The Complete Poems of Emily Dickinson</td><td>4.21</td><td>11644</td></tr>",
                            "<tr><td>L.M. Montgomery</td><td>Anne of Avonlea (Anne of Green Gables, #2)</td><td>4.21</td><td>11644</td></tr>",
                            "<tr><td>Robin Hobb</td><td>The Mad Ship (Liveship Traders, #2)</td><td>4.21</td><td>11644</td></tr>",
                            "<tr><td>Robin Hobb</td><td>Ship of Destiny (Liveship Traders, #3)</td><td>4.21</td><td>11644</td></tr>",
                            "<tr><td>Tamora Pierce</td><td>Wolf-Speaker (Immortals, #2)</td><td>4.21</td><td>11644</td></tr>",
                            "<tr><td>Ai Yazawa</td><td>Nana, Vol. 1 (Nana, #1)</td><td>4.21</td><td>11644</td></tr>",
                            "<tr><td>Marian Potter</td><td>The Little Red Caboose (Little Golden Book)</td><td>4.21</td><td>11644</td></tr>",
                            "<tr><td>Octavia E. Butler</td><td>Parable of the Talents (Earthseed, #2)</td><td>4.21</td><td>11644</td></tr>",
                            "<tr><td>Audre Lorde</td><td>Zami: A New Spelling of My Name</td><td>4.2</td><td>11644</td></tr>",
                            "<tr><td>Margaret Edson</td><td>Wit</td><td>4.2</td><td>11644</td></tr>",
                            "<tr><td>Ann Leckie</td><td>Ancillary Mercy (Imperial Radch #3)</td><td>4.2</td><td>11644</td></tr>",
                            "<tr><td>Patricia C. Wrede, Peter de Sève</td><td>Calling on Dragons (Enchanted Forest Chronicles, #3)</td><td>4.2</td><td>11644</td></tr>",
                            "<tr><td>Ann Rule</td><td>Small Sacrifices: A True Story of Passion and Murder</td><td>4.2</td><td>11644</td></tr>",
                            "<tr><td>Sylvia Plath, Ted Hughes</td><td>The Collected Poems</td><td>4.2</td><td>11644</td></tr>",
                            "<tr><td>Noelle Stevenson</td><td>Nimona</td><td>4.2</td><td>11644</td></tr>",
                            "<tr><td>Tamora Pierce</td><td>The Woman Who Rides Like a Man (Song of the Lioness, #3)</td><td>4.2</td><td>11644</td></tr>",
                            "<tr><td>Agatha Christie</td><td>The Murder of Roger Ackroyd (Hercule Poirot, #4)</td><td>4.2</td><td>11644</td></tr>",
                            "<tr><td>Daphne du Maurier, Sally Beauman</td><td>Rebecca</td><td>4.2</td><td>11644</td></tr>",
                            "<tr><td>Isabel Allende, Magda Bogin</td><td>The House of the Spirits</td><td>4.2</td><td>11644</td></tr>",
                            "<tr><td>Maya Angelou</td><td>I Know Why the Caged Bird Sings</td><td>4.19</td><td>11644</td></tr>",
                            "<tr><td>Maya Angelou</td><td>The Heart of a Woman</td><td>4.19</td><td>11644</td></tr>",
                            "<tr><td>Beatrix Potter</td><td>The Tale of Mrs. Tiggy-Winkle</td><td>4.19</td><td>11644</td></tr>",
                            "<tr><td>Esther Earl, Lori Earl, Wayne Earl, John Green</td><td>This Star Won&#39;t Go Out: The Life and Words of Esther Grace Earl</td><td>4.19</td><td>11644</td></tr>",
                            "<tr><td>Becky  Chambers</td><td>The Long Way to a Small, Angry Planet (Wayfarers, #1)</td><td>4.18</td><td>11644</td></tr>",
                            "<tr><td>Chimamanda Ngozi Adichie</td><td>The Thing Around Your Neck</td><td>4.18</td><td>11644</td></tr>",
                            "<tr><td>Beryl Markham</td><td>West with the Night</td><td>4.18</td><td>11644</td></tr>",
                            "<tr><td>Octavia E. Butler</td><td>Kindred</td><td>4.18</td><td>11644</td></tr>",
                            "<tr><td>Ursula K. Le Guin</td><td>The Dispossessed</td><td>4.18</td><td>11644</td></tr>",
                            "<tr><td>Brené Brown</td><td>The Gifts of Imperfection: Let Go of Who You Think You&#39;re Supposed to Be and Embrace Who You Are</td><td>4.17</td><td>11644</td></tr>",
                            "<tr><td>Mary Doria Russell</td><td>The Sparrow (The Sparrow, #1)</td><td>4.17</td><td>11644</td></tr>",
                            "<tr><td>Alice Walker</td><td>The Color Purple</td><td>4.17</td><td>11644</td></tr>",
                            "<tr><td>Allie Brosh</td><td>Hyperbole and a Half: Unfortunate Situations, Flawed Coping Mechanisms, Mayhem, and Other Things That Happened</td><td>4.17</td><td>11644</td></tr>",
                            "<tr><td>Natalie Goldberg</td><td>Writing Down the Bones: Freeing the Writer Within</td><td>4.17</td><td>11644</td></tr>",
                            "<tr><td>Margaret George</td><td>The Memoirs of Cleopatra</td><td>4.17</td><td>11644</td></tr>",
                            "<tr><td>Christiane F., Kai Hermann, Horst Rieck</td><td>Wir Kinder vom Bahnhof Zoo</td><td>4.16</td><td>11644</td></tr>",
                            "<tr><td>Tamora Pierce</td><td>Shatterglass (The Circle Opens, #4)</td><td>4.16</td><td>11644</td></tr>",
                            "<tr><td>Emily Dickinson</td><td>Selected Poems</td><td>4.16</td><td>11644</td></tr>",
                            "<tr><td>Lois McMaster Bujold</td><td>The Curse of Chalion (World of the Five Gods, #1)</td><td>4.16</td><td>11644</td></tr>",
                            "<tr><td>L.M. Montgomery</td><td>Rilla of Ingleside (Anne of Green Gables, #8)</td><td>4.16</td><td>11644</td></tr>",
                            "<tr><td>Agatha Christie</td><td>Murder on the Orient Express (Hercule Poirot, #10)</td><td>4.16</td><td>11644</td></tr>",
                            "<tr><td>Elisabeth Kübler-Ross</td><td>On Death and Dying</td><td>4.15</td><td>11644</td></tr>",
                            "<tr><td>Tamora Pierce</td><td>The Will of the Empress (Circle Reforged, #1)</td><td>4.15</td><td>11644</td></tr>",
                            "<tr><td>Iris Rainer Dart</td><td>Beaches</td><td>4.14</td><td>11644</td></tr>",
                            "<tr><td>Mary Westmacott, Agatha Christie</td><td>Absent In The Spring</td><td>4.14</td><td>11644</td></tr>",
                            "<tr><td>Madeleine L&#39;Engle</td><td>A Ring of Endless Light (Austin Family, #4)</td><td>4.14</td><td>11644</td></tr>",
                            "<tr><td>Octavia E. Butler</td><td>Parable of the Sower (Earthseed, #1)</td><td>4.14</td><td>11644</td></tr>",
                            "<tr><td>Felicia Day, Joss Whedon</td><td>You&#39;re Never Weird on the Internet (Almost)</td><td>4.14</td><td>11644</td></tr>",
                            "<tr><td>Tamora Pierce</td><td>Briar&#39;s Book (Circle of Magic, #4)</td><td>4.14</td><td>11644</td></tr>",
                            "<tr><td>G. Willow Wilson, Adrian Alphona, Jacob Wyatt</td><td>Ms. Marvel, Vol. 2: Generation Why</td><td>4.14</td><td>11644</td></tr>",
                            "<tr><td>Virginia Woolf</td><td>The Waves</td><td>4.14</td><td>11644</td></tr>",
                            "<tr><td>Sarah Andersen</td><td>Adulthood Is a Myth (Sarah&#39;s Scribbles, #1)</td><td>4.14</td><td>11644</td></tr>",
                            "<tr><td>Patti Smith</td><td>Just Kids</td><td>4.14</td><td>11644</td></tr>",
                            "<tr><td>Irma S. Rombauer, Marion Rombauer Becker, Ethan Becker</td><td>The Joy of Cooking</td><td>4.14</td><td>11644</td></tr>",
                            "<tr><td>Tess Gerritsen</td><td>The Apprentice (Rizzoli &amp; Isles, #2)</td><td>4.14</td><td>11644</td></tr>",
                            "<tr><td>Anne Fadiman</td><td>The Spirit Catches You and You Fall Down: A Hmong Child, Her American Doctors, and the Collision of Two Cultures</td><td>4.14</td><td>11644</td></tr>",
                            "<tr><td>Julia Alvarez</td><td>In the Time of the Butterflies</td><td>4.13</td><td>11644</td></tr>",
                            "<tr><td>Ann Rule</td><td>The Stranger Beside Me: Ted Bundy The Shocking Inside Story</td><td>4.13</td><td>11644</td></tr>",
                            "<tr><td>G. Willow Wilson, Adrian Alphona</td><td>Ms. Marvel, Vol. 1: No Normal</td><td>4.13</td><td>11644</td></tr>",
                            "<tr><td>Elizabeth Gaskell, Alan Shelston</td><td>North and South</td><td>4.13</td><td>11644</td></tr>",
                            "<tr><td>Madeleine L&#39;Engle</td><td>A Swiftly Tilting Planet (A Wrinkle in Time Quintet, #3)</td><td>4.13</td><td>11644</td></tr>",
                            "<tr><td>Jane Austen, James Kinsley, Deidre Shauna Lynch</td><td>Persuasion</td><td>4.13</td><td>11644</td></tr>",
                            "<tr><td>Lois McMaster Bujold</td><td>Shards of Honour  (Vorkosigan Saga, #1)</td><td>4.13</td><td>11644</td></tr>",
                            "<tr><td>Gloria Naylor</td><td>The Women of Brewster Place</td><td>4.13</td><td>11644</td></tr>",
                            "<tr><td>Virginia M. Axline</td><td>Dibs in Search of Self</td><td>4.13</td><td>11644</td></tr>",
                            "<tr><td>S.A.R.K.</td><td>Succulent Wild Woman</td><td>4.12</td><td>11644</td></tr>",
                            "<tr><td>Lorrie Moore</td><td>Birds of America</td><td>4.12</td><td>11644</td></tr>",
                            "<tr><td>Tamora Pierce</td><td>Street Magic (The Circle Opens, #2)</td><td>4.12</td><td>11644</td></tr>",
                            "<tr><td>Jeanette Winterson</td><td>The Passion</td><td>4.12</td><td>11644</td></tr>",
                            "<tr><td>Mary  Stewart</td><td>The Crystal Cave (Arthurian Saga, #1)</td><td>4.12</td><td>11644</td></tr>",
                            "<tr><td>Jhumpa Lahiri</td><td>Interpreter of Maladies</td><td>4.12</td><td>11644</td></tr>",
                            "<tr><td>Marion Zimmer Bradley</td><td>The Mists of Avalon (Avalon, #1)</td><td>4.12</td><td>11644</td></tr>",
                            "<tr><td>Alison Bechdel</td><td>Fun Home: A Family Tragicomic</td><td>4.12</td><td>11644</td></tr>",
                            "<tr><td>Jhumpa Lahiri</td><td>Unaccustomed Earth</td><td>4.11</td><td>11644</td></tr>",
                            "<tr><td>Ursula K. Le Guin</td><td>The Farthest Shore (Earthsea Cycle, #3)</td><td>4.11</td><td>11644</td></tr>",
                            "<tr><td>Chimamanda Ngozi Adichie</td><td>Purple Hibiscus</td><td>4.11</td><td>11644</td></tr>",
                            "<tr><td>Charlotte Perkins Gilman, Elaine Hedges</td><td>The Yellow Wall-Paper</td><td>4.11</td><td>11644</td></tr>",
                            "<tr><td>Chitra Banerjee Divakaruni</td><td>The Palace of Illusions</td><td>4.11</td><td>11644</td></tr>",
                            "<tr><td>Meg Jay</td><td>The Defining Decade: Why Your Twenties Matter--And How to Make the Most of Them Now</td><td>4.11</td><td>11644</td></tr>",
                            "<tr><td>Dorothy L. Sayers</td><td>Unnatural Death (Lord Peter Wimsey, #3)</td><td>4.11</td><td>11644</td></tr>",
                            "<tr><td>Annie Dillard</td><td>Pilgrim at Tinker Creek</td><td>4.1</td><td>11644</td></tr>",
                            "<tr><td>Octavia E. Butler</td><td>Dawn (Xenogenesis, #1)</td><td>4.1</td><td>11644</td></tr>",
                            "<tr><td>Janet Stevens, Hans Christian Andersen</td><td>The Princess and the Pea</td><td>4.1</td><td>11644</td></tr>",
                            "<tr><td>Roz Chast</td><td>Can&#39;t We Talk about Something More Pleasant?</td><td>4.1</td><td>11644</td></tr>",
                            "<tr><td>Virginia Woolf</td><td>A Room of One&#39;s Own</td><td>4.1</td><td>11644</td></tr>",
                            "<tr><td>Helene Wecker</td><td>The Golem and the Jinni (The Golem and the Jinni, #1)</td><td>4.1</td><td>11644</td></tr>",
                            "<tr><td>Anne Frank, Eleanor Roosevelt, B.M. Mooyaart-Doubleday</td><td>The Diary of a Young Girl</td><td>4.1</td><td>11644</td></tr>",
                            "<tr><td>Charlotte Brontë, Michael Mason</td><td>Jane Eyre</td><td>4.1</td><td>11644</td></tr>",
                            "<tr><td>Marion Cunningham, Fannie Merritt Farmer, Archibald Candy Corporation</td><td>The Fannie Farmer Cookbook: Anniversary</td><td>4.1</td><td>11644</td></tr>",
                            "<tr><td>Stacy King, SunNeko Lee, Crystal S. Chan, Victor Hugo</td><td>Manga Classics: Les Misérables</td><td>4.1</td><td>11644</td></tr>",
                            "<tr><td>Anna Gavalda, Alison Anderson</td><td>Hunting and Gathering</td><td>4.1</td><td>11644</td></tr>",
                            "<tr><td>Alice  Miller, Ruth Ward</td><td>The Drama of the Gifted Child: The Search for the True Self</td><td>4.09</td><td>11644</td></tr>",
                            "<tr><td>Waris Dirie, Cathleen Miller</td><td>Desert Flower</td><td>4.09</td><td>11644</td></tr>",
                            "<tr><td>Sandra Gulland</td><td>The Many Lives &amp; Secret Sorrows of Josephine B. (Josephine Bonaparte, #1)</td><td>4.09</td><td>11644</td></tr>",
                            "<tr><td>Dorothy Allison</td><td>Bastard Out of Carolina</td><td>4.09</td><td>11644</td></tr>",
                            "<tr><td>Ursula K. Le Guin</td><td>The Lathe of Heaven</td><td>4.09</td><td>11644</td></tr>",
                            "<tr><td>Shirley Jackson</td><td>The Lottery</td><td>4.09</td><td>11644</td></tr>",
                            "<tr><td>Simone de Beauvoir, H.M. Parshley, Deirdre Bair</td><td>The Second Sex</td><td>4.09</td><td>11644</td></tr>",
                            "<tr><td>Elizabeth Kolbert</td><td>The Sixth Extinction: An Unnatural History</td><td>4.09</td><td>11644</td></tr>",
                            "<tr><td>Jeanette Winterson</td><td>Written on the Body</td><td>4.08</td><td>11644</td></tr>",
                            "<tr><td>Kate Chopin</td><td>The Story of an Hour</td><td>4.08</td><td>11644</td></tr>",
                            "<tr><td>Gloria Steinem</td><td>My Life on the Road</td><td>4.08</td><td>11644</td></tr>",
                            "<tr><td>Harriet Jacobs</td><td>Incidents in the Life of a Slave Girl</td><td>4.08</td><td>11644</td></tr>",
                            "<tr><td>Maya Angelou</td><td>Letter to My Daughter</td><td>4.08</td><td>11644</td></tr>",
                            "<tr><td>Lynn Flewelling</td><td>Luck in the Shadows (Nightrunner, #1)</td><td>4.08</td><td>11644</td></tr>",
                            "<tr><td>Elizabeth Gaskell, Pam Morris</td><td>Wives and Daughters</td><td>4.07</td><td>11644</td></tr>",
                            "<tr><td>Sara Gruen</td><td>Water for Elephants</td><td>4.07</td><td>11644</td></tr>",
                            "<tr><td>Donna Tartt</td><td>The Secret History</td><td>4.07</td><td>11644</td></tr>",
                            "<tr><td>Ursula K. Le Guin</td><td>The Tombs of Atuan (Earthsea Cycle, #2)</td><td>4.07</td><td>11644</td></tr>",
                            "<tr><td>Ursula Hegi</td><td>Stones from the River</td><td>4.07</td><td>11644</td></tr>",
                            "<tr><td>Helen Keller</td><td>The Story of My Life</td><td>4.07</td><td>11644</td></tr>",
                            "<tr><td>Rachel Maddow</td><td>Drift: The Unmooring of American Military Power</td><td>4.07</td><td>11644</td></tr>",
                            "<tr><td>Tamora Pierce</td><td>Tris&#39;s Book (Circle of Magic, #2)</td><td>4.07</td><td>11644</td></tr>",
                            "<tr><td>Isabel Allende</td><td>Paula</td><td>4.07</td><td>11644</td></tr>",
                            "<tr><td>Enid Blyton</td><td>Five on a Treasure Island (Famous Five, #1)</td><td>4.06</td><td>11644</td></tr>",
                            "<tr><td>Tamora Pierce</td><td>Daja&#39;s Book (Circle of Magic, #3)</td><td>4.06</td><td>11644</td></tr>",
                            "<tr><td>Keri Hulme</td><td>The Bone People</td><td>4.06</td><td>11644</td></tr>",
                            "<tr><td>Marguerite Henry</td><td>Stormy, Misty&#39;s Foal (Misty, #3)</td><td>4.06</td><td>11644</td></tr>",
                            "<tr><td>Malala Yousafzai, Christina Lamb</td><td>I Am Malala: The Story of the Girl Who Stood Up for Education and Was Shot by the Taliban</td><td>4.06</td><td>11644</td></tr>",
                            "<tr><td>Jane Austen, Tony Tanner, Ros Ballaster</td><td>Sense and Sensibility</td><td>4.06</td><td>11644</td></tr>",
                            "<tr><td>Margaret Atwood</td><td>The Handmaid&#39;s Tale</td><td>4.06</td><td>11644</td></tr>",
                            "<tr><td>Shirley Jackson</td><td>The Lottery and Other Stories</td><td>4.06</td><td>11644</td></tr>",
                            "<tr><td>Ursula K. Le Guin</td><td>The Other Wind (Earthsea Cycle, #6)</td><td>4.06</td><td>11644</td></tr>",
                            "<tr><td>Alice Munro</td><td>Hateship, Friendship, Courtship, Loveship, Marriage: Stories</td><td>4.06</td><td>11644</td></tr>",
                            "<tr><td>Alice Walker</td><td>Possessing the Secret of Joy</td><td>4.06</td><td>11644</td></tr>",
                            "<tr><td>Alice Walker</td><td>The Temple of My Familiar</td><td>4.05</td><td>11644</td></tr>",
                            "<tr><td>Tamora Pierce</td><td>Cold Fire (The Circle Opens, #3)</td><td>4.05</td><td>11644</td></tr>",
                            "<tr><td>Katherine Addison</td><td>The Goblin Emperor</td><td>4.05</td><td>11644</td></tr>",
                            "<tr><td>Mary Doria Russell</td><td>Children of God (The Sparrow, #2)</td><td>4.05</td><td>11644</td></tr>",
                            "<tr><td>Roxane Gay</td><td>An Untamed State</td><td>4.05</td><td>11644</td></tr>",
                            "<tr><td>Barbara Kingsolver</td><td>Animal Dreams</td><td>4.05</td><td>11644</td></tr>",
                            "<tr><td>Shirley Jackson, Jonathan Lethem</td><td>We Have Always Lived in the Castle</td><td>4.05</td><td>11644</td></tr>",
                            "<tr><td>Lisa See</td><td>Snow Flower and the Secret Fan</td><td>4.05</td><td>11644</td></tr>",
                            "<tr><td>Mary Roach</td><td>Stiff: The Curious Lives of Human Cadavers</td><td>4.05</td><td>11644</td></tr>",
                            "<tr><td>Anne Rice</td><td>The Vampire Lestat (The Vampire Chronicles, #2)</td><td>4.05</td><td>11644</td></tr>",
                            "<tr><td>Ursula K. Le Guin, Lech Jęczmyk</td><td>The Left Hand of Darkness</td><td>4.05</td><td>11644</td></tr>",
                            "<tr><td>Margaret Atwood</td><td>The Year of the Flood  (MaddAddam, #2)</td><td>4.05</td><td>11644</td></tr>",
                            "<tr><td>Tana French</td><td>The Likeness (Dublin Murder Squad, #2)</td><td>4.05</td><td>11644</td></tr>",
                            "<tr><td>Robin Hobb</td><td>City of Dragons (Rain Wild Chronicles, #3)</td><td>4.05</td><td>11644</td></tr>",
                            "<tr><td>Chelsea Cain</td><td>Sweetheart (Archie Sheridan &amp; Gretchen Lowell, #2)</td><td>4.05</td><td>11644</td></tr>",
                            "<tr><td>Shonda Rhimes</td><td>Year of Yes: How to Dance It Out, Stand In the Sun and Be Your Own Person</td><td>4.05</td><td>11644</td></tr>",
                            "<tr><td>L.M. Montgomery</td><td>Anne of Ingleside (Anne of Green Gables, #6)</td><td>4.05</td><td>11644</td></tr>",
                            "<tr><td>Caitlin Doughty</td><td>Smoke Gets in Your Eyes: And Other Lessons from the Crematory</td><td>4.04</td><td>11644</td></tr>",
                            "<tr><td>Caroline Knapp</td><td>Drinking: A Love Story</td><td>4.04</td><td>11644</td></tr>",
                            "<tr><td>Cate Tiernan</td><td>Book of Shadows (Sweep, #1)</td><td>4.04</td><td>11644</td></tr>",
                            "<tr><td>Hope Jahren</td><td>Lab Girl</td><td>4.04</td><td>11644</td></tr>",
                            "<tr><td>Martha Stewart, Victor Schrager</td><td>Martha Stewart&#39;s Cookies: The Very Best Treats to Bake and to Share</td><td>4.04</td><td>11644</td></tr>",
                            "<tr><td>Betty Mahmoody</td><td>Not Without My Daughter</td><td>4.04</td><td>11644</td></tr>",
                            "<tr><td>Jen Sincero</td><td>You Are a Badass: How to Stop Doubting Your Greatness and Start Living an Awesome Life</td><td>4.04</td><td>11644</td></tr>",
                            "<tr><td>Louisa May Alcott</td><td>Little Women (Little Women, #1)</td><td>4.04</td><td>11644</td></tr>",
                            "<tr><td>L.M. Montgomery</td><td>Anne of Windy Poplars (Anne of Green Gables, #4)</td><td>4.04</td><td>11644</td></tr>",
                            "<tr><td>Laurie R. King</td><td>A Monstrous Regiment of Women (Mary Russell, #2)</td><td>4.04</td><td>11644</td></tr>",
                            "<tr><td>N.K. Jemisin</td><td>The Broken Kingdoms (Inheritance, #2)</td><td>4.04</td><td>11644</td></tr>",
                            "<tr><td>Geraldine Brooks</td><td>Nine Parts of Desire: The Hidden World of Islamic Women</td><td>4.04</td><td>11644</td></tr>",
                            "<tr><td>Chelsea Cain</td><td>Evil at Heart (Archie Sheridan &amp; Gretchen Lowell, #3)</td><td>4.03</td><td>11644</td></tr>",
                            "<tr><td>Marion Zimmer Bradley, Diana L. Paxson</td><td>Priestess of Avalon (Avalon, #4)</td><td>4.03</td><td>11644</td></tr>",
                            "<tr><td>Kay Redfield Jamison</td><td>An Unquiet Mind: A Memoir of Moods and Madness</td><td>4.03</td><td>11644</td></tr>",
                            "<tr><td>Emma Donoghue</td><td>Room</td><td>4.03</td><td>11644</td></tr>",
                            "<tr><td>Agatha Christie</td><td>Murder at the Vicarage (Miss Marple, #1)</td><td>4.03</td><td>11644</td></tr>",
                            "<tr><td>Truddi Chase, Robert A. Phillips Jr.</td><td>When Rabbit Howls</td><td>4.03</td><td>11644</td></tr>",
                            "<tr><td>Ann Leckie</td><td>Ancillary Sword (Imperial Radch, #2)</td><td>4.03</td><td>11644</td></tr>",
                            "<tr><td>Pat Barker</td><td>Regeneration (Regeneration, #1)</td><td>4.03</td><td>11644</td></tr>",
                            "<tr><td>Angela Carter</td><td>The Bloody Chamber and Other Stories</td><td>4.02</td><td>11644</td></tr>",
                            "<tr><td>Louise Erdrich</td><td>The Master Butchers Singing Club</td><td>4.02</td><td>11644</td></tr>",
                            "<tr><td>Barbara Kingsolver</td><td>The Poisonwood Bible</td><td>4.02</td><td>11644</td></tr>",
                            "<tr><td>Emily St. John Mandel</td><td>Station Eleven</td><td>4.02</td><td>11644</td></tr>",
                            "<tr><td>Sarah Waters</td><td>Fingersmith</td><td>4.02</td><td>11644</td></tr>",
                            "<tr><td>Charlotte Perkins Gilman</td><td>The Yellow Wallpaper and Other Stories</td><td>4.02</td><td>11644</td></tr>",
                            "<tr><td>Siri Hustvedt</td><td>What I Loved</td><td>4.02</td><td>11644</td></tr>",
                            "<tr><td>Fannie Flagg</td><td>Standing in the Rainbow (Elmwood Springs, #2)</td><td>4.02</td><td>11644</td></tr>",
                            "<tr><td>Cecelia Ahern</td><td>How to Fall in Love</td><td>4.02</td><td>11644</td></tr>",
                            "<tr><td>Toni Morrison</td><td>Song of Solomon</td><td>4.01</td><td>11644</td></tr>",
                            "<tr><td>Hannah Kent</td><td>Burial Rites</td><td>4.01</td><td>11644</td></tr>",
                            "<tr><td>Sue Monk Kidd</td><td>The Secret Life of Bees</td><td>4.01</td><td>11644</td></tr>",
                            "<tr><td>Louise Rennison</td><td>Dancing in My Nuddy-Pants (Confessions of Georgia Nicolson, #4)</td><td>4.01</td><td>11644</td></tr>",
                            "<tr><td>V.C. Andrews</td><td>Heaven (Casteel, #1)</td><td>4.01</td><td>11644</td></tr>",
                            "<tr><td>Rosalind Miles</td><td>I, Elizabeth</td><td>4.01</td><td>11644</td></tr>",
                            "<tr><td>Tess Gerritsen</td><td>The Mephisto Club (Rizzoli &amp; Isles, #6)</td><td>4.01</td><td>11644</td></tr>",
                            "<tr><td>Isabel Allende, Margaret Sayers Peden</td><td>Island Beneath the Sea</td><td>4.01</td><td>11644</td></tr>",
                            "<tr><td>L.M. Montgomery</td><td>Rainbow Valley (Anne of Green Gables, #7)</td><td>4</td><td>11644</td></tr>",
                            "<tr><td>Deborah Blum</td><td>The Poisoner&#39;s Handbook: Murder and the Birth of Forensic Medicine in Jazz Age New York</td><td>4</td><td>11644</td></tr>",
                            "<tr><td>Margaret Atwood</td><td>Oryx and Crake (MaddAddam, #1)</td><td>4</td><td>11644</td></tr>",
                            "<tr><td>Dodie Smith</td><td>I Capture the Castle</td><td>4</td><td>11644</td></tr>",
                            "<tr><td>Sarah Waters</td><td>Tipping the Velvet</td><td>4</td><td>11644</td></tr>",
                            "<tr><td>Twyla Tharp</td><td>The Creative Habit: Learn It and Use It for Life</td><td>4</td><td>11644</td></tr>",
                            "<tr><td>Ursula K. Le Guin</td><td>Tales from Earthsea (Earthsea Cycle, #5)</td><td>4</td><td>11644</td></tr>",
                            "<tr><td>Enid Blyton</td><td>Five Go Adventuring Again (Famous Five, #2)</td><td>3.99</td><td>11644</td></tr>",
                            "<tr><td>Giulia Enders, Jill Enders</td><td>Gut: The Inside Story of Our Body’s Most Underrated Organ</td><td>3.99</td><td>11644</td></tr>",
                            "<tr><td>Maggie Nelson</td><td>The Argonauts</td><td>3.99</td><td>11644</td></tr>",
                            "<tr><td>Annie Proulx</td><td>Close Range</td><td>3.99</td><td>11644</td></tr>",
                            "<tr><td>Ursula K. Le Guin</td><td>A Wizard of Earthsea (Earthsea Cycle, #1)</td><td>3.99</td><td>11644</td></tr>",
                            "<tr><td>Toni Morrison</td><td>The Bluest Eye</td><td>3.99</td><td>11644</td></tr>",
                            "<tr><td>Jane Austen, Fiona Stafford</td><td>Emma</td><td>3.99</td><td>11644</td></tr>",
                            "<tr><td>Emily M. Danforth</td><td>The Miseducation of Cameron Post</td><td>3.99</td><td>11644</td></tr>",
                            "<tr><td>Tamora Pierce</td><td>Sandry&#39;s Book (Circle of Magic, #1)</td><td>3.99</td><td>11644</td></tr>",
                            "<tr><td>Julie Anne Peters</td><td>Keeping You a Secret</td><td>3.98</td><td>11644</td></tr>",
                            "<tr><td>Margaret Peterson Haddix</td><td>Running Out of Time</td><td>3.98</td><td>11644</td></tr>",
                            "<tr><td>Sara Nović</td><td>Girl at War</td><td>3.98</td><td>11644</td></tr>",
                            "<tr><td>Alice Munro</td><td>Runaway</td><td>3.98</td><td>11644</td></tr>",
                            "<tr><td>Louise Erdrich</td><td>Love Medicine</td><td>3.98</td><td>11644</td></tr>",
                            "<tr><td>Agatha Christie, Ροζίτα Σώκου</td><td>The Mysterious Affair at Styles (Hercule Poirot, #1)</td><td>3.98</td><td>11644</td></tr>",
                            "<tr><td>Barbara Kingsolver</td><td>Prodigal Summer</td><td>3.98</td><td>11644</td></tr>",
                            "<tr><td>Amy Tan</td><td>The Bonesetter&#39;s Daughter</td><td>3.98</td><td>11644</td></tr>",
                            "<tr><td>Katherine Dunn</td><td>Geek Love</td><td>3.98</td><td>11644</td></tr>",
                            "<tr><td>Ruth Ozeki</td><td>A Tale for the Time Being</td><td>3.98</td><td>11644</td></tr>",
                            "<tr><td>Amy Tan</td><td>The Kitchen God&#39;s Wife</td><td>3.98</td><td>11644</td></tr>",
                            "<tr><td>Thrity Umrigar</td><td>The Space Between Us</td><td>3.98</td><td>11644</td></tr>",
                            "<tr><td>Amy Tan</td><td>The Hundred Secret Senses</td><td>3.98</td><td>11644</td></tr>",
                            "<tr><td>Margaret Atwood</td><td>MaddAddam (MaddAddam, #3)</td><td>3.98</td><td>11644</td></tr>",
                            "<tr><td>Sarah Vowell</td><td>Assassination Vacation</td><td>3.98</td><td>11644</td></tr>",
                            "<tr><td>Tamora Pierce</td><td>Magic Steps (The Circle Opens, #1)</td><td>3.98</td><td>11644</td></tr>",
                            "<tr><td>A.N. Roquelaure, Anne Rice</td><td>Sleeping Beauty Box Set</td><td>3.98</td><td>11644</td></tr>",
                            "<tr><td>Nancy Garden</td><td>Annie on My Mind</td><td>3.97</td><td>11644</td></tr>",
                            "<tr><td>Tana French</td><td>Faithful Place (Dublin Murder Squad, #3)</td><td>3.97</td><td>11644</td></tr>",
                            "<tr><td>Margaret Atwood, Brigitte Walitzek</td><td>Alias Grace</td><td>3.97</td><td>11644</td></tr>",
                            "<tr><td>Ann Leckie</td><td>Ancillary Justice (Imperial Radch #1)</td><td>3.97</td><td>11644</td></tr>",
                            "<tr><td>Katherine Boo</td><td>Behind the Beautiful Forevers: Life, Death, and Hope in a Mumbai Undercity</td><td>3.97</td><td>11644</td></tr>",
                            "<tr><td>Carson McCullers</td><td>The Heart is a Lonely Hunter</td><td>3.97</td><td>11644</td></tr>",
                            "<tr><td>Johanna Spyri, Angelo  Rinaldi, Beverly Cleary</td><td>Heidi</td><td>3.97</td><td>11644</td></tr>",
                            "<tr><td>Pearl S. Buck</td><td>The Good Earth (House of Earth, #1)</td><td>3.97</td><td>11644</td></tr>",
                            "<tr><td>Anne Rice</td><td>Interview with the Vampire (The Vampire Chronicles, #1)</td><td>3.97</td><td>11644</td></tr>",
                            "<tr><td>Amanda Palmer</td><td>The Art of Asking; or, How I Learned to Stop Worrying and Let People Help</td><td>3.97</td><td>11644</td></tr>",
                            "<tr><td>Catherynne M. Valente, Ana Juan</td><td>The Girl Who Circumnavigated Fairyland in a Ship of Her Own Making (Fairyland, #1)</td><td>3.97</td><td>11644</td></tr>",
                            "<tr><td>Louise Rennison</td><td>Knocked Out by My Nunga-Nungas (Confessions of Georgia Nicolson, #3)</td><td>3.97</td><td>11644</td></tr>",
                            "<tr><td>Agatha Christie</td><td>A Murder Is Announced (Miss Marple, #5)</td><td>3.96</td><td>11644</td></tr>",
                            "<tr><td>Nigella Lawson</td><td>Nigella Express: Good Food, Fast</td><td>3.96</td><td>11644</td></tr>",
                            "<tr><td>Liz Moore</td><td>Heft</td><td>3.96</td><td>11644</td></tr>",
                            "<tr><td>V.C. Andrews</td><td>Dark Angel (Casteel, #2)</td><td>3.96</td><td>11644</td></tr>",
                            "<tr><td>Jhumpa Lahiri</td><td>The Namesake</td><td>3.96</td><td>11644</td></tr>",
                            "<tr><td>Alexandra Fuller</td><td>Don&#39;t Let&#39;s Go to the Dogs Tonight</td><td>3.96</td><td>11644</td></tr>",
                            "<tr><td>Sarah Ban Breathnach</td><td>Simple Abundance:  A Daybook of Comfort and Joy</td><td>3.96</td><td>11644</td></tr>",
                            "<tr><td>Louise Fitzhugh</td><td>Harriet the Spy (Harriet the Spy #1)</td><td>3.96</td><td>11644</td></tr>",
                            "<tr><td>Jean Kwok</td><td>Girl in Translation</td><td>3.96</td><td>11644</td></tr>",
                            "<tr><td>Louise Rennison</td><td>On the Bright Side, I&#39;m Now the Girlfriend of a Sex God (Confessions of Georgia Nicolson, #2)</td><td>3.96</td><td>11644</td></tr>",
                            "<tr><td>Sarah Hepola</td><td>Blackout: Remembering the Things I Drank to Forget</td><td>3.96</td><td>11644</td></tr>",
                            "<tr><td>Isabel Allende</td><td>The Stories of Eva Luna</td><td>3.96</td><td>11644</td></tr>",
                            "<tr><td>Rene Denfeld</td><td>The Enchanted</td><td>3.96</td><td>11644</td></tr>",
                            "<tr><td>Anne Michaels</td><td>Fugitive Pieces</td><td>3.95</td><td>11644</td></tr>",
                            "<tr><td>Mollie Katzen</td><td>The Moosewood Cookbook: Recipes from Moosewood Restaurant, Ithaca, New York</td><td>3.95</td><td>11644</td></tr>",
                            "<tr><td>Pamela Druckerman, Abby Craden</td><td>Bringing Up Bébé: One American Mother Discovers the Wisdom of French Parenting</td><td>3.95</td><td>11644</td></tr>",
                            "<tr><td>Ann-Marie MacDonald</td><td>Fall on Your Knees</td><td>3.95</td><td>11644</td></tr>",
                            "<tr><td>Audrey Niffenegger</td><td>The Time Traveler&#39;s Wife</td><td>3.95</td><td>11644</td></tr>",
                            "<tr><td>Newt Scamander, J.K. Rowling, Albus Dumbledore</td><td>Fantastic Beasts and Where to Find Them</td><td>3.95</td><td>11644</td></tr>",
                            "<tr><td>Joanne Harris</td><td>Chocolat (Chocolat, #1)</td><td>3.95</td><td>11644</td></tr>",
                            "<tr><td>Eowyn Ivey</td><td>The Snow Child</td><td>3.95</td><td>11644</td></tr>",
                            "<tr><td>Margaret Atwood</td><td>The Blind Assassin</td><td>3.95</td><td>11644</td></tr>",
                            "<tr><td>Heather O&#39;Neill</td><td>Lullabies for Little Criminals</td><td>3.95</td><td>11644</td></tr>",
                            "<tr><td>Isabel Allende, Margaret Sayers Peden</td><td>Eva Luna</td><td>3.95</td><td>11644</td></tr>",
                            "<tr><td>Agatha Christie</td><td>Evil Under the Sun (Hercule Poirot, #23)</td><td>3.94</td><td>11644</td></tr>",
                            "<tr><td>Alison Weir</td><td>Innocent Traitor</td><td>3.94</td><td>11644</td></tr>",
                            "<tr><td>Judy Blume</td><td>Otherwise Known as Sheila the Great (Fudge #2)</td><td>3.94</td><td>11644</td></tr>",
                            "<tr><td>Jeanette Winterson</td><td>Why Be Happy When You Could Be Normal?</td><td>3.94</td><td>11644</td></tr>",
                            "<tr><td>P.D. James</td><td>Cover Her Face (Adam Dalgliesh #1)</td><td>3.94</td><td>11644</td></tr>",
                            "<tr><td>Rachel Carson, Linda Lear, Edward O. Wilson</td><td>Silent Spring</td><td>3.94</td><td>11644</td></tr>",
                            "<tr><td>Noelle Stevenson, Grace Ellis, Shannon Waters, Shannon Watters, Brooke A. Allen, Faith Hicks, Kat Leyh, Brooke Allen, Carolyn Nowak, Various, Carey Pietsch</td><td>Lumberjanes, Vol. 1: Beware the Kitten Holy</td><td>3.94</td><td>11644</td></tr>",
                            "<tr><td>Ann M. Martin</td><td>Kristy&#39;s Great Idea (The Baby-Sitters Club, #1)</td><td>3.94</td><td>11644</td></tr>",
                            "<tr><td>Gail Tsukiyama</td><td>Women of the Silk</td><td>3.94</td><td>11644</td></tr>",
                            "<tr><td>Patti Smith</td><td>M Train</td><td>3.94</td><td>11644</td></tr>",
                            "<tr><td>Yōko Ogawa, Stephen Snyder</td><td>The Housekeeper and the Professor</td><td>3.94</td><td>11644</td></tr>",
                            "<tr><td>Barbara Kingsolver</td><td>The Bean Trees (Greer Family, #1)</td><td>3.94</td><td>11644</td></tr>",
                            "<tr><td>Edith Wharton, Nina Bawden</td><td>The House of Mirth</td><td>3.94</td><td>11644</td></tr>",
                            "<tr><td>Anna Sewell</td><td>Black Beauty</td><td>3.94</td><td>11644</td></tr>",
                            "<tr><td>Tina Fey</td><td>Bossypants</td><td>3.94</td><td>11644</td></tr>",
                            "<tr><td>Laura Esquivel, Thomas  Christensen, Carol Christensen</td><td>Like Water for Chocolate</td><td>3.94</td><td>11644</td></tr>",
                            "<tr><td>Terry McMillan</td><td>Waiting to Exhale (Waiting To Exhale #1)</td><td>3.94</td><td>11644</td></tr>",
                            "<tr><td>Melanie Rawn</td><td>Dragon Prince (Dragon Prince, #1)</td><td>3.94</td><td>11644</td></tr>",
                            "<tr><td>Jill Murphy</td><td>The Worst Witch (Worst Witch, #1)</td><td>3.94</td><td>11644</td></tr>",
                            "<tr><td>Ruth Ozeki</td><td>My Year of Meats</td><td>3.93</td><td>11644</td></tr>",
                            "<tr><td>Sara Douglass</td><td>The Wayfarer Redemption (Wayfarer Redemption, #1)</td><td>3.93</td><td>11644</td></tr>",
                            "<tr><td>Phyllis T. Smith</td><td>I Am Livia</td><td>3.93</td><td>11644</td></tr>",
                            "<tr><td>Janet Fitch</td><td>White Oleander</td><td>3.93</td><td>11644</td></tr>",
                            "<tr><td>Edith Wharton, Maureen Howard</td><td>The Age of Innocence</td><td>3.93</td><td>11644</td></tr>",
                            "<tr><td>George Eliot, Michel Faber</td><td>Middlemarch</td><td>3.93</td><td>11644</td></tr>",
                            "<tr><td>Jenny  Lawson</td><td>Furiously Happy: A Funny Book About Horrible Things</td><td>3.93</td><td>11644</td></tr>",
                            "<tr><td>Marian Keyes</td><td>Rachel&#39;s Holiday (Walsh Family, #2)</td><td>3.93</td><td>11644</td></tr>",
                            "<tr><td>Patricia Highsmith</td><td>The Talented Mr. Ripley (Ripley, #1)</td><td>3.93</td><td>11644</td></tr>",
                            "<tr><td>Mary Roach</td><td>Packing for Mars: The Curious Science of Life in the Void</td><td>3.93</td><td>11644</td></tr>",
                            "<tr><td>Annie Proulx</td><td>Brokeback Mountain</td><td>3.93</td><td>11644</td></tr>",
                            "<tr><td>Rebecca Solnit</td><td>Men Explain Things to Me</td><td>3.93</td><td>11644</td></tr>",
                            "<tr><td>Margaret Atwood</td><td>Stone Mattress: Nine Tales</td><td>3.93</td><td>11644</td></tr>",
                            "<tr><td>Natsuo Kirino, Stephen Snyder</td><td>Out</td><td>3.93</td><td>11644</td></tr>",
                            "<tr><td>Isabel Allende, Margaret Sayers Peden</td><td>Portrait in Sepia</td><td>3.93</td><td>11644</td></tr>",
                            "<tr><td>Patricia Highsmith</td><td>The Price of Salt</td><td>3.93</td><td>11644</td></tr>",
                            "<tr><td>Stella Gibbons, Lynne Truss, Roz Chast</td><td>Cold Comfort Farm</td><td>3.92</td><td>11644</td></tr>",
                            "<tr><td>Mary Roach</td><td>Gulp: Adventures on the Alimentary Canal</td><td>3.92</td><td>11644</td></tr>",
                            "<tr><td>Chelsea Cain</td><td>Heartsick (Archie Sheridan &amp; Gretchen Lowell, #1)</td><td>3.92</td><td>11644</td></tr>",
                            "<tr><td>Agatha Christie</td><td>4:50 from Paddington (Miss Marple, #8)</td><td>3.92</td><td>11644</td></tr>",
                            "<tr><td>Daphne du Maurier</td><td>My Cousin Rachel</td><td>3.92</td><td>11644</td></tr>",
                            "<tr><td>Mineko Iwasaki, Rande Brown</td><td>Geisha, a Life</td><td>3.92</td><td>11644</td></tr>",
                            "<tr><td>Cynthia Voigt</td><td>Homecoming (Tillerman Cycle, #1)</td><td>3.92</td><td>11644</td></tr>",
                            "<tr><td>Julie Maroh</td><td>Le bleu est une couleur chaude</td><td>3.92</td><td>11644</td></tr>",
                            "<tr><td>Kate Atkinson</td><td>A God in Ruins</td><td>3.92</td><td>11644</td></tr>",
                            "<tr><td>Emily Carroll</td><td>Through the Woods</td><td>3.92</td><td>11644</td></tr>",
                            "<tr><td>Mary Karr</td><td>The Liars&#39; Club</td><td>3.92</td><td>11644</td></tr>",
                            "<tr><td>Margaret Atwood</td><td>Cat&#39;s Eye</td><td>3.92</td><td>11644</td></tr>",
                            "<tr><td>Ann Patchett</td><td>Bel Canto</td><td>3.92</td><td>11644</td></tr>",
                            "<tr><td>Gillian Flynn</td><td>Sharp Objects</td><td>3.92</td><td>11644</td></tr>",
                            "<tr><td>Louisa May Alcott</td><td>Good Wives (Little Women, #1.5)</td><td>3.92</td><td>11644</td></tr>",
                            "<tr><td>Elizabeth Berg</td><td>What We Keep </td><td>3.91</td><td>11644</td></tr>",
                            "<tr><td>Arundhati Roy</td><td>The God of Small Things</td><td>3.91</td><td>11644</td></tr>",
                            "<tr><td>Nicole Krauss</td><td>The History of Love</td><td>3.91</td><td>11644</td></tr>",
                            "<tr><td>Jodi Picoult</td><td>Change of Heart</td><td>3.91</td><td>11644</td></tr>",
                            "<tr><td>Louise Erdrich</td><td>The Round House</td><td>3.91</td><td>11644</td></tr>",
                            "<tr><td>Anne Brontë, Stevie Davies</td><td>The Tenant of Wildfell Hall</td><td>3.91</td><td>11644</td></tr>",
                            "<tr><td>Roxane Gay</td><td>Bad Feminist</td><td>3.91</td><td>11644</td></tr>",
                            "<tr><td>Danielle Steel</td><td>The Gift</td><td>3.91</td><td>11644</td></tr>",
                            "<tr><td>Toni Morrison</td><td>Tar Baby</td><td>3.91</td><td>11644</td></tr>",
                            "<tr><td>Dorothy L. Sayers</td><td>Whose Body?  (Lord Peter Wimsey, #1)</td><td>3.91</td><td>11644</td></tr>",
                            "<tr><td>Sarah Vowell, Katherine Streeter</td><td>The Partly Cloudy Patriot</td><td>3.9</td><td>11644</td></tr>",
                            "<tr><td>Judith Guest</td><td>Ordinary People</td><td>3.9</td><td>11644</td></tr>",
                            "<tr><td>Isabel Allende, Margaret Sayers Peden</td><td>Inés of My Soul</td><td>3.9</td><td>11644</td></tr>",
                            "<tr><td>Agatha Christie</td><td>Hercule Poirot&#39;s Christmas (Hercule Poirot, #20)</td><td>3.9</td><td>11644</td></tr>",
                            "<tr><td>Susanna Kaysen</td><td>Girl, Interrupted</td><td>3.9</td><td>11644</td></tr>",
                            "<tr><td>Amy Tan</td><td>The Joy Luck Club</td><td>3.9</td><td>11644</td></tr>",
                            "<tr><td>Octavia E. Butler</td><td>Fledgling</td><td>3.9</td><td>11644</td></tr>",
                            "<tr><td>Iris Murdoch, Mary Kinzie</td><td>The Sea, the Sea</td><td>3.9</td><td>11644</td></tr>",
                            "<tr><td>Naomi Wolf</td><td>The Beauty Myth</td><td>3.89</td><td>11644</td></tr>",
                            "<tr><td>Liz Kessler, Sarah Gibb</td><td>The Tail of Emily Windsnap (Emily Windsnap, #1)</td><td>3.89</td><td>11644</td></tr>",
                            "<tr><td>Louise Erdrich</td><td>The Beet Queen</td><td>3.89</td><td>11644</td></tr>",
                            "<tr><td>Judy Blume</td><td>Are You There God? It&#39;s Me, Margaret</td><td>3.89</td><td>11644</td></tr>",
                            "<tr><td>Isabel Allende, Margaret Sayers Peden</td><td>Daughter of Fortune</td><td>3.89</td><td>11644</td></tr>",
                            "<tr><td>Mindy Kaling</td><td>Why Not Me?</td><td>3.89</td><td>11644</td></tr>",
                            "<tr><td>Shirley Jackson, Laura   Miller</td><td>The Haunting of Hill House</td><td>3.89</td><td>11644</td></tr>",
                            "<tr><td>Ursula K. Le Guin</td><td>Tehanu (Earthsea Cycle, #4)</td><td>3.89</td><td>11644</td></tr>",
                            "<tr><td>Agatha Christie</td><td>The Mirror Crack&#39;d from Side to Side (Miss Marple, #9)</td><td>3.89</td><td>11644</td></tr>",
                            "<tr><td>Agatha Christie</td><td>Peril at End House (Hercule Poirot, #8)</td><td>3.89</td><td>11644</td></tr>",
                            "<tr><td>Lucy Knisley</td><td>Relish: My Life in the Kitchen</td><td>3.89</td><td>11644</td></tr>",
                            "<tr><td>S.E. Hinton</td><td>That Was Then, This Is Now</td><td>3.89</td><td>11644</td></tr>",
                            "<tr><td>Willa Cather</td><td>Death Comes for the Archbishop</td><td>3.88</td><td>11644</td></tr>",
                            "<tr><td>Rita Mae Brown</td><td>Rubyfruit Jungle</td><td>3.88</td><td>11644</td></tr>",
                            "<tr><td>Flannery O&#39;Connor</td><td>Wise Blood</td><td>3.88</td><td>11644</td></tr>",
                            "<tr><td>Frida Kahlo, Carlos Fuentes, Sarah M. Lowe</td><td>The Diary of Frida Kahlo: An Intimate Self-Portrait</td><td>3.88</td><td>11644</td></tr>",
                            "<tr><td>Carrie Brownstein</td><td>Hunger Makes Me a Modern Girl</td><td>3.88</td><td>11644</td></tr>",
                            "<tr><td>A.S. Byatt</td><td>Possession</td><td>3.88</td><td>11644</td></tr>",
                            "<tr><td>Jean M. Auel</td><td>The Mammoth Hunters (Earth&#39;s Children, #3)</td><td>3.88</td><td>11644</td></tr>",
                            "<tr><td>Vera Brosgol</td><td>Anya&#39;s Ghost</td><td>3.88</td><td>11644</td></tr>",
                            "<tr><td>Elena Ferrante, Ann Goldstein</td><td>My Brilliant Friend (The Neapolitan Novels #1)</td><td>3.88</td><td>11644</td></tr>",
                            "<tr><td>Inga Muscio, Betty Dodson</td><td>Cunt: A Declaration of Independence</td><td>3.88</td><td>11644</td></tr>",
                            "<tr><td>Georgia Byng</td><td>Molly Moon&#39;s Incredible Book of Hypnotism (Molly Moon, #1)</td><td>3.87</td><td>11644</td></tr>",
                            "<tr><td>Jacqueline Woodson</td><td>Another Brooklyn</td><td>3.87</td><td>11644</td></tr>",
                            "<tr><td>V.C. Andrews</td><td>Dawn (Cutler, #1)</td><td>3.87</td><td>11644</td></tr>",
                            "<tr><td>Zora Neale Hurston</td><td>Their Eyes Were Watching God</td><td>3.87</td><td>11644</td></tr>",
                            "<tr><td>Donna Tartt</td><td>The Goldfinch</td><td>3.87</td><td>11644</td></tr>",
                            "<tr><td>Anchee Min</td><td>Empress Orchid (Empress Orchid, #1)</td><td>3.87</td><td>11644</td></tr>",
                            "<tr><td>Sheri  Fink</td><td>Five Days at Memorial: Life and Death in a Storm-Ravaged Hospital</td><td>3.87</td><td>11644</td></tr>",
                            "<tr><td>Joan Didion, David Thomson</td><td>Play It as It Lays</td><td>3.86</td><td>11644</td></tr>",
                            "<tr><td>Naomi Klein</td><td>No Logo</td><td>3.86</td><td>11644</td></tr>",
                            "<tr><td>Edwidge Danticat</td><td>Breath, Eyes, Memory</td><td>3.86</td><td>11644</td></tr>",
                            "<tr><td>Jill Bolte Taylor</td><td>My Stroke of Insight: A Brain Scientist&#39;s Personal Journey</td><td>3.86</td><td>11644</td></tr>",
                            "<tr><td>Eve Ensler, Gloria Steinem</td><td>The Vagina Monologues</td><td>3.86</td><td>11644</td></tr>",
                            "<tr><td>Susan Vreeland</td><td>The Passion of Artemisia</td><td>3.86</td><td>11644</td></tr>",
                            "<tr><td>Joan Didion</td><td>The Year of Magical Thinking</td><td>3.86</td><td>11644</td></tr>",
                            "<tr><td>Anne Rice</td><td>The Queen of the Damned (The Vampire Chronicles, #3)</td><td>3.86</td><td>11644</td></tr>",
                            "<tr><td>Virginia Woolf</td><td>Orlando</td><td>3.86</td><td>11644</td></tr>",
                            "<tr><td>Toni Morrison</td><td>Sula</td><td>3.86</td><td>11644</td></tr>",
                            "<tr><td>Sarah Vowell</td><td>Take the Cannoli</td><td>3.86</td><td>11644</td></tr>",
                            "<tr><td>Madeleine L&#39;Engle</td><td>An Acceptable Time (A Wrinkle in Time Quintet, #5)</td><td>3.86</td><td>11644</td></tr>",
                            "<tr><td>Louise Erdrich</td><td>LaRose</td><td>3.86</td><td>11644</td></tr>",
                            "<tr><td>Mary Higgins Clark</td><td>Pretend You Don&#39;t See Her</td><td>3.86</td><td>11644</td></tr>",
                            "<tr><td>Susanna Clarke, Charles Vess</td><td>The Ladies of Grace Adieu and Other Stories</td><td>3.85</td><td>11644</td></tr>",
                            "<tr><td>Agatha Christie</td><td>The Body in the Library (Miss Marple, #3)</td><td>3.85</td><td>11644</td></tr>",
                            "<tr><td>Hilary Mantel</td><td>Wolf Hall (Thomas Cromwell, #1)</td><td>3.85</td><td>11644</td></tr>",
                            "<tr><td>Tracy Chevalier</td><td>Girl with a Pearl Earring</td><td>3.85</td><td>11644</td></tr>",
                            "<tr><td>Ayn Rand, Leonard Peikoff</td><td>The Fountainhead</td><td>3.85</td><td>11644</td></tr>",
                            "<tr><td>Melina Marchetta</td><td>Looking for Alibrandi</td><td>3.85</td><td>11644</td></tr>",
                            "<tr><td>Betty Friedan, Anna Quindlen</td><td>The Feminine Mystique</td><td>3.85</td><td>11644</td></tr>",
                            "<tr><td>Daphne du Maurier</td><td>Jamaica Inn</td><td>3.85</td><td>11644</td></tr>",
                            "<tr><td>Hannah  Green, Joanne Greenberg</td><td>I Never Promised You a Rose Garden</td><td>3.85</td><td>11644</td></tr>",
                            "<tr><td>Susan Cooper</td><td>Over Sea, Under Stone (The Dark Is Rising, #1)</td><td>3.85</td><td>11644</td></tr>",
                            "<tr><td>Elizabeth Gaskell</td><td>Cranford</td><td>3.85</td><td>11644</td></tr>",
                            "<tr><td>Cristina Henriquez</td><td>The Book of Unknown Americans</td><td>3.85</td><td>11644</td></tr>",
                            "<tr><td>Carol Shields</td><td>The Stone Diaries</td><td>3.84</td><td>11644</td></tr>",
                            "<tr><td>Susan Sontag</td><td>On Photography</td><td>3.84</td><td>11644</td></tr>",
                            "<tr><td>Willa Cather</td><td>O Pioneers!</td><td>3.84</td><td>11644</td></tr>",
                            "<tr><td>Lilian Jackson Braun</td><td>The Cat Who Could Read Backwards (Cat Who..., #1)</td><td>3.84</td><td>11644</td></tr>",
                            "<tr><td>Fannie Flagg</td><td>Welcome to the World, Baby Girl! (Elmwood Springs, #1)</td><td>3.84</td><td>11644</td></tr>",
                            "<tr><td>Mindy Kaling</td><td>Is Everyone Hanging Out Without Me? (And Other Concerns)</td><td>3.84</td><td>11644</td></tr>",
                            "<tr><td>Jane Austen, Kathryn Sutherland, Tony Tanner, Claire Lamont</td><td>Mansfield Park</td><td>3.84</td><td>11644</td></tr>",
                            "<tr><td>Ann Patchett</td><td>Commonwealth</td><td>3.84</td><td>11644</td></tr>",
                            "<tr><td>Lily King</td><td>Euphoria</td><td>3.84</td><td>11644</td></tr>",
                            "<tr><td>Marilynne Robinson</td><td>Gilead (Gilead, #1)</td><td>3.84</td><td>11644</td></tr>",
                            "<tr><td>Agatha Christie</td><td>Nemesis (Miss Marple, #12)</td><td>3.84</td><td>11644</td></tr>",
                            "<tr><td>Rita Golden Gelman</td><td>Tales of a Female Nomad: Living at Large in the World</td><td>3.84</td><td>11644</td></tr>",
                            "<tr><td>G. Willow Wilson</td><td>Alif the Unseen</td><td>3.84</td><td>11644</td></tr>",
                            "<tr><td>Agatha Christie</td><td>The Moving Finger (Miss Marple, #4)</td><td>3.84</td><td>11644</td></tr>",
                            "<tr><td>Agatha Christie</td><td>After the Funeral (Hercule Poirot, #29)</td><td>3.84</td><td>11644</td></tr>",
                            "<tr><td>Jeanette Winterson</td><td>Sexing the Cherry</td><td>3.83</td><td>11644</td></tr>",
                            "<tr><td>Jessi Klein</td><td>You&#39;ll Grow Out of It</td><td>3.83</td><td>11644</td></tr>",
                            "<tr><td>Portia de Rossi</td><td>Unbearable Lightness: A Story of Loss and Gain</td><td>3.83</td><td>11644</td></tr>",
                            "<tr><td>Mary Roach</td><td>Bonk: The Curious Coupling of Science and Sex</td><td>3.83</td><td>11644</td></tr>",
                            "<tr><td>Patricia Schultz</td><td>1,000 Places to See Before You Die</td><td>3.83</td><td>11644</td></tr>",
                            "<tr><td>Harriet Beecher Stowe</td><td>Uncle Tom&#39;s Cabin</td><td>3.83</td><td>11644</td></tr>",
                            "<tr><td>Annie Proulx</td><td>The Shipping News</td><td>3.83</td><td>11644</td></tr>",
                            "<tr><td>Joanne Harris</td><td>Five Quarters of the Orange</td><td>3.83</td><td>11644</td></tr>",
                            "<tr><td>Banana Yoshimoto, Megan Backus</td><td>Kitchen</td><td>3.83</td><td>11644</td></tr>",
                            "<tr><td>Margaret Atwood</td><td>The Robber Bride</td><td>3.82</td><td>11644</td></tr>",
                            "<tr><td>Marilynne Robinson</td><td>Housekeeping</td><td>3.82</td><td>11644</td></tr>",
                            "<tr><td>Camille Pagán</td><td>Life and Other Near-Death Experiences</td><td>3.82</td><td>11644</td></tr>",
                            "<tr><td>Anne Tyler</td><td>Dinner at the Homesick Restaurant</td><td>3.82</td><td>11644</td></tr>",
                            "<tr><td>George Eliot, Edmund White</td><td>Daniel Deronda</td><td>3.82</td><td>11644</td></tr>",
                            "<tr><td>Agatha Christie</td><td>Cat Among the Pigeons (Hercule Poirot, #32)</td><td>3.82</td><td>11644</td></tr>",
                            "<tr><td>Alice Munro</td><td>Too Much Happiness</td><td>3.82</td><td>11644</td></tr>",
                            "<tr><td>Jhumpa Lahiri</td><td>The Lowland</td><td>3.82</td><td>11644</td></tr>",
                            "<tr><td>Emily Brontë, Richard J. Dunn</td><td>Wuthering Heights</td><td>3.82</td><td>11644</td></tr>",
                            "<tr><td>Therese Anne Fowler</td><td>Z: A Novel of Zelda Fitzgerald</td><td>3.82</td><td>11644</td></tr>",
                            "<tr><td>Marina Keegan</td><td>The Opposite of Loneliness: Essays and Stories</td><td>3.82</td><td>11644</td></tr>",
                            "<tr><td>Irène Némirovsky, Sandra Smith</td><td>Suite Française</td><td>3.82</td><td>11644</td></tr>",
                            "<tr><td>Marie Kondō</td><td>Spark Joy: An Illustrated Master Class on the Art of Organizing and Tidying Up</td><td>3.82</td><td>11644</td></tr>",
                            "<tr><td>Patricia Highsmith</td><td>Strangers on a Train</td><td>3.82</td><td>11644</td></tr>",
                            "<tr><td>Marjane Satrapi, Anjali Singh</td><td>Embroideries</td><td>3.82</td><td>11644</td></tr>",
                            "<tr><td>Donna Leon</td><td>Death at La Fenice (Commissario Brunetti, #1)</td><td>3.81</td><td>11644</td></tr>",
                            "<tr><td>Miranda July</td><td>No One Belongs Here More Than You</td><td>3.81</td><td>11644</td></tr>",
                            "<tr><td>Amy Poehler</td><td>Yes Please</td><td>3.81</td><td>11644</td></tr>",
                            "<tr><td>Elizabeth Gilbert</td><td>The Signature of All Things</td><td>3.81</td><td>11644</td></tr>",
                            "<tr><td>Tracy Chevalier</td><td>Remarkable Creatures </td><td>3.81</td><td>11644</td></tr>",
                            "<tr><td>V.C. Andrews</td><td>Seeds of Yesterday (Dollanganger, #4)</td><td>3.81</td><td>11644</td></tr>",
                            "<tr><td>N.K. Jemisin</td><td>The Hundred Thousand Kingdoms (Inheritance Trilogy, #1)</td><td>3.8</td><td>11644</td></tr>",
                            "<tr><td>Miranda Hart</td><td>Is It Just Me?</td><td>3.8</td><td>11644</td></tr>",
                            "<tr><td>Agatha Christie</td><td>The Murder on the Links (Hercule Poirot, #2)</td><td>3.8</td><td>11644</td></tr>",
                            "<tr><td>Susanna Clarke</td><td>Jonathan Strange &amp; Mr Norrell</td><td>3.8</td><td>11644</td></tr>",
                            "<tr><td>Jane Austen, Alfred MacAdam</td><td>Northanger Abbey</td><td>3.8</td><td>11644</td></tr>",
                            "<tr><td>Sheri Reynolds</td><td>The Rapture of Canaan</td><td>3.8</td><td>11644</td></tr>",
                            "<tr><td>Isabel Allende, Nick Caistor, Amanda Hopkinson</td><td>The Japanese Lover</td><td>3.8</td><td>11644</td></tr>",
                            "<tr><td>Jodi Picoult</td><td>Salem Falls</td><td>3.8</td><td>11644</td></tr>",
                            "<tr><td>Nella Larsen, Ntozake Shange, Thadious M. Davis</td><td>Passing</td><td>3.8</td><td>11644</td></tr>",
                            "<tr><td>Scarlett Thomas</td><td>The End of Mr. Y</td><td>3.79</td><td>11644</td></tr>",
                            "<tr><td>Robin McKinley</td><td>Spindle&#39;s End</td><td>3.79</td><td>11644</td></tr>",
                            "<tr><td>Marian Keyes</td><td>Watermelon (Walsh Family, #1)</td><td>3.79</td><td>11644</td></tr>",
                            "<tr><td>Sarah Dunant</td><td>The Birth of Venus</td><td>3.79</td><td>11644</td></tr>",
                            "<tr><td>Elif Shafak</td><td>The Bastard of Istanbul</td><td>3.79</td><td>11644</td></tr>",
                            "<tr><td>Kate Atkinson</td><td>One Good Turn (Jackson Brodie, #2)</td><td>3.79</td><td>11644</td></tr>",
                            "<tr><td>Judy Blume</td><td>Blubber</td><td>3.78</td><td>11644</td></tr>",
                            "<tr><td>Toni Morrison</td><td>Jazz</td><td>3.78</td><td>11644</td></tr>",
                            "<tr><td>Agatha Christie</td><td>Death in the Clouds (Hercule Poirot, #12)</td><td>3.78</td><td>11644</td></tr>",
                            "<tr><td>Virginia Woolf, Maureen Howard</td><td>Mrs. Dalloway</td><td>3.78</td><td>11644</td></tr>",
                            "<tr><td>Celeste Ng</td><td>Everything I Never Told You</td><td>3.78</td><td>11644</td></tr>",
                            "<tr><td>Jane Hamilton, Frank  Muller, C.J. Critt</td><td>A Map of the World</td><td>3.78</td><td>11644</td></tr>",
                            "<tr><td>Marian Keyes</td><td>Last Chance Saloon</td><td>3.78</td><td>11644</td></tr>",
                            "<tr><td>Lauren Oliver</td><td>Annabel (Delirium, #0.5)</td><td>3.78</td><td>11644</td></tr>",
                            "<tr><td>S.E. Hinton</td><td>Rumble Fish</td><td>3.77</td><td>11644</td></tr>",
                            "<tr><td>George Eliot, A.S. Byatt</td><td>The Mill on the Floss</td><td>3.77</td><td>11644</td></tr>",
                            "<tr><td>Marian Keyes</td><td>The Other Side of the Story</td><td>3.77</td><td>11644</td></tr>",
                            "<tr><td>Elizabeth  Smart, Chris Stewart</td><td>My Story</td><td>3.77</td><td>11644</td></tr>",
                            "<tr><td>Beatrice Sparks, Anonymous</td><td>Go Ask Alice</td><td>3.77</td><td>11644</td></tr>",
                            "<tr><td>Toni Morrison</td><td>Beloved</td><td>3.77</td><td>11644</td></tr>",
                            "<tr><td>Alice Sebold</td><td>The Lovely Bones</td><td>3.77</td><td>11644</td></tr>",
                            "<tr><td>Alice Sebold</td><td>Lucky</td><td>3.77</td><td>11644</td></tr>",
                            "<tr><td>Marie Kondō, Cathy Hirano</td><td>The Life-Changing Magic of Tidying Up: The Japanese Art of Decluttering and Organizing</td><td>3.77</td><td>11644</td></tr>",
                            "<tr><td>Agatha Christie</td><td>The Mystery of the Blue Train (Hercule Poirot, #6)</td><td>3.77</td><td>11644</td></tr>",
                            "<tr><td>George Eliot, Joanna Trollope, Hugh Osborne</td><td>Adam Bede</td><td>3.77</td><td>11644</td></tr>",
                            "<tr><td>Toni Morrison</td><td>Paradise</td><td>3.77</td><td>11644</td></tr>",
                            "<tr><td>Marguerite Duras, Barbara Bray, Maxine Hong Kingston</td><td>The Lover</td><td>3.76</td><td>11644</td></tr>",
                            "<tr><td>Muriel Spark</td><td>The Prime of Miss Jean Brodie</td><td>3.76</td><td>11644</td></tr>",
                            "<tr><td>Kyung-Sook Shin, 신경숙, Chi-Young Kim</td><td>Please Look After Mom</td><td>3.76</td><td>11644</td></tr>",
                            "<tr><td>Virginia Woolf</td><td>To the Lighthouse</td><td>3.76</td><td>11644</td></tr>",
                            "<tr><td>Willa Cather</td><td>My Ántonia</td><td>3.76</td><td>11644</td></tr>",
                            "<tr><td>Iris Murdoch</td><td>Under the Net</td><td>3.76</td><td>11644</td></tr>",
                            "<tr><td>Zadie Smith</td><td>White Teeth</td><td>3.75</td><td>11644</td></tr>",
                            "<tr><td>Mary Wollstonecraft Shelley, Percy Bysshe Shelley, Maurice Hindle</td><td>Frankenstein</td><td>3.75</td><td>11644</td></tr>",
                            "<tr><td>Helen Fielding</td><td>Bridget Jones&#39;s Diary (Bridget Jones, #1)</td><td>3.75</td><td>11644</td></tr>",
                            "<tr><td>Ann Brashares</td><td>The Sisterhood of the Traveling Pants (Sisterhood, #1)</td><td>3.75</td><td>11644</td></tr>",
                            "<tr><td>Jeanette Winterson</td><td>Oranges Are Not the Only Fruit</td><td>3.75</td><td>11644</td></tr>",
                            "<tr><td>Charlotte Brontë, A.S. Byatt, Μαρία Λαϊνά, Ignes Sodre</td><td>Villette</td><td>3.75</td><td>11644</td></tr>",
                            "<tr><td>Isabel Allende, Margaret Sayers Peden</td><td>Zorro</td><td>3.75</td><td>11644</td></tr>",
                            "<tr><td>Joan Didion</td><td>Blue Nights</td><td>3.75</td><td>11644</td></tr>",
                            "<tr><td>Doris Lessing</td><td>The Golden Notebook</td><td>3.75</td><td>11644</td></tr>",
                            "<tr><td>Linda Lafferty</td><td>The Bloodletter&#39;s Daughter: A Novel of Old Bohemia</td><td>3.75</td><td>11644</td></tr>",
                            "<tr><td>Hillary Rodham Clinton</td><td>Living History</td><td>3.75</td><td>11644</td></tr>",
                            "<tr><td>Marian Keyes</td><td>This Charming Man</td><td>3.75</td><td>11644</td></tr>",
                            "<tr><td>Alice Munro</td><td>Dear Life: Stories</td><td>3.75</td><td>11644</td></tr>",
                            "<tr><td>Chelsea Handler, Johnny Kansas, Stephanie Stehling, Heather McDonald, Roy Handler, Brad Wollack, Amber Mazzola, Josh Wolf, Shoshanna Handler, Eva Magdalenski, Amy Meyer, Glen Handler, Dave Mallow, Sarah Colonna</td><td>Lies That Chelsea Handler Told Me</td><td>3.74</td><td>11644</td></tr>",
                            "<tr><td>Helen Macdonald</td><td>H is for Hawk</td><td>3.74</td><td>11644</td></tr>",
                            "<tr><td>Tana French</td><td>In the Woods (Dublin Murder Squad, #1)</td><td>3.74</td><td>11644</td></tr>",
                            "<tr><td>Agatha Christie</td><td>They Do It with Mirrors (Miss Marple, #6)</td><td>3.74</td><td>11644</td></tr>",
                            "<tr><td>Agatha Christie, Hugh Fraser</td><td>One, Two, Buckle My Shoe (Hercule Poirot, #22)</td><td>3.74</td><td>11644</td></tr>",
                            "<tr><td>Jacqueline Wilson, Nick Sharratt</td><td>The Illustrated Mum</td><td>3.74</td><td>11644</td></tr>",
                            "<tr><td>Leslie Marmon Silko</td><td>Ceremony</td><td>3.73</td><td>11644</td></tr>",
                            "<tr><td>Caitlin Moran</td><td>How to Be a Woman</td><td>3.73</td><td>11644</td></tr>",
                            "<tr><td>Rachel Cohn, David Levithan</td><td>Nick &amp; Norah&#39;s Infinite Playlist</td><td>3.73</td><td>11644</td></tr>",
                            "<tr><td>Anne Rice</td><td>Memnoch the Devil (The Vampire Chronicles, #5)</td><td>3.73</td><td>11644</td></tr>",
                            "<tr><td>Marian Keyes</td><td> Angels (Walsh Family, #3)</td><td>3.73</td><td>11644</td></tr>",
                            "<tr><td>Mary Elizabeth Braddon</td><td>Lady Audley&#39;s Secret</td><td>3.73</td><td>11644</td></tr>",
                            "<tr><td>Sarah Waters</td><td>Affinity</td><td>3.73</td><td>11644</td></tr>",
                            "<tr><td>Maxine Hong Kingston</td><td>The Woman Warrior</td><td>3.72</td><td>11644</td></tr>",
                            "<tr><td>Julie Gregory</td><td>Sickened: The Memoir of a Munchausen by Proxy Childhood</td><td>3.72</td><td>11644</td></tr>",
                            "<tr><td>Jenny Offill</td><td>Dept. of Speculation</td><td>3.72</td><td>11644</td></tr>",
                            "<tr><td>Ellen DeGeneres</td><td>Seriously... I&#39;m Kidding</td><td>3.72</td><td>11644</td></tr>",
                            "<tr><td>Lorraine Hansberry</td><td>A Raisin in the Sun</td><td>3.72</td><td>11644</td></tr>",
                            "<tr><td>Amélie Nothomb</td><td>Stupeur et tremblements</td><td>3.72</td><td>11644</td></tr>",
                            "<tr><td>Toni Morrison</td><td>Home</td><td>3.71</td><td>11644</td></tr>",
                            "<tr><td>Agatha Christie, Robin Bailey</td><td>The Clocks (Hercule Poirot, #34)</td><td>3.71</td><td>11644</td></tr>",
                            "<tr><td>Karen Joy Fowler</td><td>We Are All Completely Beside Ourselves</td><td>3.71</td><td>11644</td></tr>",
                            "<tr><td>Carrie Fisher</td><td>Wishful Drinking</td><td>3.71</td><td>11644</td></tr>",
                            "<tr><td>Charlotte Brontë, Lucasta Miller, collaborative, Jessica Cox</td><td>Shirley</td><td>3.71</td><td>11644</td></tr>",
                            "<tr><td>NoViolet Bulawayo</td><td>We Need New Names</td><td>3.71</td><td>11644</td></tr>",
                            "<tr><td>Sonali Deraniyagala</td><td>Wave</td><td>3.7</td><td>11644</td></tr>",
                            "<tr><td>Pearl Cleage</td><td>What Looks Like Crazy on an Ordinary Day (Idlewild, #1)</td><td>3.7</td><td>11644</td></tr>",
                            "<tr><td>Toni Morrison</td><td>God Help the Child</td><td>3.7</td><td>11644</td></tr>",
                            "<tr><td>Anne Rice</td><td>The Tale of the Body Thief (The Vampire Chronicles, #4)</td><td>3.7</td><td>11644</td></tr>",
                            "<tr><td>Joyce Carol Oates</td><td>We Were the Mulvaneys</td><td>3.7</td><td>11644</td></tr>",
                            "<tr><td>Piper Kerman</td><td>Orange Is the New Black</td><td>3.7</td><td>11644</td></tr>",
                            "<tr><td>Eleanor Catton</td><td>The Luminaries</td><td>3.7</td><td>11644</td></tr>",
                            "<tr><td>Marisha Pessl</td><td>Special Topics in Calamity Physics</td><td>3.7</td><td>11644</td></tr>",
                            "<tr><td>Emma Healey</td><td>Elizabeth Is Missing</td><td>3.7</td><td>11644</td></tr>",
                            "<tr><td>Jacqueline Susann</td><td>Valley of the Dolls</td><td>3.7</td><td>11644</td></tr>",
                            "<tr><td>Julie Otsuka</td><td>When the Emperor Was Divine</td><td>3.7</td><td>11644</td></tr>",
                            "<tr><td>Agatha Christie</td><td>At Bertram&#39;s Hotel (Miss Marple, #11)</td><td>3.7</td><td>11644</td></tr>",
                            "<tr><td>Elizabeth Gaskell, Shirley Foster</td><td>Mary Barton</td><td>3.7</td><td>11644</td></tr>",
                            "<tr><td>Anaïs Nin</td><td>Delta of Venus</td><td>3.69</td><td>11644</td></tr>",
                            "<tr><td>Jacqueline Wilson, Nick Sharratt, Sue Heap</td><td>Double Act</td><td>3.69</td><td>11644</td></tr>",
                            "<tr><td>Emma Donoghue</td><td>Slammerkin</td><td>3.69</td><td>11644</td></tr>",
                            "<tr><td>Cecelia Ahern</td><td>Thanks for the Memories</td><td>3.69</td><td>11644</td></tr>",
                            "<tr><td>Marian Keyes</td><td>Sushi for Beginners</td><td>3.69</td><td>11644</td></tr>",
                            "<tr><td>Jacqueline Wilson, Nick Sharratt</td><td>The Story of Tracy Beaker</td><td>3.69</td><td>11644</td></tr>",
                            "<tr><td>Zoë Heller</td><td>What Was She Thinking? [Notes on a Scandal]</td><td>3.69</td><td>11644</td></tr>",
                            "<tr><td>Caitlin Moran</td><td>How to Build a Girl</td><td>3.69</td><td>11644</td></tr>",
                            "<tr><td>P.D. James</td><td>The Children of Men</td><td>3.69</td><td>11644</td></tr>",
                            "<tr><td>Susan Hill, John Lawrence</td><td>The Woman in Black</td><td>3.68</td><td>11644</td></tr>",
                            "<tr><td>Rachael Ray</td><td>Rachael Ray 365: No Repeats: A Year of Deliciously Different Dinners</td><td>3.68</td><td>11644</td></tr>",
                            "<tr><td>Zadie Smith</td><td>On Beauty</td><td>3.68</td><td>11644</td></tr>",
                            "<tr><td>Elizabeth Berg</td><td>Open House</td><td>3.68</td><td>11644</td></tr>",
                            "<tr><td>Gwyn Hyman Rubio</td><td>Icy Sparks</td><td>3.68</td><td>11644</td></tr>",
                            "<tr><td>Amanda Brown</td><td>Legally Blonde</td><td>3.68</td><td>11644</td></tr>",
                            "<tr><td>Jennifer McMahon</td><td>The Night Sister</td><td>3.67</td><td>11644</td></tr>",
                            "<tr><td>Tracy Chevalier</td><td>The Lady and the Unicorn</td><td>3.67</td><td>11644</td></tr>",
                            "<tr><td>Sarah Winman</td><td>When God Was a Rabbit</td><td>3.67</td><td>11644</td></tr>",
                            "<tr><td>Mariko Tamaki, Jillian Tamaki</td><td>This One Summer</td><td>3.67</td><td>11644</td></tr>",
                            "<tr><td>Laline Paull</td><td>The Bees</td><td>3.67</td><td>11644</td></tr>",
                            "<tr><td>Margaret Atwood</td><td>The Edible Woman</td><td>3.67</td><td>11644</td></tr>",
                            "<tr><td>Karen Russell</td><td>Vampires in the Lemon Grove</td><td>3.67</td><td>11644</td></tr>",
                            "<tr><td>Melinda Haynes</td><td>Mother of Pearl</td><td>3.67</td><td>11644</td></tr>",
                            "<tr><td>Alison Bechdel</td><td>Are You My Mother?</td><td>3.66</td><td>11644</td></tr>",
                            "<tr><td>Carrie Fisher</td><td>The Princess Diarist</td><td>3.66</td><td>11644</td></tr>",
                            "<tr><td>Margaret Atwood</td><td>The Penelopiad</td><td>3.66</td><td>11644</td></tr>",
                            "<tr><td>Cecelia Ahern</td><td>The Book of Tomorrow</td><td>3.66</td><td>11644</td></tr>",
                            "<tr><td>Cecelia Ahern</td><td>A Place Called Here</td><td>3.66</td><td>11644</td></tr>",
                            "<tr><td>Agatha Christie</td><td>Hallowe&#39;en Party (Hercule Poirot, #36)</td><td>3.66</td><td>11644</td></tr>",
                            "<tr><td>Pattie Boyd, Penny Junor</td><td>Wonderful Tonight</td><td>3.65</td><td>11644</td></tr>",
                            "<tr><td>Peggy Orenstein</td><td>Cinderella Ate My Daughter: Dispatches from the Frontlines of the New Girlie-Girl Culture</td><td>3.65</td><td>11644</td></tr>",
                            "<tr><td>Emma Donoghue</td><td>The Wonder</td><td>3.65</td><td>11644</td></tr>",
                            "<tr><td>Nora Ephron</td><td>I Feel Bad about My Neck: And Other Thoughts on Being a Woman</td><td>3.65</td><td>11644</td></tr>",
                            "<tr><td>Tracy Chevalier</td><td>The Virgin Blue</td><td>3.65</td><td>11644</td></tr>",
                            "<tr><td>Toni Morrison</td><td>A Mercy</td><td>3.65</td><td>11644</td></tr>",
                            "<tr><td>Anne Brontë, Angeline Goreau</td><td>Agnes Grey</td><td>3.65</td><td>11644</td></tr>",
                            "<tr><td>Jennifer Egan</td><td>A Visit from the Goon Squad</td><td>3.64</td><td>11644</td></tr>",
                            "<tr><td>Kim Edwards</td><td>The Memory Keeper&#39;s Daughter</td><td>3.64</td><td>11644</td></tr>",
                            "<tr><td>Karen Thompson Walker</td><td>The Age of Miracles</td><td>3.64</td><td>11644</td></tr>",
                            "<tr><td>Miriam Toews</td><td>A Complicated Kindness</td><td>3.64</td><td>11644</td></tr>",
                            "<tr><td>Angela Flournoy</td><td>The Turner House</td><td>3.64</td><td>11644</td></tr>",
                            "<tr><td>Esi Edugyan</td><td>Half Blood Blues</td><td>3.63</td><td>11644</td></tr>",
                            "<tr><td>Chelsea Handler</td><td>Uganda Be Kidding Me</td><td>3.63</td><td>11644</td></tr>",
                            "<tr><td>Deborah Rodriguez</td><td>Kabul Beauty School: An American Woman Goes Behind the Veil</td><td>3.63</td><td>11644</td></tr>",
                            "<tr><td>Kate Chopin</td><td>The Awakening</td><td>3.63</td><td>11644</td></tr>",
                            "<tr><td>Ayn Rand</td><td>Anthem</td><td>3.62</td><td>11644</td></tr>",
                            "<tr><td>Françoise Sagan</td><td>Bonjour tristesse</td><td>3.62</td><td>11644</td></tr>",
                            "<tr><td>Agatha Christie</td><td>Elephants Can Remember (Hercule Poirot, #37)</td><td>3.62</td><td>11644</td></tr>",
                            "<tr><td>Julia Alvarez</td><td>How the García Girls Lost Their Accents </td><td>3.62</td><td>11644</td></tr>",
                            "<tr><td>Anita Shreve</td><td>The Weight of Water</td><td>3.62</td><td>11644</td></tr>",
                            "<tr><td>Jane Green</td><td>The Beach House</td><td>3.62</td><td>11644</td></tr>",
                            "<tr><td>Leslie Jamison</td><td>The Empathy Exams: Essays</td><td>3.62</td><td>11644</td></tr>",
                            "<tr><td>Ali Smith</td><td>How to Be Both</td><td>3.61</td><td>11644</td></tr>",
                            "<tr><td>Amy Chua</td><td>Battle Hymn of the Tiger Mother</td><td>3.61</td><td>11644</td></tr>",
                            "<tr><td>George Eliot</td><td>Silas Marner</td><td>3.6</td><td>11644</td></tr>",
                            "<tr><td>Barbara Ehrenreich</td><td>Nickel and Dimed: On (Not) Getting By in America</td><td>3.6</td><td>11644</td></tr>",
                            "<tr><td>Zadie Smith</td><td>Swing Time</td><td>3.6</td><td>11644</td></tr>",
                            "<tr><td>Agatha Christie</td><td>The Big Four (Hercule Poirot, #5)</td><td>3.6</td><td>11644</td></tr>",
                            "<tr><td>Sarah Vowell</td><td>Unfamiliar Fishes</td><td>3.6</td><td>11644</td></tr>",
                            "<tr><td>Lauren Beukes</td><td>Broken Monsters</td><td>3.59</td><td>11644</td></tr>",
                            "<tr><td>Han Kang, Deborah     Smith</td><td>The Vegetarian</td><td>3.59</td><td>11644</td></tr>",
                            "<tr><td>Julie Otsuka</td><td>The Buddha in the Attic</td><td>3.59</td><td>11644</td></tr>",
                            "<tr><td>Jessie Burton</td><td>The Miniaturist</td><td>3.58</td><td>11644</td></tr>",
                            "<tr><td>Kim Gordon</td><td>Girl in a Band</td><td>3.58</td><td>11644</td></tr>",
                            "<tr><td>Miranda July</td><td>The First Bad Man</td><td>3.58</td><td>11644</td></tr>",
                            "<tr><td>Lauren Groff</td><td>The Monsters of Templeton</td><td>3.58</td><td>11644</td></tr>",
                            "<tr><td>Rachel Dratch</td><td>Girl Walks into a Bar . . .: Comedy Calamities, Dating Disasters, and a Midlife Miracle</td><td>3.57</td><td>11644</td></tr>",
                            "<tr><td>Mary Roach</td><td>Spook: Science Tackles the Afterlife</td><td>3.57</td><td>11644</td></tr>",
                            "<tr><td>Sandra Cisneros</td><td>The House on Mango Street</td><td>3.57</td><td>11644</td></tr>",
                            "<tr><td>Azar Nafisi</td><td>Reading Lolita in Tehran</td><td>3.57</td><td>11644</td></tr>",
                            "<tr><td>Elizabeth Wurtzel</td><td>Prozac Nation</td><td>3.57</td><td>11644</td></tr>",
                            "<tr><td>Laura  Barnett</td><td>The Versions of Us</td><td>3.57</td><td>11644</td></tr>",
                            "<tr><td>Hillary Rodham Clinton</td><td>Hard Choices</td><td>3.57</td><td>11644</td></tr>",
                            "<tr><td>Nora Ephron</td><td>Heartburn</td><td>3.57</td><td>11644</td></tr>",
                            "<tr><td>Charlotte Brontë</td><td>The Professor</td><td>3.56</td><td>11644</td></tr>",
                            "<tr><td>Jean Rhys</td><td>Wide Sargasso Sea</td><td>3.56</td><td>11644</td></tr>",
                            "<tr><td>Lauren Groff</td><td>Fates and Furies</td><td>3.56</td><td>11644</td></tr>",
                            "<tr><td>Jane Austen, Robert William Chapman</td><td>Lady Susan</td><td>3.56</td><td>11644</td></tr>",
                            "<tr><td>Tracy Chevalier</td><td>Falling Angels</td><td>3.55</td><td>11644</td></tr>",
                            "<tr><td>Suzanne Rindell</td><td>The Other Typist</td><td>3.55</td><td>11644</td></tr>",
                            "<tr><td>Meg Wolitzer</td><td>The Interestings</td><td>3.54</td><td>11644</td></tr>",
                            "<tr><td>Gillian Flynn</td><td>The Grownup</td><td>3.54</td><td>11644</td></tr>",
                            "<tr><td>Diablo Cody</td><td>Candy Girl: A Year in the Life of an Unlikely Stripper</td><td>3.54</td><td>11644</td></tr>",
                            "<tr><td>Jacqueline Wilson</td><td>Girls in Love (Girls, #1)</td><td>3.53</td><td>11644</td></tr>",
                            "<tr><td>Kate Hamer</td><td>The Girl in the Red Coat</td><td>3.53</td><td>11644</td></tr>",
                            "<tr><td>Helen Fielding</td><td>Bridget Jones: The Edge of Reason (Bridget Jones, #2)</td><td>3.53</td><td>11644</td></tr>",
                            "<tr><td>Lionel Shriver</td><td>The Post-Birthday World</td><td>3.52</td><td>11644</td></tr>",
                            "<tr><td>Sarah Macdonald</td><td>Holy Cow: An Indian Adventure</td><td>3.51</td><td>11644</td></tr>",
                            "<tr><td>Emma Cline</td><td>The Girls</td><td>3.49</td><td>11644</td></tr>",
                            "<tr><td>Lauren Beukes</td><td>The Shining Girls</td><td>3.49</td><td>11644</td></tr>",
                            "<tr><td>Anita Shreve</td><td>The Last Time They Met</td><td>3.48</td><td>11644</td></tr>",
                            "<tr><td>Gretchen Rubin, Käthe Mazur</td><td>Happier at Home: Kiss More, Jump More, Abandon a Project, Read Samuel Johnson, and My Other Experiments in the Practice of Everyday Life</td><td>3.48</td><td>11644</td></tr>",
                            "<tr><td>Janet Fitch</td><td>Paint it Black</td><td>3.47</td><td>11644</td></tr>",
                            "<tr><td>Alisa Valdes, Alisa Valdes-Rodriguez</td><td>The Dirty Girls Social Club (Dirty Girls, #1)</td><td>3.46</td><td>11644</td></tr>",
                            "<tr><td>Rachel Kushner</td><td>The Flamethrowers</td><td>3.46</td><td>11644</td></tr>",
                            "<tr><td>Margaret Atwood</td><td>Surfacing</td><td>3.45</td><td>11644</td></tr>",
                            "<tr><td>Nicole Krauss</td><td>Great House</td><td>3.45</td><td>11644</td></tr>",
                            "<tr><td>Sloane Crosley</td><td>I Was Told There&#39;d Be Cake</td><td>3.45</td><td>11644</td></tr>",
                            "<tr><td>Alexandra Ripley</td><td>Scarlett</td><td>3.44</td><td>11644</td></tr>",
                            "<tr><td>Erica Jong</td><td>Fear of Flying</td><td>3.44</td><td>11644</td></tr>",
                            "<tr><td>Kate Summerscale</td><td>The Suspicions of Mr. Whicher: A Shocking Murder and the Undoing of a Great Victorian Detective</td><td>3.43</td><td>11644</td></tr>",
                            "<tr><td>Jennifer Egan</td><td>The Keep</td><td>3.43</td><td>11644</td></tr>",
                            "<tr><td>Donna Tartt</td><td>The Little Friend</td><td>3.43</td><td>11644</td></tr>",
                            "<tr><td>Anne Tyler</td><td>Vinegar Girl</td><td>3.42</td><td>11644</td></tr>",
                            "<tr><td>Amy Tan</td><td>Saving Fish from Drowning</td><td>3.41</td><td>11644</td></tr>",
                            "<tr><td>Zadie Smith</td><td>NW</td><td>3.41</td><td>11644</td></tr>",
                            "<tr><td>Kiran Desai</td><td>The Inheritance of Loss</td><td>3.41</td><td>11644</td></tr>",
                            "<tr><td>Kate Jacobs</td><td>The Friday Night Knitting Club (Friday Night Knitting Club, #1)</td><td>3.41</td><td>11644</td></tr>",
                            "<tr><td>Holly Madison</td><td>Down the Rabbit Hole: Curious Adventures and Cautionary Tales of a Former Playboy Bunny</td><td>3.4</td><td>11644</td></tr>",
                            "<tr><td>Lionel Shriver</td><td>Big Brother</td><td>3.4</td><td>11644</td></tr>",
                            "<tr><td>Sarah Waters</td><td>The Paying Guests</td><td>3.39</td><td>11644</td></tr>",
                            "<tr><td>Monica Ali</td><td>Brick Lane</td><td>3.38</td><td>11644</td></tr>",
                            "<tr><td>Ottessa Moshfegh</td><td>Eileen</td><td>3.38</td><td>11644</td></tr>",
                            "<tr><td>Courtney Maum</td><td>I Am Having So Much Fun Here Without You</td><td>3.37</td><td>11644</td></tr>",
                            "<tr><td>Candace Bushnell</td><td>Sex and the City</td><td>3.37</td><td>11644</td></tr>",
                            "<tr><td>Margaret Atwood</td><td>The Heart Goes Last</td><td>3.37</td><td>11644</td></tr>",
                            "<tr><td>Téa Obreht</td><td>The Tiger&#39;s Wife</td><td>3.37</td><td>11644</td></tr>",
                            "<tr><td>Curtis Sittenfeld</td><td>Prep</td><td>3.36</td><td>11644</td></tr>",
                            "<tr><td>J. Courtney Sullivan</td><td>Commencement </td><td>3.36</td><td>11644</td></tr>",
                            "<tr><td>Edith Wharton</td><td>Ethan Frome</td><td>3.35</td><td>11644</td></tr>",
                            "<tr><td>Helen Oyeyemi</td><td>Boy, Snow, Bird</td><td>3.34</td><td>11644</td></tr>",
                            "<tr><td>Pauline Réage, Sabine d&#39;Estree</td><td>Story of O (Story of O #1)</td><td>3.34</td><td>11644</td></tr>",
                            "<tr><td>Alissa Nutting</td><td>Tampa</td><td>3.34</td><td>11644</td></tr>",
                            "<tr><td>Lena Dunham, Joana Avillez</td><td>Not That Kind of Girl: A Young Woman Tells You What She&#39;s &quot;Learned&quot;</td><td>3.33</td><td>11644</td></tr>",
                            "<tr><td>Sarah Blake, Orlagh Cassidy</td><td>The Postmistress</td><td>3.3</td><td>11644</td></tr>",
                            "<tr><td>Adelle Waldman</td><td>The Love Affairs of Nathaniel P.</td><td>3.3</td><td>11644</td></tr>",
                            "<tr><td>Stephanie Danler</td><td>Sweetbitter</td><td>3.28</td><td>11644</td></tr>",
                            "<tr><td>Isabel Allende, Oliver Brock, Frank Wynne</td><td>Ripper</td><td>3.24</td><td>11644</td></tr>",
                            "<tr><td>Jill Alexander Essbaum</td><td>Hausfrau</td><td>3.24</td><td>11644</td></tr>",
                            "<tr><td>Edan Lepucki</td><td>California</td><td>3.22</td><td>11644</td></tr>",
                            "<tr><td>Karen Russell</td><td>Swamplandia!</td><td>3.21</td><td>11644</td></tr>",
                            "<tr><td>Charlotte Rogan</td><td>The Lifeboat</td><td>3.2</td><td>11644</td></tr>",
                            "<tr><td>Jodi Picoult</td><td>Songs of the Humpback Whale</td><td>3.19</td><td>11644</td></tr>",
                            "<tr><td>Maria Semple</td><td>Today Will Be Different</td><td>3.19</td><td>11644</td></tr>",
                            "<tr><td>Aimee Bender</td><td>The Particular Sadness of Lemon Cake</td><td>3.19</td><td>11644</td></tr>",
                            "<tr><td>Anita Shreve</td><td>All He Ever Wanted</td><td>3.18</td><td>11644</td></tr>",
                            "<tr><td>Zadie Smith</td><td>The Autograph Man</td><td>3.14</td><td>11644</td></tr>",
                            "<tr><td>Lorrie Moore</td><td>A Gate at the Stairs</td><td>3.14</td><td>11644</td></tr>",
                            "<tr><td>Emma Donoghue</td><td>Frog Music</td><td>3.13</td><td>11644</td></tr>",
                            "<tr><td>Claire Messud</td><td>The Emperor&#39;s Children</td><td>2.93</td><td>11644</td></tr>",
                            "<tr><td>Candace Bushnell</td><td>Four Blondes</td><td>2.8</td><td>11644</td></tr>",
                            "<tr><td>Alice Sebold</td><td>The Almost Moon</td><td>2.67</td><td>11644</td></tr>",
                            "</table>"
                        ]
                    }
                }
            ],
            "execution_count": 14
        },
        {
            "cell_type": "markdown",
            "source": [
                "### **Record your thoughts about why you wrote the query the way you did.**"
            ],
            "metadata": {
                "azdata_cell_guid": "1e19a72c-1bca-446b-a0c7-a8efbc35dcf1"
            },
            "attachments": {}
        },
        {
            "cell_type": "markdown",
            "source": [
                "# Part 2: Choose Another Month\n",
                "\n",
                "Choose another month and plan at least 2 events / promotions and answer the following questions.\n",
                "\n",
                "Which month did you choose?  \n",
                "\n",
                "What 2 events / promotions are you highlighting?\n",
                "\n",
                "> 1.  Spring"
            ],
            "metadata": {
                "azdata_cell_guid": "3eaf376d-9de3-4553-a9d0-9caf74ee3d6a"
            },
            "attachments": {}
        },
        {
            "cell_type": "code",
            "source": [
                "SELECT bt.tag_id, t.tag_name, [count]\r\n",
                "from BooksDB.dbo.tags as t\r\n",
                "full join BooksDB.dbo.book_tags as bt \r\n",
                "on t.tag_id = bt.tag_id\r\n",
                "group by [count], t.tag_name, bt.tag_id\r\n",
                "having t.tag_name like '%spring%'\r\n",
                "order BY [count] desc"
            ],
            "metadata": {
                "azdata_cell_guid": "8c612649-d5b1-4fd1-a551-e2ff54104d91",
                "language": "sql"
            },
            "outputs": [
                {
                    "output_type": "display_data",
                    "data": {
                        "text/html": "(11 rows affected)"
                    },
                    "metadata": {}
                },
                {
                    "output_type": "display_data",
                    "data": {
                        "text/html": "Total execution time: 00:00:00.170"
                    },
                    "metadata": {}
                },
                {
                    "output_type": "execute_result",
                    "metadata": {},
                    "execution_count": 15,
                    "data": {
                        "application/vnd.dataresource+json": {
                            "schema": {
                                "fields": [
                                    {
                                        "name": "tag_id"
                                    },
                                    {
                                        "name": "tag_name"
                                    },
                                    {
                                        "name": "count"
                                    }
                                ]
                            },
                            "data": [
                                {
                                    "tag_id": "28460",
                                    "tag_name": "spring",
                                    "count": "14"
                                },
                                {
                                    "tag_id": "28463",
                                    "tag_name": "springs",
                                    "count": "10"
                                },
                                {
                                    "tag_id": "28460",
                                    "tag_name": "spring",
                                    "count": "9"
                                },
                                {
                                    "tag_id": "28460",
                                    "tag_name": "spring",
                                    "count": "8"
                                },
                                {
                                    "tag_id": "28460",
                                    "tag_name": "spring",
                                    "count": "7"
                                },
                                {
                                    "tag_id": "5851",
                                    "tag_name": "bruce-springsteen",
                                    "count": "5"
                                },
                                {
                                    "tag_id": "28460",
                                    "tag_name": "spring",
                                    "count": "5"
                                },
                                {
                                    "tag_id": "28460",
                                    "tag_name": "spring",
                                    "count": "4"
                                },
                                {
                                    "tag_id": "28460",
                                    "tag_name": "spring",
                                    "count": "3"
                                },
                                {
                                    "tag_id": "28461",
                                    "tag_name": "spring-2015",
                                    "count": "2"
                                },
                                {
                                    "tag_id": "28462",
                                    "tag_name": "spring-tbr-mar1-may31",
                                    "count": "1"
                                }
                            ]
                        },
                        "text/html": [
                            "<table>",
                            "<tr><th>tag_id</th><th>tag_name</th><th>count</th></tr>",
                            "<tr><td>28460</td><td>spring</td><td>14</td></tr>",
                            "<tr><td>28463</td><td>springs</td><td>10</td></tr>",
                            "<tr><td>28460</td><td>spring</td><td>9</td></tr>",
                            "<tr><td>28460</td><td>spring</td><td>8</td></tr>",
                            "<tr><td>28460</td><td>spring</td><td>7</td></tr>",
                            "<tr><td>5851</td><td>bruce-springsteen</td><td>5</td></tr>",
                            "<tr><td>28460</td><td>spring</td><td>5</td></tr>",
                            "<tr><td>28460</td><td>spring</td><td>4</td></tr>",
                            "<tr><td>28460</td><td>spring</td><td>3</td></tr>",
                            "<tr><td>28461</td><td>spring-2015</td><td>2</td></tr>",
                            "<tr><td>28462</td><td>spring-tbr-mar1-may31</td><td>1</td></tr>",
                            "</table>"
                        ]
                    }
                }
            ],
            "execution_count": 15
        },
        {
            "cell_type": "code",
            "source": [
                "select authors, title, average_rating, tag_id\r\n",
                "from BooksDB.dbo.books as b\r\n",
                "left join BooksDB.dbo.book_tags as bt \r\n",
                "on b.book_id = bt.goodreads_book_id\r\n",
                "where tag_id = 28460\r\n",
                "order by average_rating desc"
            ],
            "metadata": {
                "azdata_cell_guid": "02b2277d-f551-4513-b503-0b815dd87dd4",
                "language": "sql"
            },
            "outputs": [
                {
                    "output_type": "display_data",
                    "data": {
                        "text/html": "(7 rows affected)"
                    },
                    "metadata": {}
                },
                {
                    "output_type": "display_data",
                    "data": {
                        "text/html": "Total execution time: 00:00:00.123"
                    },
                    "metadata": {}
                },
                {
                    "output_type": "execute_result",
                    "metadata": {},
                    "execution_count": 16,
                    "data": {
                        "application/vnd.dataresource+json": {
                            "schema": {
                                "fields": [
                                    {
                                        "name": "authors"
                                    },
                                    {
                                        "name": "title"
                                    },
                                    {
                                        "name": "average_rating"
                                    },
                                    {
                                        "name": "tag_id"
                                    }
                                ]
                            },
                            "data": [
                                {
                                    "authors": "Barbara Cooney",
                                    "title": "Miss Rumphius",
                                    "average_rating": "4.45",
                                    "tag_id": "28460"
                                },
                                {
                                    "authors": "Arnold Lobel",
                                    "title": "Frog and Toad All Year (Frog and Toad, #3)",
                                    "average_rating": "4.34",
                                    "tag_id": "28460"
                                },
                                {
                                    "authors": "Robert McCloskey",
                                    "title": "Make Way for Ducklings",
                                    "average_rating": "4.21",
                                    "tag_id": "28460"
                                },
                                {
                                    "authors": "P.D. Eastman",
                                    "title": "The Best Nest",
                                    "average_rating": "4.19",
                                    "tag_id": "28460"
                                },
                                {
                                    "authors": "Margaret Wise Brown, Clement Hurd",
                                    "title": "The Runaway Bunny",
                                    "average_rating": "4.14",
                                    "tag_id": "28460"
                                },
                                {
                                    "authors": "Ruth Krauss, Crockett Johnson",
                                    "title": "The Carrot Seed",
                                    "average_rating": "4.07",
                                    "tag_id": "28460"
                                },
                                {
                                    "authors": "David Shannon",
                                    "title": "Duck On A Bike",
                                    "average_rating": "4.06",
                                    "tag_id": "28460"
                                }
                            ]
                        },
                        "text/html": [
                            "<table>",
                            "<tr><th>authors</th><th>title</th><th>average_rating</th><th>tag_id</th></tr>",
                            "<tr><td>Barbara Cooney</td><td>Miss Rumphius</td><td>4.45</td><td>28460</td></tr>",
                            "<tr><td>Arnold Lobel</td><td>Frog and Toad All Year (Frog and Toad, #3)</td><td>4.34</td><td>28460</td></tr>",
                            "<tr><td>Robert McCloskey</td><td>Make Way for Ducklings</td><td>4.21</td><td>28460</td></tr>",
                            "<tr><td>P.D. Eastman</td><td>The Best Nest</td><td>4.19</td><td>28460</td></tr>",
                            "<tr><td>Margaret Wise Brown, Clement Hurd</td><td>The Runaway Bunny</td><td>4.14</td><td>28460</td></tr>",
                            "<tr><td>Ruth Krauss, Crockett Johnson</td><td>The Carrot Seed</td><td>4.07</td><td>28460</td></tr>",
                            "<tr><td>David Shannon</td><td>Duck On A Bike</td><td>4.06</td><td>28460</td></tr>",
                            "</table>"
                        ]
                    }
                }
            ],
            "execution_count": 16
        },
        {
            "cell_type": "markdown",
            "source": [
                "# Part 3: Summarize your Work\n",
                "\n",
                "For each event write at least one query that joins any two tables in the BooksDB to support your choice and record you thoughts as to why you used the paticlular query. At least one of your queries needs to include a HAVING clause."
            ],
            "metadata": {
                "azdata_cell_guid": "1ba1363a-4f02-4962-a95a-93b80c5926b1"
            },
            "attachments": {}
        },
        {
            "cell_type": "code",
            "source": [
                "-- Event 1 Query"
            ],
            "metadata": {
                "azdata_cell_guid": "f50d32ce-4cb2-4af2-acb1-607777a76cf8",
                "language": "sql"
            },
            "outputs": [],
            "execution_count": null
        },
        {
            "cell_type": "code",
            "source": [
                ""
            ],
            "metadata": {
                "azdata_cell_guid": "5606f7f2-c46b-42d3-ac64-7ae21c3394f8",
                "language": "sql"
            },
            "outputs": [
                {
                    "output_type": "display_data",
                    "data": {
                        "text/html": "Commands completed successfully."
                    },
                    "metadata": {}
                },
                {
                    "output_type": "display_data",
                    "data": {
                        "text/html": "Total execution time: 00:00:00"
                    },
                    "metadata": {}
                }
            ],
            "execution_count": 18
        },
        {
            "cell_type": "markdown",
            "source": [
                "### **Summary of event 1:**\n",
                "\n",
                "Double Click to edit."
            ],
            "metadata": {
                "azdata_cell_guid": "3bc72d4c-077b-42d3-9528-9aff8e7b6cf3"
            },
            "attachments": {}
        },
        {
            "cell_type": "code",
            "source": [
                "-- Event 2 Query"
            ],
            "metadata": {
                "azdata_cell_guid": "dca0a98f-065f-4b0e-9d93-fcb01cad668c",
                "language": "sql"
            },
            "outputs": [],
            "execution_count": null
        },
        {
            "cell_type": "code",
            "source": [
                ""
            ],
            "metadata": {
                "azdata_cell_guid": "3aaae3a8-eff7-4b37-8970-2d913a67239b",
                "language": "sql"
            },
            "outputs": [],
            "execution_count": null
        },
        {
            "cell_type": "markdown",
            "source": [
                "### **Summary of event 2:**\n",
                "\n",
                "Double Click to edit."
            ],
            "metadata": {
                "azdata_cell_guid": "99d518dc-cd8b-42d6-9a9d-708771c9aa99"
            },
            "attachments": {}
        }
    ]
}